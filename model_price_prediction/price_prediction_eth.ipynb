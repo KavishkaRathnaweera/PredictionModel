{
 "nbformat": 4,
 "nbformat_minor": 0,
 "metadata": {
  "colab": {
   "provenance": []
  },
  "kernelspec": {
   "name": "python3",
   "language": "python",
   "display_name": "Python 3 (ipykernel)"
  },
  "language_info": {
   "name": "python"
  }
 },
 "cells": [
  {
   "cell_type": "markdown",
   "source": [
    "# Library Imports"
   ],
   "metadata": {
    "id": "7ZA4lOg8KjXj"
   }
  },
  {
   "cell_type": "code",
   "source": [
    "import pandas as pd\n",
    "import numpy as np\n",
    "import matplotlib.pyplot as plt\n",
    "import seaborn as sns\n",
    "sns.set(style='white', context='notebook', palette='deep')\n",
    "%matplotlib inline\n",
    "import lib.DB_lib as dl\n",
    "import lib.Data_lib as dtl\n",
    "import lib.VAE_lib as VAE\n",
    "import lib.WGAN_lib as WGAN\n",
    "from sklearn.decomposition import PCA\n",
    "import torch\n",
    "from joblib import dump, load\n",
    "import Constants"
   ],
   "metadata": {
    "id": "Xfb69I_kKgIq",
    "ExecuteTime": {
     "end_time": "2024-05-03T05:45:18.499413200Z",
     "start_time": "2024-05-03T05:45:15.734140400Z"
    }
   },
   "execution_count": 1,
   "outputs": []
  },
  {
   "cell_type": "markdown",
   "source": [
    "# Constants"
   ],
   "metadata": {
    "id": "Aww9rXEZ6pJ4"
   }
  },
  {
   "cell_type": "code",
   "source": [
    "num_components = Constants.num_components\n",
    "mills_for_1min = Constants.mills_for_1min\n",
    "sample_rate_1h = Constants.sample_rate_1h\n",
    "total_time_steps = Constants.test_total_time_steps\n",
    "no_of_points = Constants.test_no_of_points\n",
    "sliding_window_size = Constants.sliding_window_size\n",
    "symbol = 'ethusdt'\n",
    "interval = Constants.interval\n",
    "\n",
    "vae_model_path = 'VAE_model/vae_model_ethusdt.pth'\n",
    "min_max_scaler = 'scalar/min_max_scalar_ethusdt.pkl'\n",
    "standard_scaler = 'scalar/standard_scalar_ethusdt.pkl'\n",
    "wgan_x_scaler_path = 'trained_gan/wgan_x_scaler_ethusdt.pkl'\n",
    "wgan_y_scaler_path = 'trained_gan/wgan_y_scaler_ethusdt.pkl'"
   ],
   "metadata": {
    "id": "dVFH6DaM6riw",
    "ExecuteTime": {
     "end_time": "2024-05-04T02:45:06.858459600Z",
     "start_time": "2024-05-04T02:45:06.842833Z"
    }
   },
   "execution_count": 22,
   "outputs": []
  },
  {
   "cell_type": "code",
   "execution_count": 23,
   "outputs": [],
   "source": [
    "def sliding_window(x, window):\n",
    "    x_ = []\n",
    "    for i in range(window, x.shape[0]):\n",
    "        tmp_x = x[i - window: i, :]\n",
    "        x_.append(tmp_x)\n",
    "    x_ = torch.from_numpy(np.array(x_)).float()\n",
    "    return x_"
   ],
   "metadata": {
    "collapsed": false,
    "ExecuteTime": {
     "end_time": "2024-05-04T02:45:07.293339800Z",
     "start_time": "2024-05-04T02:45:07.277758100Z"
    }
   }
  },
  {
   "cell_type": "markdown",
   "source": [
    "# Data Import"
   ],
   "metadata": {
    "id": "jo5tkXk3Ka--"
   }
  },
  {
   "cell_type": "code",
   "execution_count": 24,
   "metadata": {
    "colab": {
     "base_uri": "https://localhost:8080/"
    },
    "id": "hsjCCmbnJ2GN",
    "outputId": "f53383cf-bca7-4ae0-ddea-90fda0da92b7",
    "ExecuteTime": {
     "end_time": "2024-05-04T02:45:08.108035800Z",
     "start_time": "2024-05-04T02:45:07.982585400Z"
    }
   },
   "outputs": [
    {
     "data": {
      "text/plain": "         start_time             closet_time        open       close  \\\n0     1714788900000 2024-05-04 02:29:59.999  0.72620000  0.72810000   \n1     1714788000000 2024-05-04 02:14:59.999  0.72940000  0.72620000   \n2     1714787100000 2024-05-04 01:59:59.999  0.73110000  0.72950000   \n3     1714786200000 2024-05-04 01:44:59.999  0.73440000  0.73130000   \n4     1714785300000 2024-05-04 01:29:59.999  0.73070000  0.73440000   \n...             ...                     ...         ...         ...   \n6995  1708493400000 2024-02-21 05:44:59.999  1.00100000  0.99500000   \n6996  1708492500000 2024-02-21 05:29:59.999  1.00420000  1.00090000   \n6997  1708491600000 2024-02-21 05:14:59.999  1.00040000  1.00420000   \n6998  1708490700000 2024-02-21 04:59:59.999  1.00540000  1.00030000   \n6999  1708489800000 2024-02-21 04:44:59.999  1.01140000  1.00540000   \n\n            high         low            volume  no_of_trades  \\\n0     0.72980000  0.72600000   459065.30000000           620   \n1     0.72950000  0.72590000   673222.10000000          1190   \n2     0.73130000  0.72910000   192127.80000000           430   \n3     0.73440000  0.73080000   302716.70000000           504   \n4     0.73470000  0.73020000   413288.00000000           684   \n...          ...         ...               ...           ...   \n6995  1.00170000  0.99380000  1233751.10000000          3105   \n6996  1.00460000  1.00000000   475056.60000000          1153   \n6997  1.00470000  0.99970000   528527.60000000          1589   \n6998  1.00590000  0.99600000  1648538.40000000          4688   \n6999  1.01170000  1.00110000  2068937.20000000          6167   \n\n     quote_taker_ast_vol buy_base_ast_vol taker_buy_quote_ast_vol  \n0        334263.58599000  297371.40000000         216519.64546000  \n1        489687.31299000  282117.60000000         205221.23923000  \n2        140281.42149000   80879.20000000          59062.91380000  \n3        221588.19687000  126075.70000000          92280.20110000  \n4        302473.81419000  224998.50000000         164697.86758000  \n...                  ...              ...                     ...  \n6995    1230467.99322000  524160.90000000         522716.92027000  \n6996     476084.02426000  208477.00000000         208903.86898000  \n6997     529934.89750000  327165.30000000         328027.13623000  \n6998    1648988.45151000  844131.30000000         844381.73988000  \n6999    2079865.06042000  875210.30000000         880235.13995000  \n\n[7000 rows x 11 columns]",
      "text/html": "<div>\n<style scoped>\n    .dataframe tbody tr th:only-of-type {\n        vertical-align: middle;\n    }\n\n    .dataframe tbody tr th {\n        vertical-align: top;\n    }\n\n    .dataframe thead th {\n        text-align: right;\n    }\n</style>\n<table border=\"1\" class=\"dataframe\">\n  <thead>\n    <tr style=\"text-align: right;\">\n      <th></th>\n      <th>start_time</th>\n      <th>closet_time</th>\n      <th>open</th>\n      <th>close</th>\n      <th>high</th>\n      <th>low</th>\n      <th>volume</th>\n      <th>no_of_trades</th>\n      <th>quote_taker_ast_vol</th>\n      <th>buy_base_ast_vol</th>\n      <th>taker_buy_quote_ast_vol</th>\n    </tr>\n  </thead>\n  <tbody>\n    <tr>\n      <th>0</th>\n      <td>1714788900000</td>\n      <td>2024-05-04 02:29:59.999</td>\n      <td>0.72620000</td>\n      <td>0.72810000</td>\n      <td>0.72980000</td>\n      <td>0.72600000</td>\n      <td>459065.30000000</td>\n      <td>620</td>\n      <td>334263.58599000</td>\n      <td>297371.40000000</td>\n      <td>216519.64546000</td>\n    </tr>\n    <tr>\n      <th>1</th>\n      <td>1714788000000</td>\n      <td>2024-05-04 02:14:59.999</td>\n      <td>0.72940000</td>\n      <td>0.72620000</td>\n      <td>0.72950000</td>\n      <td>0.72590000</td>\n      <td>673222.10000000</td>\n      <td>1190</td>\n      <td>489687.31299000</td>\n      <td>282117.60000000</td>\n      <td>205221.23923000</td>\n    </tr>\n    <tr>\n      <th>2</th>\n      <td>1714787100000</td>\n      <td>2024-05-04 01:59:59.999</td>\n      <td>0.73110000</td>\n      <td>0.72950000</td>\n      <td>0.73130000</td>\n      <td>0.72910000</td>\n      <td>192127.80000000</td>\n      <td>430</td>\n      <td>140281.42149000</td>\n      <td>80879.20000000</td>\n      <td>59062.91380000</td>\n    </tr>\n    <tr>\n      <th>3</th>\n      <td>1714786200000</td>\n      <td>2024-05-04 01:44:59.999</td>\n      <td>0.73440000</td>\n      <td>0.73130000</td>\n      <td>0.73440000</td>\n      <td>0.73080000</td>\n      <td>302716.70000000</td>\n      <td>504</td>\n      <td>221588.19687000</td>\n      <td>126075.70000000</td>\n      <td>92280.20110000</td>\n    </tr>\n    <tr>\n      <th>4</th>\n      <td>1714785300000</td>\n      <td>2024-05-04 01:29:59.999</td>\n      <td>0.73070000</td>\n      <td>0.73440000</td>\n      <td>0.73470000</td>\n      <td>0.73020000</td>\n      <td>413288.00000000</td>\n      <td>684</td>\n      <td>302473.81419000</td>\n      <td>224998.50000000</td>\n      <td>164697.86758000</td>\n    </tr>\n    <tr>\n      <th>...</th>\n      <td>...</td>\n      <td>...</td>\n      <td>...</td>\n      <td>...</td>\n      <td>...</td>\n      <td>...</td>\n      <td>...</td>\n      <td>...</td>\n      <td>...</td>\n      <td>...</td>\n      <td>...</td>\n    </tr>\n    <tr>\n      <th>6995</th>\n      <td>1708493400000</td>\n      <td>2024-02-21 05:44:59.999</td>\n      <td>1.00100000</td>\n      <td>0.99500000</td>\n      <td>1.00170000</td>\n      <td>0.99380000</td>\n      <td>1233751.10000000</td>\n      <td>3105</td>\n      <td>1230467.99322000</td>\n      <td>524160.90000000</td>\n      <td>522716.92027000</td>\n    </tr>\n    <tr>\n      <th>6996</th>\n      <td>1708492500000</td>\n      <td>2024-02-21 05:29:59.999</td>\n      <td>1.00420000</td>\n      <td>1.00090000</td>\n      <td>1.00460000</td>\n      <td>1.00000000</td>\n      <td>475056.60000000</td>\n      <td>1153</td>\n      <td>476084.02426000</td>\n      <td>208477.00000000</td>\n      <td>208903.86898000</td>\n    </tr>\n    <tr>\n      <th>6997</th>\n      <td>1708491600000</td>\n      <td>2024-02-21 05:14:59.999</td>\n      <td>1.00040000</td>\n      <td>1.00420000</td>\n      <td>1.00470000</td>\n      <td>0.99970000</td>\n      <td>528527.60000000</td>\n      <td>1589</td>\n      <td>529934.89750000</td>\n      <td>327165.30000000</td>\n      <td>328027.13623000</td>\n    </tr>\n    <tr>\n      <th>6998</th>\n      <td>1708490700000</td>\n      <td>2024-02-21 04:59:59.999</td>\n      <td>1.00540000</td>\n      <td>1.00030000</td>\n      <td>1.00590000</td>\n      <td>0.99600000</td>\n      <td>1648538.40000000</td>\n      <td>4688</td>\n      <td>1648988.45151000</td>\n      <td>844131.30000000</td>\n      <td>844381.73988000</td>\n    </tr>\n    <tr>\n      <th>6999</th>\n      <td>1708489800000</td>\n      <td>2024-02-21 04:44:59.999</td>\n      <td>1.01140000</td>\n      <td>1.00540000</td>\n      <td>1.01170000</td>\n      <td>1.00110000</td>\n      <td>2068937.20000000</td>\n      <td>6167</td>\n      <td>2079865.06042000</td>\n      <td>875210.30000000</td>\n      <td>880235.13995000</td>\n    </tr>\n  </tbody>\n</table>\n<p>7000 rows × 11 columns</p>\n</div>"
     },
     "execution_count": 24,
     "metadata": {},
     "output_type": "execute_result"
    }
   ],
   "source": [
    "data_frame = dl.get_dataset_for_time_period(symbol, interval, total_time_steps)\n",
    "data_frame['closet_time'] = pd.to_datetime(data_frame['closet_time'], unit='ms')\n",
    "data_frame"
   ]
  },
  {
   "cell_type": "markdown",
   "source": [
    "## Create upper level DataFrame"
   ],
   "metadata": {
    "id": "FPiuirGz_mMt"
   }
  },
  {
   "cell_type": "code",
   "source": [
    "df_list = []\n",
    "for k in range(sample_rate_1h):\n",
    "    df = pd.DataFrame()\n",
    "    for i in range(no_of_points):\n",
    "        ending_point = i*sample_rate_1h+k\n",
    "        starting_point = (i+1)*sample_rate_1h-1+k\n",
    "        closet_time = data_frame.loc[ending_point, 'closet_time']\n",
    "        open_price = data_frame.loc[starting_point, 'open'] \n",
    "        close_price = data_frame.loc[ending_point, 'close'] \n",
    "        high_price = data_frame.loc[ending_point:starting_point, 'high'].max()\n",
    "        low_price = data_frame.loc[ending_point:starting_point, 'low'].max()\n",
    "        volume = data_frame.loc[ending_point:starting_point, 'volume'].sum()\n",
    "        no_of_trades = data_frame.loc[ending_point:starting_point, 'no_of_trades'].sum()\n",
    "        quote_taker_ast_vol = data_frame.loc[ending_point:starting_point, 'quote_taker_ast_vol'].sum()\n",
    "        buy_base_ast_vol = data_frame.loc[ending_point:starting_point, 'buy_base_ast_vol'].sum()\n",
    "        taker_buy_quote_ast_vol = data_frame.loc[ending_point:starting_point, 'taker_buy_quote_ast_vol'].sum()\n",
    "        df = df._append({'closet_time': closet_time, \n",
    "                        'open': open_price, \n",
    "                        'close': close_price, \n",
    "                        'high': high_price, \n",
    "                        'low': low_price, \n",
    "                        'volume': volume, \n",
    "                        'no_of_trades': no_of_trades, \n",
    "                        'quote_taker_ast_vol': quote_taker_ast_vol, \n",
    "                        'buy_base_ast_vol': buy_base_ast_vol, \n",
    "                        'taker_buy_quote_ast_vol': taker_buy_quote_ast_vol}, ignore_index=True)\n",
    "    df_list.append(df)   \n",
    "\n",
    "for i in range(len(df_list)):\n",
    "    print(df_list[i]['closet_time'])    "
   ],
   "metadata": {
    "id": "JUbDfk1u71-y",
    "outputId": "7ee3f455-1bc7-44fd-d018-538ebd7b9d0e",
    "colab": {
     "base_uri": "https://localhost:8080/"
    },
    "ExecuteTime": {
     "end_time": "2024-05-04T02:45:26.251315100Z",
     "start_time": "2024-05-04T02:45:08.852300400Z"
    }
   },
   "execution_count": 25,
   "outputs": [
    {
     "name": "stdout",
     "output_type": "stream",
     "text": [
      "0     2024-05-04 02:29:59.999\n",
      "1     2024-05-03 22:29:59.999\n",
      "2     2024-05-03 18:29:59.999\n",
      "3     2024-05-03 14:29:59.999\n",
      "4     2024-05-03 10:29:59.999\n",
      "                ...          \n",
      "395   2024-02-28 06:29:59.999\n",
      "396   2024-02-28 02:29:59.999\n",
      "397   2024-02-27 22:29:59.999\n",
      "398   2024-02-27 18:29:59.999\n",
      "399   2024-02-27 14:29:59.999\n",
      "Name: closet_time, Length: 400, dtype: datetime64[ns]\n",
      "0     2024-05-04 02:14:59.999\n",
      "1     2024-05-03 22:14:59.999\n",
      "2     2024-05-03 18:14:59.999\n",
      "3     2024-05-03 14:14:59.999\n",
      "4     2024-05-03 10:14:59.999\n",
      "                ...          \n",
      "395   2024-02-28 06:14:59.999\n",
      "396   2024-02-28 02:14:59.999\n",
      "397   2024-02-27 22:14:59.999\n",
      "398   2024-02-27 18:14:59.999\n",
      "399   2024-02-27 14:14:59.999\n",
      "Name: closet_time, Length: 400, dtype: datetime64[ns]\n",
      "0     2024-05-04 01:59:59.999\n",
      "1     2024-05-03 21:59:59.999\n",
      "2     2024-05-03 17:59:59.999\n",
      "3     2024-05-03 13:59:59.999\n",
      "4     2024-05-03 09:59:59.999\n",
      "                ...          \n",
      "395   2024-02-28 05:59:59.999\n",
      "396   2024-02-28 01:59:59.999\n",
      "397   2024-02-27 21:59:59.999\n",
      "398   2024-02-27 17:59:59.999\n",
      "399   2024-02-27 13:59:59.999\n",
      "Name: closet_time, Length: 400, dtype: datetime64[ns]\n",
      "0     2024-05-04 01:44:59.999\n",
      "1     2024-05-03 21:44:59.999\n",
      "2     2024-05-03 17:44:59.999\n",
      "3     2024-05-03 13:44:59.999\n",
      "4     2024-05-03 09:44:59.999\n",
      "                ...          \n",
      "395   2024-02-28 05:44:59.999\n",
      "396   2024-02-28 01:44:59.999\n",
      "397   2024-02-27 21:44:59.999\n",
      "398   2024-02-27 17:44:59.999\n",
      "399   2024-02-27 13:44:59.999\n",
      "Name: closet_time, Length: 400, dtype: datetime64[ns]\n",
      "0     2024-05-04 01:29:59.999\n",
      "1     2024-05-03 21:29:59.999\n",
      "2     2024-05-03 17:29:59.999\n",
      "3     2024-05-03 13:29:59.999\n",
      "4     2024-05-03 09:29:59.999\n",
      "                ...          \n",
      "395   2024-02-28 05:29:59.999\n",
      "396   2024-02-28 01:29:59.999\n",
      "397   2024-02-27 21:29:59.999\n",
      "398   2024-02-27 17:29:59.999\n",
      "399   2024-02-27 13:29:59.999\n",
      "Name: closet_time, Length: 400, dtype: datetime64[ns]\n",
      "0     2024-05-04 01:14:59.999\n",
      "1     2024-05-03 21:14:59.999\n",
      "2     2024-05-03 17:14:59.999\n",
      "3     2024-05-03 13:14:59.999\n",
      "4     2024-05-03 09:14:59.999\n",
      "                ...          \n",
      "395   2024-02-28 05:14:59.999\n",
      "396   2024-02-28 01:14:59.999\n",
      "397   2024-02-27 21:14:59.999\n",
      "398   2024-02-27 17:14:59.999\n",
      "399   2024-02-27 13:14:59.999\n",
      "Name: closet_time, Length: 400, dtype: datetime64[ns]\n",
      "0     2024-05-04 00:59:59.999\n",
      "1     2024-05-03 20:59:59.999\n",
      "2     2024-05-03 16:59:59.999\n",
      "3     2024-05-03 12:59:59.999\n",
      "4     2024-05-03 08:59:59.999\n",
      "                ...          \n",
      "395   2024-02-28 04:59:59.999\n",
      "396   2024-02-28 00:59:59.999\n",
      "397   2024-02-27 20:59:59.999\n",
      "398   2024-02-27 16:59:59.999\n",
      "399   2024-02-27 12:59:59.999\n",
      "Name: closet_time, Length: 400, dtype: datetime64[ns]\n",
      "0     2024-05-04 00:44:59.999\n",
      "1     2024-05-03 20:44:59.999\n",
      "2     2024-05-03 16:44:59.999\n",
      "3     2024-05-03 12:44:59.999\n",
      "4     2024-05-03 08:44:59.999\n",
      "                ...          \n",
      "395   2024-02-28 04:44:59.999\n",
      "396   2024-02-28 00:44:59.999\n",
      "397   2024-02-27 20:44:59.999\n",
      "398   2024-02-27 16:44:59.999\n",
      "399   2024-02-27 12:44:59.999\n",
      "Name: closet_time, Length: 400, dtype: datetime64[ns]\n",
      "0     2024-05-04 00:29:59.999\n",
      "1     2024-05-03 20:29:59.999\n",
      "2     2024-05-03 16:29:59.999\n",
      "3     2024-05-03 12:29:59.999\n",
      "4     2024-05-03 08:29:59.999\n",
      "                ...          \n",
      "395   2024-02-28 04:29:59.999\n",
      "396   2024-02-28 00:29:59.999\n",
      "397   2024-02-27 20:29:59.999\n",
      "398   2024-02-27 16:29:59.999\n",
      "399   2024-02-27 12:29:59.999\n",
      "Name: closet_time, Length: 400, dtype: datetime64[ns]\n",
      "0     2024-05-04 00:14:59.999\n",
      "1     2024-05-03 20:14:59.999\n",
      "2     2024-05-03 16:14:59.999\n",
      "3     2024-05-03 12:14:59.999\n",
      "4     2024-05-03 08:14:59.999\n",
      "                ...          \n",
      "395   2024-02-28 04:14:59.999\n",
      "396   2024-02-28 00:14:59.999\n",
      "397   2024-02-27 20:14:59.999\n",
      "398   2024-02-27 16:14:59.999\n",
      "399   2024-02-27 12:14:59.999\n",
      "Name: closet_time, Length: 400, dtype: datetime64[ns]\n",
      "0     2024-05-03 23:59:59.999\n",
      "1     2024-05-03 19:59:59.999\n",
      "2     2024-05-03 15:59:59.999\n",
      "3     2024-05-03 11:59:59.999\n",
      "4     2024-05-03 07:59:59.999\n",
      "                ...          \n",
      "395   2024-02-28 03:59:59.999\n",
      "396   2024-02-27 23:59:59.999\n",
      "397   2024-02-27 19:59:59.999\n",
      "398   2024-02-27 15:59:59.999\n",
      "399   2024-02-27 11:59:59.999\n",
      "Name: closet_time, Length: 400, dtype: datetime64[ns]\n",
      "0     2024-05-03 23:44:59.999\n",
      "1     2024-05-03 19:44:59.999\n",
      "2     2024-05-03 15:44:59.999\n",
      "3     2024-05-03 11:44:59.999\n",
      "4     2024-05-03 07:44:59.999\n",
      "                ...          \n",
      "395   2024-02-28 03:44:59.999\n",
      "396   2024-02-27 23:44:59.999\n",
      "397   2024-02-27 19:44:59.999\n",
      "398   2024-02-27 15:44:59.999\n",
      "399   2024-02-27 11:44:59.999\n",
      "Name: closet_time, Length: 400, dtype: datetime64[ns]\n",
      "0     2024-05-03 23:29:59.999\n",
      "1     2024-05-03 19:29:59.999\n",
      "2     2024-05-03 15:29:59.999\n",
      "3     2024-05-03 11:29:59.999\n",
      "4     2024-05-03 07:29:59.999\n",
      "                ...          \n",
      "395   2024-02-28 03:29:59.999\n",
      "396   2024-02-27 23:29:59.999\n",
      "397   2024-02-27 19:29:59.999\n",
      "398   2024-02-27 15:29:59.999\n",
      "399   2024-02-27 11:29:59.999\n",
      "Name: closet_time, Length: 400, dtype: datetime64[ns]\n",
      "0     2024-05-03 23:14:59.999\n",
      "1     2024-05-03 19:14:59.999\n",
      "2     2024-05-03 15:14:59.999\n",
      "3     2024-05-03 11:14:59.999\n",
      "4     2024-05-03 07:14:59.999\n",
      "                ...          \n",
      "395   2024-02-28 03:14:59.999\n",
      "396   2024-02-27 23:14:59.999\n",
      "397   2024-02-27 19:14:59.999\n",
      "398   2024-02-27 15:14:59.999\n",
      "399   2024-02-27 11:14:59.999\n",
      "Name: closet_time, Length: 400, dtype: datetime64[ns]\n",
      "0     2024-05-03 22:59:59.999\n",
      "1     2024-05-03 18:59:59.999\n",
      "2     2024-05-03 14:59:59.999\n",
      "3     2024-05-03 10:59:59.999\n",
      "4     2024-05-03 06:59:59.999\n",
      "                ...          \n",
      "395   2024-02-28 02:59:59.999\n",
      "396   2024-02-27 22:59:59.999\n",
      "397   2024-02-27 18:59:59.999\n",
      "398   2024-02-27 14:59:59.999\n",
      "399   2024-02-27 10:59:59.999\n",
      "Name: closet_time, Length: 400, dtype: datetime64[ns]\n",
      "0     2024-05-03 22:44:59.999\n",
      "1     2024-05-03 18:44:59.999\n",
      "2     2024-05-03 14:44:59.999\n",
      "3     2024-05-03 10:44:59.999\n",
      "4     2024-05-03 06:44:59.999\n",
      "                ...          \n",
      "395   2024-02-28 02:44:59.999\n",
      "396   2024-02-27 22:44:59.999\n",
      "397   2024-02-27 18:44:59.999\n",
      "398   2024-02-27 14:44:59.999\n",
      "399   2024-02-27 10:44:59.999\n",
      "Name: closet_time, Length: 400, dtype: datetime64[ns]\n"
     ]
    }
   ]
  },
  {
   "cell_type": "markdown",
   "source": [
    "# Data Visualization & Preprocess"
   ],
   "metadata": {
    "id": "5PPwnQXFLLxw"
   }
  },
  {
   "cell_type": "code",
   "source": [
    "use_cuda = 0\n",
    "device = \"cpu\"\n",
    "output = []\n",
    "for i in range(len(df_list)):\n",
    "    dataset_ex_df = df_list[i]\n",
    "    dataset_ex_df = dataset_ex_df.iloc[::-1]\n",
    "    dataset_ex_df.reset_index(drop=True, inplace=True)\n",
    "    #--------------------------------------------------------------------------------------------------------\n",
    "    dataset_ex_df['pct_change'] = (dataset_ex_df['close'] - dataset_ex_df['close'].shift(1))/ dataset_ex_df['close'].shift(1)\n",
    "    dataset_ex_df['log_change'] = np.log((dataset_ex_df['close']/ dataset_ex_df['close'].shift(1)).astype(float))\n",
    "    dataset_ex_df['prev_close'] = dataset_ex_df['close'].shift(2)\n",
    "    dataset_ex_df = dataset_ex_df.dropna()\n",
    "    #-------------------------------------------------------------------------------------------------------\n",
    "    dataset_Idc = dtl.CreateInc(dataset_ex_df,\"close\",\"high\",\"low\",\"volume\")\n",
    "    #--------------------------------------------------------------------------------------------------------\n",
    "    close_fft = np.fft.fft(np.asarray(dataset_Idc['close'].tolist()))\n",
    "    fft_df = pd.DataFrame({'fft':close_fft})\n",
    "    fft_df['absolute'] = fft_df['fft'].apply(lambda x: np.abs(x))\n",
    "    fft_df['angle'] = fft_df['fft'].apply(lambda x: np.angle(x))\n",
    "    output_df_fft = fft_df.copy()\n",
    "    \n",
    "    fft_list = np.asarray(fft_df['fft'].tolist())\n",
    "    for num_ in [3, 6, 9, 27, 81, 100]:\n",
    "        fft_list_m10= np.copy(fft_list) \n",
    "        fft_list_m10[num_:-num_]=0\n",
    "        output_df_fft[f'FT_{num_}components'] = np.fft.ifft(fft_list_m10).astype('float')\n",
    "        \n",
    "    df_idc_fft = pd.concat([dataset_Idc,output_df_fft[[\"FT_3components\",\"FT_6components\",\"FT_9components\",\"FT_27components\",\"FT_81components\",\"FT_100components\"]]], axis=1)\n",
    "    \n",
    "    #--------------------------------------------------------------------------------------------------\n",
    "    # data = df_idc_fft.iloc[:,1:]\n",
    "    # data.drop('close', axis=1, inplace=True)\n",
    "    # features = data.shape[1]\n",
    "    # x = data.values\n",
    "    # x_scaler = load(min_max_scaler)\n",
    "    # train_x = x_scaler.fit_transform(x)\n",
    "    # model = VAE.VAE([features, 400, 400, 400, 10], 10)\n",
    "    # model.load_state_dict(torch.load(vae_model_path))\n",
    "    # model.eval()\n",
    "    # _, VAE_train_x, train_x_mu, train_x_var = model(torch.from_numpy(train_x).float().to(device))\n",
    "    # df_tr = pd.DataFrame(VAE_train_x.cpu().detach().numpy(), columns=['enc1', 'enc2', 'enc3', 'enc4', 'enc5', 'enc6', 'enc7', 'enc8', 'enc9', 'enc10'])\n",
    "    # df_idc_fft_vae = pd.concat([df_idc_fft, df_tr], axis=1)\n",
    "    # df_idc_fft = df_idc_fft_vae\n",
    "    #-------------------------------------------------------------------------------------------------------------------\n",
    "    \n",
    "    \n",
    "    df_pca=df_idc_fft.drop(['closet_time'], axis=1)\n",
    "    X = df_pca.values # matrix of dataframe \n",
    "    sc = load(standard_scaler)\n",
    "    X_std = sc.fit_transform(X) # standardizing the data\n",
    "    pca = PCA(num_components)  \n",
    "    X_pca = pca.fit_transform(X_std)\n",
    "    df_PCA=X_pca.copy()\n",
    "    df_PCA = pd.DataFrame(df_PCA,columns=[\"pca1\",\"pca2\",\"pca3\",\"pca4\",\"pca5\",\"pca6\",\"pca7\",\"pca8\",\"pca9\",\"pca10\",\"pca11\",\"pca12\",\"pca13\",\"pca14\",\"pca15\",\"pca16\",\"pca17\"])\n",
    "    \n",
    "    #-----------------------------------------------------------------------------------------------------------------------\n",
    "\n",
    "    output.append(df_PCA)"
   ],
   "metadata": {
    "id": "LhcTs4Dkx1Hp",
    "ExecuteTime": {
     "end_time": "2024-05-04T02:45:26.804771600Z",
     "start_time": "2024-05-04T02:45:26.266937100Z"
    }
   },
   "execution_count": 26,
   "outputs": [
    {
     "name": "stderr",
     "output_type": "stream",
     "text": [
      "C:\\Users\\KAVISHKA\\AppData\\Local\\Temp\\ipykernel_24556\\1734348001.py:9: SettingWithCopyWarning: \n",
      "A value is trying to be set on a copy of a slice from a DataFrame.\n",
      "Try using .loc[row_indexer,col_indexer] = value instead\n",
      "\n",
      "See the caveats in the documentation: https://pandas.pydata.org/pandas-docs/stable/user_guide/indexing.html#returning-a-view-versus-a-copy\n",
      "  dataset_ex_df['pct_change'] = (dataset_ex_df['close'] - dataset_ex_df['close'].shift(1))/ dataset_ex_df['close'].shift(1)\n",
      "C:\\Users\\KAVISHKA\\AppData\\Local\\Temp\\ipykernel_24556\\1734348001.py:10: SettingWithCopyWarning: \n",
      "A value is trying to be set on a copy of a slice from a DataFrame.\n",
      "Try using .loc[row_indexer,col_indexer] = value instead\n",
      "\n",
      "See the caveats in the documentation: https://pandas.pydata.org/pandas-docs/stable/user_guide/indexing.html#returning-a-view-versus-a-copy\n",
      "  dataset_ex_df['log_change'] = np.log((dataset_ex_df['close']/ dataset_ex_df['close'].shift(1)).astype(float))\n",
      "C:\\Users\\KAVISHKA\\AppData\\Local\\Temp\\ipykernel_24556\\1734348001.py:11: SettingWithCopyWarning: \n",
      "A value is trying to be set on a copy of a slice from a DataFrame.\n",
      "Try using .loc[row_indexer,col_indexer] = value instead\n",
      "\n",
      "See the caveats in the documentation: https://pandas.pydata.org/pandas-docs/stable/user_guide/indexing.html#returning-a-view-versus-a-copy\n",
      "  dataset_ex_df['prev_close'] = dataset_ex_df['close'].shift(2)\n",
      "C:\\Users\\KAVISHKA\\AppData\\Local\\Temp\\ipykernel_24556\\1734348001.py:26: ComplexWarning: Casting complex values to real discards the imaginary part\n",
      "  output_df_fft[f'FT_{num_}components'] = np.fft.ifft(fft_list_m10).astype('float')\n",
      "C:\\Users\\KAVISHKA\\AppData\\Local\\Temp\\ipykernel_24556\\1734348001.py:26: ComplexWarning: Casting complex values to real discards the imaginary part\n",
      "  output_df_fft[f'FT_{num_}components'] = np.fft.ifft(fft_list_m10).astype('float')\n",
      "C:\\Users\\KAVISHKA\\AppData\\Local\\Temp\\ipykernel_24556\\1734348001.py:26: ComplexWarning: Casting complex values to real discards the imaginary part\n",
      "  output_df_fft[f'FT_{num_}components'] = np.fft.ifft(fft_list_m10).astype('float')\n",
      "C:\\Users\\KAVISHKA\\AppData\\Local\\Temp\\ipykernel_24556\\1734348001.py:26: ComplexWarning: Casting complex values to real discards the imaginary part\n",
      "  output_df_fft[f'FT_{num_}components'] = np.fft.ifft(fft_list_m10).astype('float')\n",
      "C:\\Users\\KAVISHKA\\AppData\\Local\\Temp\\ipykernel_24556\\1734348001.py:26: ComplexWarning: Casting complex values to real discards the imaginary part\n",
      "  output_df_fft[f'FT_{num_}components'] = np.fft.ifft(fft_list_m10).astype('float')\n",
      "C:\\Users\\KAVISHKA\\AppData\\Local\\Temp\\ipykernel_24556\\1734348001.py:26: ComplexWarning: Casting complex values to real discards the imaginary part\n",
      "  output_df_fft[f'FT_{num_}components'] = np.fft.ifft(fft_list_m10).astype('float')\n",
      "C:\\Users\\KAVISHKA\\AppData\\Local\\Temp\\ipykernel_24556\\1734348001.py:9: SettingWithCopyWarning: \n",
      "A value is trying to be set on a copy of a slice from a DataFrame.\n",
      "Try using .loc[row_indexer,col_indexer] = value instead\n",
      "\n",
      "See the caveats in the documentation: https://pandas.pydata.org/pandas-docs/stable/user_guide/indexing.html#returning-a-view-versus-a-copy\n",
      "  dataset_ex_df['pct_change'] = (dataset_ex_df['close'] - dataset_ex_df['close'].shift(1))/ dataset_ex_df['close'].shift(1)\n",
      "C:\\Users\\KAVISHKA\\AppData\\Local\\Temp\\ipykernel_24556\\1734348001.py:10: SettingWithCopyWarning: \n",
      "A value is trying to be set on a copy of a slice from a DataFrame.\n",
      "Try using .loc[row_indexer,col_indexer] = value instead\n",
      "\n",
      "See the caveats in the documentation: https://pandas.pydata.org/pandas-docs/stable/user_guide/indexing.html#returning-a-view-versus-a-copy\n",
      "  dataset_ex_df['log_change'] = np.log((dataset_ex_df['close']/ dataset_ex_df['close'].shift(1)).astype(float))\n",
      "C:\\Users\\KAVISHKA\\AppData\\Local\\Temp\\ipykernel_24556\\1734348001.py:11: SettingWithCopyWarning: \n",
      "A value is trying to be set on a copy of a slice from a DataFrame.\n",
      "Try using .loc[row_indexer,col_indexer] = value instead\n",
      "\n",
      "See the caveats in the documentation: https://pandas.pydata.org/pandas-docs/stable/user_guide/indexing.html#returning-a-view-versus-a-copy\n",
      "  dataset_ex_df['prev_close'] = dataset_ex_df['close'].shift(2)\n",
      "C:\\Users\\KAVISHKA\\AppData\\Local\\Temp\\ipykernel_24556\\1734348001.py:26: ComplexWarning: Casting complex values to real discards the imaginary part\n",
      "  output_df_fft[f'FT_{num_}components'] = np.fft.ifft(fft_list_m10).astype('float')\n",
      "C:\\Users\\KAVISHKA\\AppData\\Local\\Temp\\ipykernel_24556\\1734348001.py:26: ComplexWarning: Casting complex values to real discards the imaginary part\n",
      "  output_df_fft[f'FT_{num_}components'] = np.fft.ifft(fft_list_m10).astype('float')\n",
      "C:\\Users\\KAVISHKA\\AppData\\Local\\Temp\\ipykernel_24556\\1734348001.py:26: ComplexWarning: Casting complex values to real discards the imaginary part\n",
      "  output_df_fft[f'FT_{num_}components'] = np.fft.ifft(fft_list_m10).astype('float')\n",
      "C:\\Users\\KAVISHKA\\AppData\\Local\\Temp\\ipykernel_24556\\1734348001.py:26: ComplexWarning: Casting complex values to real discards the imaginary part\n",
      "  output_df_fft[f'FT_{num_}components'] = np.fft.ifft(fft_list_m10).astype('float')\n",
      "C:\\Users\\KAVISHKA\\AppData\\Local\\Temp\\ipykernel_24556\\1734348001.py:26: ComplexWarning: Casting complex values to real discards the imaginary part\n",
      "  output_df_fft[f'FT_{num_}components'] = np.fft.ifft(fft_list_m10).astype('float')\n",
      "C:\\Users\\KAVISHKA\\AppData\\Local\\Temp\\ipykernel_24556\\1734348001.py:26: ComplexWarning: Casting complex values to real discards the imaginary part\n",
      "  output_df_fft[f'FT_{num_}components'] = np.fft.ifft(fft_list_m10).astype('float')\n",
      "C:\\Users\\KAVISHKA\\AppData\\Local\\Temp\\ipykernel_24556\\1734348001.py:9: SettingWithCopyWarning: \n",
      "A value is trying to be set on a copy of a slice from a DataFrame.\n",
      "Try using .loc[row_indexer,col_indexer] = value instead\n",
      "\n",
      "See the caveats in the documentation: https://pandas.pydata.org/pandas-docs/stable/user_guide/indexing.html#returning-a-view-versus-a-copy\n",
      "  dataset_ex_df['pct_change'] = (dataset_ex_df['close'] - dataset_ex_df['close'].shift(1))/ dataset_ex_df['close'].shift(1)\n",
      "C:\\Users\\KAVISHKA\\AppData\\Local\\Temp\\ipykernel_24556\\1734348001.py:10: SettingWithCopyWarning: \n",
      "A value is trying to be set on a copy of a slice from a DataFrame.\n",
      "Try using .loc[row_indexer,col_indexer] = value instead\n",
      "\n",
      "See the caveats in the documentation: https://pandas.pydata.org/pandas-docs/stable/user_guide/indexing.html#returning-a-view-versus-a-copy\n",
      "  dataset_ex_df['log_change'] = np.log((dataset_ex_df['close']/ dataset_ex_df['close'].shift(1)).astype(float))\n",
      "C:\\Users\\KAVISHKA\\AppData\\Local\\Temp\\ipykernel_24556\\1734348001.py:11: SettingWithCopyWarning: \n",
      "A value is trying to be set on a copy of a slice from a DataFrame.\n",
      "Try using .loc[row_indexer,col_indexer] = value instead\n",
      "\n",
      "See the caveats in the documentation: https://pandas.pydata.org/pandas-docs/stable/user_guide/indexing.html#returning-a-view-versus-a-copy\n",
      "  dataset_ex_df['prev_close'] = dataset_ex_df['close'].shift(2)\n",
      "C:\\Users\\KAVISHKA\\AppData\\Local\\Temp\\ipykernel_24556\\1734348001.py:26: ComplexWarning: Casting complex values to real discards the imaginary part\n",
      "  output_df_fft[f'FT_{num_}components'] = np.fft.ifft(fft_list_m10).astype('float')\n",
      "C:\\Users\\KAVISHKA\\AppData\\Local\\Temp\\ipykernel_24556\\1734348001.py:26: ComplexWarning: Casting complex values to real discards the imaginary part\n",
      "  output_df_fft[f'FT_{num_}components'] = np.fft.ifft(fft_list_m10).astype('float')\n",
      "C:\\Users\\KAVISHKA\\AppData\\Local\\Temp\\ipykernel_24556\\1734348001.py:26: ComplexWarning: Casting complex values to real discards the imaginary part\n",
      "  output_df_fft[f'FT_{num_}components'] = np.fft.ifft(fft_list_m10).astype('float')\n",
      "C:\\Users\\KAVISHKA\\AppData\\Local\\Temp\\ipykernel_24556\\1734348001.py:26: ComplexWarning: Casting complex values to real discards the imaginary part\n",
      "  output_df_fft[f'FT_{num_}components'] = np.fft.ifft(fft_list_m10).astype('float')\n",
      "C:\\Users\\KAVISHKA\\AppData\\Local\\Temp\\ipykernel_24556\\1734348001.py:26: ComplexWarning: Casting complex values to real discards the imaginary part\n",
      "  output_df_fft[f'FT_{num_}components'] = np.fft.ifft(fft_list_m10).astype('float')\n",
      "C:\\Users\\KAVISHKA\\AppData\\Local\\Temp\\ipykernel_24556\\1734348001.py:26: ComplexWarning: Casting complex values to real discards the imaginary part\n",
      "  output_df_fft[f'FT_{num_}components'] = np.fft.ifft(fft_list_m10).astype('float')\n",
      "C:\\Users\\KAVISHKA\\AppData\\Local\\Temp\\ipykernel_24556\\1734348001.py:9: SettingWithCopyWarning: \n",
      "A value is trying to be set on a copy of a slice from a DataFrame.\n",
      "Try using .loc[row_indexer,col_indexer] = value instead\n",
      "\n",
      "See the caveats in the documentation: https://pandas.pydata.org/pandas-docs/stable/user_guide/indexing.html#returning-a-view-versus-a-copy\n",
      "  dataset_ex_df['pct_change'] = (dataset_ex_df['close'] - dataset_ex_df['close'].shift(1))/ dataset_ex_df['close'].shift(1)\n",
      "C:\\Users\\KAVISHKA\\AppData\\Local\\Temp\\ipykernel_24556\\1734348001.py:10: SettingWithCopyWarning: \n",
      "A value is trying to be set on a copy of a slice from a DataFrame.\n",
      "Try using .loc[row_indexer,col_indexer] = value instead\n",
      "\n",
      "See the caveats in the documentation: https://pandas.pydata.org/pandas-docs/stable/user_guide/indexing.html#returning-a-view-versus-a-copy\n",
      "  dataset_ex_df['log_change'] = np.log((dataset_ex_df['close']/ dataset_ex_df['close'].shift(1)).astype(float))\n",
      "C:\\Users\\KAVISHKA\\AppData\\Local\\Temp\\ipykernel_24556\\1734348001.py:11: SettingWithCopyWarning: \n",
      "A value is trying to be set on a copy of a slice from a DataFrame.\n",
      "Try using .loc[row_indexer,col_indexer] = value instead\n",
      "\n",
      "See the caveats in the documentation: https://pandas.pydata.org/pandas-docs/stable/user_guide/indexing.html#returning-a-view-versus-a-copy\n",
      "  dataset_ex_df['prev_close'] = dataset_ex_df['close'].shift(2)\n",
      "C:\\Users\\KAVISHKA\\AppData\\Local\\Temp\\ipykernel_24556\\1734348001.py:26: ComplexWarning: Casting complex values to real discards the imaginary part\n",
      "  output_df_fft[f'FT_{num_}components'] = np.fft.ifft(fft_list_m10).astype('float')\n",
      "C:\\Users\\KAVISHKA\\AppData\\Local\\Temp\\ipykernel_24556\\1734348001.py:26: ComplexWarning: Casting complex values to real discards the imaginary part\n",
      "  output_df_fft[f'FT_{num_}components'] = np.fft.ifft(fft_list_m10).astype('float')\n",
      "C:\\Users\\KAVISHKA\\AppData\\Local\\Temp\\ipykernel_24556\\1734348001.py:26: ComplexWarning: Casting complex values to real discards the imaginary part\n",
      "  output_df_fft[f'FT_{num_}components'] = np.fft.ifft(fft_list_m10).astype('float')\n",
      "C:\\Users\\KAVISHKA\\AppData\\Local\\Temp\\ipykernel_24556\\1734348001.py:26: ComplexWarning: Casting complex values to real discards the imaginary part\n",
      "  output_df_fft[f'FT_{num_}components'] = np.fft.ifft(fft_list_m10).astype('float')\n",
      "C:\\Users\\KAVISHKA\\AppData\\Local\\Temp\\ipykernel_24556\\1734348001.py:26: ComplexWarning: Casting complex values to real discards the imaginary part\n",
      "  output_df_fft[f'FT_{num_}components'] = np.fft.ifft(fft_list_m10).astype('float')\n",
      "C:\\Users\\KAVISHKA\\AppData\\Local\\Temp\\ipykernel_24556\\1734348001.py:26: ComplexWarning: Casting complex values to real discards the imaginary part\n",
      "  output_df_fft[f'FT_{num_}components'] = np.fft.ifft(fft_list_m10).astype('float')\n",
      "C:\\Users\\KAVISHKA\\AppData\\Local\\Temp\\ipykernel_24556\\1734348001.py:9: SettingWithCopyWarning: \n",
      "A value is trying to be set on a copy of a slice from a DataFrame.\n",
      "Try using .loc[row_indexer,col_indexer] = value instead\n",
      "\n",
      "See the caveats in the documentation: https://pandas.pydata.org/pandas-docs/stable/user_guide/indexing.html#returning-a-view-versus-a-copy\n",
      "  dataset_ex_df['pct_change'] = (dataset_ex_df['close'] - dataset_ex_df['close'].shift(1))/ dataset_ex_df['close'].shift(1)\n",
      "C:\\Users\\KAVISHKA\\AppData\\Local\\Temp\\ipykernel_24556\\1734348001.py:10: SettingWithCopyWarning: \n",
      "A value is trying to be set on a copy of a slice from a DataFrame.\n",
      "Try using .loc[row_indexer,col_indexer] = value instead\n",
      "\n",
      "See the caveats in the documentation: https://pandas.pydata.org/pandas-docs/stable/user_guide/indexing.html#returning-a-view-versus-a-copy\n",
      "  dataset_ex_df['log_change'] = np.log((dataset_ex_df['close']/ dataset_ex_df['close'].shift(1)).astype(float))\n",
      "C:\\Users\\KAVISHKA\\AppData\\Local\\Temp\\ipykernel_24556\\1734348001.py:11: SettingWithCopyWarning: \n",
      "A value is trying to be set on a copy of a slice from a DataFrame.\n",
      "Try using .loc[row_indexer,col_indexer] = value instead\n",
      "\n",
      "See the caveats in the documentation: https://pandas.pydata.org/pandas-docs/stable/user_guide/indexing.html#returning-a-view-versus-a-copy\n",
      "  dataset_ex_df['prev_close'] = dataset_ex_df['close'].shift(2)\n",
      "C:\\Users\\KAVISHKA\\AppData\\Local\\Temp\\ipykernel_24556\\1734348001.py:26: ComplexWarning: Casting complex values to real discards the imaginary part\n",
      "  output_df_fft[f'FT_{num_}components'] = np.fft.ifft(fft_list_m10).astype('float')\n",
      "C:\\Users\\KAVISHKA\\AppData\\Local\\Temp\\ipykernel_24556\\1734348001.py:26: ComplexWarning: Casting complex values to real discards the imaginary part\n",
      "  output_df_fft[f'FT_{num_}components'] = np.fft.ifft(fft_list_m10).astype('float')\n",
      "C:\\Users\\KAVISHKA\\AppData\\Local\\Temp\\ipykernel_24556\\1734348001.py:26: ComplexWarning: Casting complex values to real discards the imaginary part\n",
      "  output_df_fft[f'FT_{num_}components'] = np.fft.ifft(fft_list_m10).astype('float')\n",
      "C:\\Users\\KAVISHKA\\AppData\\Local\\Temp\\ipykernel_24556\\1734348001.py:26: ComplexWarning: Casting complex values to real discards the imaginary part\n",
      "  output_df_fft[f'FT_{num_}components'] = np.fft.ifft(fft_list_m10).astype('float')\n",
      "C:\\Users\\KAVISHKA\\AppData\\Local\\Temp\\ipykernel_24556\\1734348001.py:26: ComplexWarning: Casting complex values to real discards the imaginary part\n",
      "  output_df_fft[f'FT_{num_}components'] = np.fft.ifft(fft_list_m10).astype('float')\n",
      "C:\\Users\\KAVISHKA\\AppData\\Local\\Temp\\ipykernel_24556\\1734348001.py:26: ComplexWarning: Casting complex values to real discards the imaginary part\n",
      "  output_df_fft[f'FT_{num_}components'] = np.fft.ifft(fft_list_m10).astype('float')\n",
      "C:\\Users\\KAVISHKA\\AppData\\Local\\Temp\\ipykernel_24556\\1734348001.py:9: SettingWithCopyWarning: \n",
      "A value is trying to be set on a copy of a slice from a DataFrame.\n",
      "Try using .loc[row_indexer,col_indexer] = value instead\n",
      "\n",
      "See the caveats in the documentation: https://pandas.pydata.org/pandas-docs/stable/user_guide/indexing.html#returning-a-view-versus-a-copy\n",
      "  dataset_ex_df['pct_change'] = (dataset_ex_df['close'] - dataset_ex_df['close'].shift(1))/ dataset_ex_df['close'].shift(1)\n",
      "C:\\Users\\KAVISHKA\\AppData\\Local\\Temp\\ipykernel_24556\\1734348001.py:10: SettingWithCopyWarning: \n",
      "A value is trying to be set on a copy of a slice from a DataFrame.\n",
      "Try using .loc[row_indexer,col_indexer] = value instead\n",
      "\n",
      "See the caveats in the documentation: https://pandas.pydata.org/pandas-docs/stable/user_guide/indexing.html#returning-a-view-versus-a-copy\n",
      "  dataset_ex_df['log_change'] = np.log((dataset_ex_df['close']/ dataset_ex_df['close'].shift(1)).astype(float))\n",
      "C:\\Users\\KAVISHKA\\AppData\\Local\\Temp\\ipykernel_24556\\1734348001.py:11: SettingWithCopyWarning: \n",
      "A value is trying to be set on a copy of a slice from a DataFrame.\n",
      "Try using .loc[row_indexer,col_indexer] = value instead\n",
      "\n",
      "See the caveats in the documentation: https://pandas.pydata.org/pandas-docs/stable/user_guide/indexing.html#returning-a-view-versus-a-copy\n",
      "  dataset_ex_df['prev_close'] = dataset_ex_df['close'].shift(2)\n",
      "C:\\Users\\KAVISHKA\\AppData\\Local\\Temp\\ipykernel_24556\\1734348001.py:26: ComplexWarning: Casting complex values to real discards the imaginary part\n",
      "  output_df_fft[f'FT_{num_}components'] = np.fft.ifft(fft_list_m10).astype('float')\n",
      "C:\\Users\\KAVISHKA\\AppData\\Local\\Temp\\ipykernel_24556\\1734348001.py:26: ComplexWarning: Casting complex values to real discards the imaginary part\n",
      "  output_df_fft[f'FT_{num_}components'] = np.fft.ifft(fft_list_m10).astype('float')\n",
      "C:\\Users\\KAVISHKA\\AppData\\Local\\Temp\\ipykernel_24556\\1734348001.py:26: ComplexWarning: Casting complex values to real discards the imaginary part\n",
      "  output_df_fft[f'FT_{num_}components'] = np.fft.ifft(fft_list_m10).astype('float')\n",
      "C:\\Users\\KAVISHKA\\AppData\\Local\\Temp\\ipykernel_24556\\1734348001.py:26: ComplexWarning: Casting complex values to real discards the imaginary part\n",
      "  output_df_fft[f'FT_{num_}components'] = np.fft.ifft(fft_list_m10).astype('float')\n",
      "C:\\Users\\KAVISHKA\\AppData\\Local\\Temp\\ipykernel_24556\\1734348001.py:26: ComplexWarning: Casting complex values to real discards the imaginary part\n",
      "  output_df_fft[f'FT_{num_}components'] = np.fft.ifft(fft_list_m10).astype('float')\n",
      "C:\\Users\\KAVISHKA\\AppData\\Local\\Temp\\ipykernel_24556\\1734348001.py:26: ComplexWarning: Casting complex values to real discards the imaginary part\n",
      "  output_df_fft[f'FT_{num_}components'] = np.fft.ifft(fft_list_m10).astype('float')\n",
      "C:\\Users\\KAVISHKA\\AppData\\Local\\Temp\\ipykernel_24556\\1734348001.py:9: SettingWithCopyWarning: \n",
      "A value is trying to be set on a copy of a slice from a DataFrame.\n",
      "Try using .loc[row_indexer,col_indexer] = value instead\n",
      "\n",
      "See the caveats in the documentation: https://pandas.pydata.org/pandas-docs/stable/user_guide/indexing.html#returning-a-view-versus-a-copy\n",
      "  dataset_ex_df['pct_change'] = (dataset_ex_df['close'] - dataset_ex_df['close'].shift(1))/ dataset_ex_df['close'].shift(1)\n",
      "C:\\Users\\KAVISHKA\\AppData\\Local\\Temp\\ipykernel_24556\\1734348001.py:10: SettingWithCopyWarning: \n",
      "A value is trying to be set on a copy of a slice from a DataFrame.\n",
      "Try using .loc[row_indexer,col_indexer] = value instead\n",
      "\n",
      "See the caveats in the documentation: https://pandas.pydata.org/pandas-docs/stable/user_guide/indexing.html#returning-a-view-versus-a-copy\n",
      "  dataset_ex_df['log_change'] = np.log((dataset_ex_df['close']/ dataset_ex_df['close'].shift(1)).astype(float))\n",
      "C:\\Users\\KAVISHKA\\AppData\\Local\\Temp\\ipykernel_24556\\1734348001.py:11: SettingWithCopyWarning: \n",
      "A value is trying to be set on a copy of a slice from a DataFrame.\n",
      "Try using .loc[row_indexer,col_indexer] = value instead\n",
      "\n",
      "See the caveats in the documentation: https://pandas.pydata.org/pandas-docs/stable/user_guide/indexing.html#returning-a-view-versus-a-copy\n",
      "  dataset_ex_df['prev_close'] = dataset_ex_df['close'].shift(2)\n",
      "C:\\Users\\KAVISHKA\\AppData\\Local\\Temp\\ipykernel_24556\\1734348001.py:26: ComplexWarning: Casting complex values to real discards the imaginary part\n",
      "  output_df_fft[f'FT_{num_}components'] = np.fft.ifft(fft_list_m10).astype('float')\n",
      "C:\\Users\\KAVISHKA\\AppData\\Local\\Temp\\ipykernel_24556\\1734348001.py:26: ComplexWarning: Casting complex values to real discards the imaginary part\n",
      "  output_df_fft[f'FT_{num_}components'] = np.fft.ifft(fft_list_m10).astype('float')\n",
      "C:\\Users\\KAVISHKA\\AppData\\Local\\Temp\\ipykernel_24556\\1734348001.py:26: ComplexWarning: Casting complex values to real discards the imaginary part\n",
      "  output_df_fft[f'FT_{num_}components'] = np.fft.ifft(fft_list_m10).astype('float')\n",
      "C:\\Users\\KAVISHKA\\AppData\\Local\\Temp\\ipykernel_24556\\1734348001.py:26: ComplexWarning: Casting complex values to real discards the imaginary part\n",
      "  output_df_fft[f'FT_{num_}components'] = np.fft.ifft(fft_list_m10).astype('float')\n",
      "C:\\Users\\KAVISHKA\\AppData\\Local\\Temp\\ipykernel_24556\\1734348001.py:26: ComplexWarning: Casting complex values to real discards the imaginary part\n",
      "  output_df_fft[f'FT_{num_}components'] = np.fft.ifft(fft_list_m10).astype('float')\n",
      "C:\\Users\\KAVISHKA\\AppData\\Local\\Temp\\ipykernel_24556\\1734348001.py:26: ComplexWarning: Casting complex values to real discards the imaginary part\n",
      "  output_df_fft[f'FT_{num_}components'] = np.fft.ifft(fft_list_m10).astype('float')\n",
      "C:\\Users\\KAVISHKA\\AppData\\Local\\Temp\\ipykernel_24556\\1734348001.py:9: SettingWithCopyWarning: \n",
      "A value is trying to be set on a copy of a slice from a DataFrame.\n",
      "Try using .loc[row_indexer,col_indexer] = value instead\n",
      "\n",
      "See the caveats in the documentation: https://pandas.pydata.org/pandas-docs/stable/user_guide/indexing.html#returning-a-view-versus-a-copy\n",
      "  dataset_ex_df['pct_change'] = (dataset_ex_df['close'] - dataset_ex_df['close'].shift(1))/ dataset_ex_df['close'].shift(1)\n",
      "C:\\Users\\KAVISHKA\\AppData\\Local\\Temp\\ipykernel_24556\\1734348001.py:10: SettingWithCopyWarning: \n",
      "A value is trying to be set on a copy of a slice from a DataFrame.\n",
      "Try using .loc[row_indexer,col_indexer] = value instead\n",
      "\n",
      "See the caveats in the documentation: https://pandas.pydata.org/pandas-docs/stable/user_guide/indexing.html#returning-a-view-versus-a-copy\n",
      "  dataset_ex_df['log_change'] = np.log((dataset_ex_df['close']/ dataset_ex_df['close'].shift(1)).astype(float))\n",
      "C:\\Users\\KAVISHKA\\AppData\\Local\\Temp\\ipykernel_24556\\1734348001.py:11: SettingWithCopyWarning: \n",
      "A value is trying to be set on a copy of a slice from a DataFrame.\n",
      "Try using .loc[row_indexer,col_indexer] = value instead\n",
      "\n",
      "See the caveats in the documentation: https://pandas.pydata.org/pandas-docs/stable/user_guide/indexing.html#returning-a-view-versus-a-copy\n",
      "  dataset_ex_df['prev_close'] = dataset_ex_df['close'].shift(2)\n",
      "C:\\Users\\KAVISHKA\\AppData\\Local\\Temp\\ipykernel_24556\\1734348001.py:26: ComplexWarning: Casting complex values to real discards the imaginary part\n",
      "  output_df_fft[f'FT_{num_}components'] = np.fft.ifft(fft_list_m10).astype('float')\n",
      "C:\\Users\\KAVISHKA\\AppData\\Local\\Temp\\ipykernel_24556\\1734348001.py:26: ComplexWarning: Casting complex values to real discards the imaginary part\n",
      "  output_df_fft[f'FT_{num_}components'] = np.fft.ifft(fft_list_m10).astype('float')\n",
      "C:\\Users\\KAVISHKA\\AppData\\Local\\Temp\\ipykernel_24556\\1734348001.py:26: ComplexWarning: Casting complex values to real discards the imaginary part\n",
      "  output_df_fft[f'FT_{num_}components'] = np.fft.ifft(fft_list_m10).astype('float')\n",
      "C:\\Users\\KAVISHKA\\AppData\\Local\\Temp\\ipykernel_24556\\1734348001.py:26: ComplexWarning: Casting complex values to real discards the imaginary part\n",
      "  output_df_fft[f'FT_{num_}components'] = np.fft.ifft(fft_list_m10).astype('float')\n",
      "C:\\Users\\KAVISHKA\\AppData\\Local\\Temp\\ipykernel_24556\\1734348001.py:26: ComplexWarning: Casting complex values to real discards the imaginary part\n",
      "  output_df_fft[f'FT_{num_}components'] = np.fft.ifft(fft_list_m10).astype('float')\n",
      "C:\\Users\\KAVISHKA\\AppData\\Local\\Temp\\ipykernel_24556\\1734348001.py:26: ComplexWarning: Casting complex values to real discards the imaginary part\n",
      "  output_df_fft[f'FT_{num_}components'] = np.fft.ifft(fft_list_m10).astype('float')\n",
      "C:\\Users\\KAVISHKA\\AppData\\Local\\Temp\\ipykernel_24556\\1734348001.py:9: SettingWithCopyWarning: \n",
      "A value is trying to be set on a copy of a slice from a DataFrame.\n",
      "Try using .loc[row_indexer,col_indexer] = value instead\n",
      "\n",
      "See the caveats in the documentation: https://pandas.pydata.org/pandas-docs/stable/user_guide/indexing.html#returning-a-view-versus-a-copy\n",
      "  dataset_ex_df['pct_change'] = (dataset_ex_df['close'] - dataset_ex_df['close'].shift(1))/ dataset_ex_df['close'].shift(1)\n",
      "C:\\Users\\KAVISHKA\\AppData\\Local\\Temp\\ipykernel_24556\\1734348001.py:10: SettingWithCopyWarning: \n",
      "A value is trying to be set on a copy of a slice from a DataFrame.\n",
      "Try using .loc[row_indexer,col_indexer] = value instead\n",
      "\n",
      "See the caveats in the documentation: https://pandas.pydata.org/pandas-docs/stable/user_guide/indexing.html#returning-a-view-versus-a-copy\n",
      "  dataset_ex_df['log_change'] = np.log((dataset_ex_df['close']/ dataset_ex_df['close'].shift(1)).astype(float))\n",
      "C:\\Users\\KAVISHKA\\AppData\\Local\\Temp\\ipykernel_24556\\1734348001.py:11: SettingWithCopyWarning: \n",
      "A value is trying to be set on a copy of a slice from a DataFrame.\n",
      "Try using .loc[row_indexer,col_indexer] = value instead\n",
      "\n",
      "See the caveats in the documentation: https://pandas.pydata.org/pandas-docs/stable/user_guide/indexing.html#returning-a-view-versus-a-copy\n",
      "  dataset_ex_df['prev_close'] = dataset_ex_df['close'].shift(2)\n",
      "C:\\Users\\KAVISHKA\\AppData\\Local\\Temp\\ipykernel_24556\\1734348001.py:26: ComplexWarning: Casting complex values to real discards the imaginary part\n",
      "  output_df_fft[f'FT_{num_}components'] = np.fft.ifft(fft_list_m10).astype('float')\n",
      "C:\\Users\\KAVISHKA\\AppData\\Local\\Temp\\ipykernel_24556\\1734348001.py:26: ComplexWarning: Casting complex values to real discards the imaginary part\n",
      "  output_df_fft[f'FT_{num_}components'] = np.fft.ifft(fft_list_m10).astype('float')\n",
      "C:\\Users\\KAVISHKA\\AppData\\Local\\Temp\\ipykernel_24556\\1734348001.py:26: ComplexWarning: Casting complex values to real discards the imaginary part\n",
      "  output_df_fft[f'FT_{num_}components'] = np.fft.ifft(fft_list_m10).astype('float')\n",
      "C:\\Users\\KAVISHKA\\AppData\\Local\\Temp\\ipykernel_24556\\1734348001.py:26: ComplexWarning: Casting complex values to real discards the imaginary part\n",
      "  output_df_fft[f'FT_{num_}components'] = np.fft.ifft(fft_list_m10).astype('float')\n",
      "C:\\Users\\KAVISHKA\\AppData\\Local\\Temp\\ipykernel_24556\\1734348001.py:26: ComplexWarning: Casting complex values to real discards the imaginary part\n",
      "  output_df_fft[f'FT_{num_}components'] = np.fft.ifft(fft_list_m10).astype('float')\n",
      "C:\\Users\\KAVISHKA\\AppData\\Local\\Temp\\ipykernel_24556\\1734348001.py:26: ComplexWarning: Casting complex values to real discards the imaginary part\n",
      "  output_df_fft[f'FT_{num_}components'] = np.fft.ifft(fft_list_m10).astype('float')\n",
      "C:\\Users\\KAVISHKA\\AppData\\Local\\Temp\\ipykernel_24556\\1734348001.py:9: SettingWithCopyWarning: \n",
      "A value is trying to be set on a copy of a slice from a DataFrame.\n",
      "Try using .loc[row_indexer,col_indexer] = value instead\n",
      "\n",
      "See the caveats in the documentation: https://pandas.pydata.org/pandas-docs/stable/user_guide/indexing.html#returning-a-view-versus-a-copy\n",
      "  dataset_ex_df['pct_change'] = (dataset_ex_df['close'] - dataset_ex_df['close'].shift(1))/ dataset_ex_df['close'].shift(1)\n",
      "C:\\Users\\KAVISHKA\\AppData\\Local\\Temp\\ipykernel_24556\\1734348001.py:10: SettingWithCopyWarning: \n",
      "A value is trying to be set on a copy of a slice from a DataFrame.\n",
      "Try using .loc[row_indexer,col_indexer] = value instead\n",
      "\n",
      "See the caveats in the documentation: https://pandas.pydata.org/pandas-docs/stable/user_guide/indexing.html#returning-a-view-versus-a-copy\n",
      "  dataset_ex_df['log_change'] = np.log((dataset_ex_df['close']/ dataset_ex_df['close'].shift(1)).astype(float))\n",
      "C:\\Users\\KAVISHKA\\AppData\\Local\\Temp\\ipykernel_24556\\1734348001.py:11: SettingWithCopyWarning: \n",
      "A value is trying to be set on a copy of a slice from a DataFrame.\n",
      "Try using .loc[row_indexer,col_indexer] = value instead\n",
      "\n",
      "See the caveats in the documentation: https://pandas.pydata.org/pandas-docs/stable/user_guide/indexing.html#returning-a-view-versus-a-copy\n",
      "  dataset_ex_df['prev_close'] = dataset_ex_df['close'].shift(2)\n",
      "C:\\Users\\KAVISHKA\\AppData\\Local\\Temp\\ipykernel_24556\\1734348001.py:26: ComplexWarning: Casting complex values to real discards the imaginary part\n",
      "  output_df_fft[f'FT_{num_}components'] = np.fft.ifft(fft_list_m10).astype('float')\n",
      "C:\\Users\\KAVISHKA\\AppData\\Local\\Temp\\ipykernel_24556\\1734348001.py:26: ComplexWarning: Casting complex values to real discards the imaginary part\n",
      "  output_df_fft[f'FT_{num_}components'] = np.fft.ifft(fft_list_m10).astype('float')\n",
      "C:\\Users\\KAVISHKA\\AppData\\Local\\Temp\\ipykernel_24556\\1734348001.py:26: ComplexWarning: Casting complex values to real discards the imaginary part\n",
      "  output_df_fft[f'FT_{num_}components'] = np.fft.ifft(fft_list_m10).astype('float')\n",
      "C:\\Users\\KAVISHKA\\AppData\\Local\\Temp\\ipykernel_24556\\1734348001.py:26: ComplexWarning: Casting complex values to real discards the imaginary part\n",
      "  output_df_fft[f'FT_{num_}components'] = np.fft.ifft(fft_list_m10).astype('float')\n",
      "C:\\Users\\KAVISHKA\\AppData\\Local\\Temp\\ipykernel_24556\\1734348001.py:26: ComplexWarning: Casting complex values to real discards the imaginary part\n",
      "  output_df_fft[f'FT_{num_}components'] = np.fft.ifft(fft_list_m10).astype('float')\n",
      "C:\\Users\\KAVISHKA\\AppData\\Local\\Temp\\ipykernel_24556\\1734348001.py:26: ComplexWarning: Casting complex values to real discards the imaginary part\n",
      "  output_df_fft[f'FT_{num_}components'] = np.fft.ifft(fft_list_m10).astype('float')\n",
      "C:\\Users\\KAVISHKA\\AppData\\Local\\Temp\\ipykernel_24556\\1734348001.py:9: SettingWithCopyWarning: \n",
      "A value is trying to be set on a copy of a slice from a DataFrame.\n",
      "Try using .loc[row_indexer,col_indexer] = value instead\n",
      "\n",
      "See the caveats in the documentation: https://pandas.pydata.org/pandas-docs/stable/user_guide/indexing.html#returning-a-view-versus-a-copy\n",
      "  dataset_ex_df['pct_change'] = (dataset_ex_df['close'] - dataset_ex_df['close'].shift(1))/ dataset_ex_df['close'].shift(1)\n",
      "C:\\Users\\KAVISHKA\\AppData\\Local\\Temp\\ipykernel_24556\\1734348001.py:10: SettingWithCopyWarning: \n",
      "A value is trying to be set on a copy of a slice from a DataFrame.\n",
      "Try using .loc[row_indexer,col_indexer] = value instead\n",
      "\n",
      "See the caveats in the documentation: https://pandas.pydata.org/pandas-docs/stable/user_guide/indexing.html#returning-a-view-versus-a-copy\n",
      "  dataset_ex_df['log_change'] = np.log((dataset_ex_df['close']/ dataset_ex_df['close'].shift(1)).astype(float))\n",
      "C:\\Users\\KAVISHKA\\AppData\\Local\\Temp\\ipykernel_24556\\1734348001.py:11: SettingWithCopyWarning: \n",
      "A value is trying to be set on a copy of a slice from a DataFrame.\n",
      "Try using .loc[row_indexer,col_indexer] = value instead\n",
      "\n",
      "See the caveats in the documentation: https://pandas.pydata.org/pandas-docs/stable/user_guide/indexing.html#returning-a-view-versus-a-copy\n",
      "  dataset_ex_df['prev_close'] = dataset_ex_df['close'].shift(2)\n",
      "C:\\Users\\KAVISHKA\\AppData\\Local\\Temp\\ipykernel_24556\\1734348001.py:26: ComplexWarning: Casting complex values to real discards the imaginary part\n",
      "  output_df_fft[f'FT_{num_}components'] = np.fft.ifft(fft_list_m10).astype('float')\n",
      "C:\\Users\\KAVISHKA\\AppData\\Local\\Temp\\ipykernel_24556\\1734348001.py:26: ComplexWarning: Casting complex values to real discards the imaginary part\n",
      "  output_df_fft[f'FT_{num_}components'] = np.fft.ifft(fft_list_m10).astype('float')\n",
      "C:\\Users\\KAVISHKA\\AppData\\Local\\Temp\\ipykernel_24556\\1734348001.py:26: ComplexWarning: Casting complex values to real discards the imaginary part\n",
      "  output_df_fft[f'FT_{num_}components'] = np.fft.ifft(fft_list_m10).astype('float')\n",
      "C:\\Users\\KAVISHKA\\AppData\\Local\\Temp\\ipykernel_24556\\1734348001.py:26: ComplexWarning: Casting complex values to real discards the imaginary part\n",
      "  output_df_fft[f'FT_{num_}components'] = np.fft.ifft(fft_list_m10).astype('float')\n",
      "C:\\Users\\KAVISHKA\\AppData\\Local\\Temp\\ipykernel_24556\\1734348001.py:26: ComplexWarning: Casting complex values to real discards the imaginary part\n",
      "  output_df_fft[f'FT_{num_}components'] = np.fft.ifft(fft_list_m10).astype('float')\n",
      "C:\\Users\\KAVISHKA\\AppData\\Local\\Temp\\ipykernel_24556\\1734348001.py:26: ComplexWarning: Casting complex values to real discards the imaginary part\n",
      "  output_df_fft[f'FT_{num_}components'] = np.fft.ifft(fft_list_m10).astype('float')\n",
      "C:\\Users\\KAVISHKA\\AppData\\Local\\Temp\\ipykernel_24556\\1734348001.py:9: SettingWithCopyWarning: \n",
      "A value is trying to be set on a copy of a slice from a DataFrame.\n",
      "Try using .loc[row_indexer,col_indexer] = value instead\n",
      "\n",
      "See the caveats in the documentation: https://pandas.pydata.org/pandas-docs/stable/user_guide/indexing.html#returning-a-view-versus-a-copy\n",
      "  dataset_ex_df['pct_change'] = (dataset_ex_df['close'] - dataset_ex_df['close'].shift(1))/ dataset_ex_df['close'].shift(1)\n",
      "C:\\Users\\KAVISHKA\\AppData\\Local\\Temp\\ipykernel_24556\\1734348001.py:10: SettingWithCopyWarning: \n",
      "A value is trying to be set on a copy of a slice from a DataFrame.\n",
      "Try using .loc[row_indexer,col_indexer] = value instead\n",
      "\n",
      "See the caveats in the documentation: https://pandas.pydata.org/pandas-docs/stable/user_guide/indexing.html#returning-a-view-versus-a-copy\n",
      "  dataset_ex_df['log_change'] = np.log((dataset_ex_df['close']/ dataset_ex_df['close'].shift(1)).astype(float))\n",
      "C:\\Users\\KAVISHKA\\AppData\\Local\\Temp\\ipykernel_24556\\1734348001.py:11: SettingWithCopyWarning: \n",
      "A value is trying to be set on a copy of a slice from a DataFrame.\n",
      "Try using .loc[row_indexer,col_indexer] = value instead\n",
      "\n",
      "See the caveats in the documentation: https://pandas.pydata.org/pandas-docs/stable/user_guide/indexing.html#returning-a-view-versus-a-copy\n",
      "  dataset_ex_df['prev_close'] = dataset_ex_df['close'].shift(2)\n",
      "C:\\Users\\KAVISHKA\\AppData\\Local\\Temp\\ipykernel_24556\\1734348001.py:26: ComplexWarning: Casting complex values to real discards the imaginary part\n",
      "  output_df_fft[f'FT_{num_}components'] = np.fft.ifft(fft_list_m10).astype('float')\n",
      "C:\\Users\\KAVISHKA\\AppData\\Local\\Temp\\ipykernel_24556\\1734348001.py:26: ComplexWarning: Casting complex values to real discards the imaginary part\n",
      "  output_df_fft[f'FT_{num_}components'] = np.fft.ifft(fft_list_m10).astype('float')\n",
      "C:\\Users\\KAVISHKA\\AppData\\Local\\Temp\\ipykernel_24556\\1734348001.py:26: ComplexWarning: Casting complex values to real discards the imaginary part\n",
      "  output_df_fft[f'FT_{num_}components'] = np.fft.ifft(fft_list_m10).astype('float')\n",
      "C:\\Users\\KAVISHKA\\AppData\\Local\\Temp\\ipykernel_24556\\1734348001.py:26: ComplexWarning: Casting complex values to real discards the imaginary part\n",
      "  output_df_fft[f'FT_{num_}components'] = np.fft.ifft(fft_list_m10).astype('float')\n",
      "C:\\Users\\KAVISHKA\\AppData\\Local\\Temp\\ipykernel_24556\\1734348001.py:26: ComplexWarning: Casting complex values to real discards the imaginary part\n",
      "  output_df_fft[f'FT_{num_}components'] = np.fft.ifft(fft_list_m10).astype('float')\n",
      "C:\\Users\\KAVISHKA\\AppData\\Local\\Temp\\ipykernel_24556\\1734348001.py:26: ComplexWarning: Casting complex values to real discards the imaginary part\n",
      "  output_df_fft[f'FT_{num_}components'] = np.fft.ifft(fft_list_m10).astype('float')\n",
      "C:\\Users\\KAVISHKA\\AppData\\Local\\Temp\\ipykernel_24556\\1734348001.py:9: SettingWithCopyWarning: \n",
      "A value is trying to be set on a copy of a slice from a DataFrame.\n",
      "Try using .loc[row_indexer,col_indexer] = value instead\n",
      "\n",
      "See the caveats in the documentation: https://pandas.pydata.org/pandas-docs/stable/user_guide/indexing.html#returning-a-view-versus-a-copy\n",
      "  dataset_ex_df['pct_change'] = (dataset_ex_df['close'] - dataset_ex_df['close'].shift(1))/ dataset_ex_df['close'].shift(1)\n",
      "C:\\Users\\KAVISHKA\\AppData\\Local\\Temp\\ipykernel_24556\\1734348001.py:10: SettingWithCopyWarning: \n",
      "A value is trying to be set on a copy of a slice from a DataFrame.\n",
      "Try using .loc[row_indexer,col_indexer] = value instead\n",
      "\n",
      "See the caveats in the documentation: https://pandas.pydata.org/pandas-docs/stable/user_guide/indexing.html#returning-a-view-versus-a-copy\n",
      "  dataset_ex_df['log_change'] = np.log((dataset_ex_df['close']/ dataset_ex_df['close'].shift(1)).astype(float))\n",
      "C:\\Users\\KAVISHKA\\AppData\\Local\\Temp\\ipykernel_24556\\1734348001.py:11: SettingWithCopyWarning: \n",
      "A value is trying to be set on a copy of a slice from a DataFrame.\n",
      "Try using .loc[row_indexer,col_indexer] = value instead\n",
      "\n",
      "See the caveats in the documentation: https://pandas.pydata.org/pandas-docs/stable/user_guide/indexing.html#returning-a-view-versus-a-copy\n",
      "  dataset_ex_df['prev_close'] = dataset_ex_df['close'].shift(2)\n",
      "C:\\Users\\KAVISHKA\\AppData\\Local\\Temp\\ipykernel_24556\\1734348001.py:26: ComplexWarning: Casting complex values to real discards the imaginary part\n",
      "  output_df_fft[f'FT_{num_}components'] = np.fft.ifft(fft_list_m10).astype('float')\n",
      "C:\\Users\\KAVISHKA\\AppData\\Local\\Temp\\ipykernel_24556\\1734348001.py:26: ComplexWarning: Casting complex values to real discards the imaginary part\n",
      "  output_df_fft[f'FT_{num_}components'] = np.fft.ifft(fft_list_m10).astype('float')\n",
      "C:\\Users\\KAVISHKA\\AppData\\Local\\Temp\\ipykernel_24556\\1734348001.py:26: ComplexWarning: Casting complex values to real discards the imaginary part\n",
      "  output_df_fft[f'FT_{num_}components'] = np.fft.ifft(fft_list_m10).astype('float')\n",
      "C:\\Users\\KAVISHKA\\AppData\\Local\\Temp\\ipykernel_24556\\1734348001.py:26: ComplexWarning: Casting complex values to real discards the imaginary part\n",
      "  output_df_fft[f'FT_{num_}components'] = np.fft.ifft(fft_list_m10).astype('float')\n",
      "C:\\Users\\KAVISHKA\\AppData\\Local\\Temp\\ipykernel_24556\\1734348001.py:26: ComplexWarning: Casting complex values to real discards the imaginary part\n",
      "  output_df_fft[f'FT_{num_}components'] = np.fft.ifft(fft_list_m10).astype('float')\n",
      "C:\\Users\\KAVISHKA\\AppData\\Local\\Temp\\ipykernel_24556\\1734348001.py:26: ComplexWarning: Casting complex values to real discards the imaginary part\n",
      "  output_df_fft[f'FT_{num_}components'] = np.fft.ifft(fft_list_m10).astype('float')\n",
      "C:\\Users\\KAVISHKA\\AppData\\Local\\Temp\\ipykernel_24556\\1734348001.py:9: SettingWithCopyWarning: \n",
      "A value is trying to be set on a copy of a slice from a DataFrame.\n",
      "Try using .loc[row_indexer,col_indexer] = value instead\n",
      "\n",
      "See the caveats in the documentation: https://pandas.pydata.org/pandas-docs/stable/user_guide/indexing.html#returning-a-view-versus-a-copy\n",
      "  dataset_ex_df['pct_change'] = (dataset_ex_df['close'] - dataset_ex_df['close'].shift(1))/ dataset_ex_df['close'].shift(1)\n",
      "C:\\Users\\KAVISHKA\\AppData\\Local\\Temp\\ipykernel_24556\\1734348001.py:10: SettingWithCopyWarning: \n",
      "A value is trying to be set on a copy of a slice from a DataFrame.\n",
      "Try using .loc[row_indexer,col_indexer] = value instead\n",
      "\n",
      "See the caveats in the documentation: https://pandas.pydata.org/pandas-docs/stable/user_guide/indexing.html#returning-a-view-versus-a-copy\n",
      "  dataset_ex_df['log_change'] = np.log((dataset_ex_df['close']/ dataset_ex_df['close'].shift(1)).astype(float))\n",
      "C:\\Users\\KAVISHKA\\AppData\\Local\\Temp\\ipykernel_24556\\1734348001.py:11: SettingWithCopyWarning: \n",
      "A value is trying to be set on a copy of a slice from a DataFrame.\n",
      "Try using .loc[row_indexer,col_indexer] = value instead\n",
      "\n",
      "See the caveats in the documentation: https://pandas.pydata.org/pandas-docs/stable/user_guide/indexing.html#returning-a-view-versus-a-copy\n",
      "  dataset_ex_df['prev_close'] = dataset_ex_df['close'].shift(2)\n",
      "C:\\Users\\KAVISHKA\\AppData\\Local\\Temp\\ipykernel_24556\\1734348001.py:26: ComplexWarning: Casting complex values to real discards the imaginary part\n",
      "  output_df_fft[f'FT_{num_}components'] = np.fft.ifft(fft_list_m10).astype('float')\n",
      "C:\\Users\\KAVISHKA\\AppData\\Local\\Temp\\ipykernel_24556\\1734348001.py:26: ComplexWarning: Casting complex values to real discards the imaginary part\n",
      "  output_df_fft[f'FT_{num_}components'] = np.fft.ifft(fft_list_m10).astype('float')\n",
      "C:\\Users\\KAVISHKA\\AppData\\Local\\Temp\\ipykernel_24556\\1734348001.py:26: ComplexWarning: Casting complex values to real discards the imaginary part\n",
      "  output_df_fft[f'FT_{num_}components'] = np.fft.ifft(fft_list_m10).astype('float')\n",
      "C:\\Users\\KAVISHKA\\AppData\\Local\\Temp\\ipykernel_24556\\1734348001.py:26: ComplexWarning: Casting complex values to real discards the imaginary part\n",
      "  output_df_fft[f'FT_{num_}components'] = np.fft.ifft(fft_list_m10).astype('float')\n",
      "C:\\Users\\KAVISHKA\\AppData\\Local\\Temp\\ipykernel_24556\\1734348001.py:26: ComplexWarning: Casting complex values to real discards the imaginary part\n",
      "  output_df_fft[f'FT_{num_}components'] = np.fft.ifft(fft_list_m10).astype('float')\n",
      "C:\\Users\\KAVISHKA\\AppData\\Local\\Temp\\ipykernel_24556\\1734348001.py:26: ComplexWarning: Casting complex values to real discards the imaginary part\n",
      "  output_df_fft[f'FT_{num_}components'] = np.fft.ifft(fft_list_m10).astype('float')\n",
      "C:\\Users\\KAVISHKA\\AppData\\Local\\Temp\\ipykernel_24556\\1734348001.py:9: SettingWithCopyWarning: \n",
      "A value is trying to be set on a copy of a slice from a DataFrame.\n",
      "Try using .loc[row_indexer,col_indexer] = value instead\n",
      "\n",
      "See the caveats in the documentation: https://pandas.pydata.org/pandas-docs/stable/user_guide/indexing.html#returning-a-view-versus-a-copy\n",
      "  dataset_ex_df['pct_change'] = (dataset_ex_df['close'] - dataset_ex_df['close'].shift(1))/ dataset_ex_df['close'].shift(1)\n",
      "C:\\Users\\KAVISHKA\\AppData\\Local\\Temp\\ipykernel_24556\\1734348001.py:10: SettingWithCopyWarning: \n",
      "A value is trying to be set on a copy of a slice from a DataFrame.\n",
      "Try using .loc[row_indexer,col_indexer] = value instead\n",
      "\n",
      "See the caveats in the documentation: https://pandas.pydata.org/pandas-docs/stable/user_guide/indexing.html#returning-a-view-versus-a-copy\n",
      "  dataset_ex_df['log_change'] = np.log((dataset_ex_df['close']/ dataset_ex_df['close'].shift(1)).astype(float))\n",
      "C:\\Users\\KAVISHKA\\AppData\\Local\\Temp\\ipykernel_24556\\1734348001.py:11: SettingWithCopyWarning: \n",
      "A value is trying to be set on a copy of a slice from a DataFrame.\n",
      "Try using .loc[row_indexer,col_indexer] = value instead\n",
      "\n",
      "See the caveats in the documentation: https://pandas.pydata.org/pandas-docs/stable/user_guide/indexing.html#returning-a-view-versus-a-copy\n",
      "  dataset_ex_df['prev_close'] = dataset_ex_df['close'].shift(2)\n",
      "C:\\Users\\KAVISHKA\\AppData\\Local\\Temp\\ipykernel_24556\\1734348001.py:26: ComplexWarning: Casting complex values to real discards the imaginary part\n",
      "  output_df_fft[f'FT_{num_}components'] = np.fft.ifft(fft_list_m10).astype('float')\n",
      "C:\\Users\\KAVISHKA\\AppData\\Local\\Temp\\ipykernel_24556\\1734348001.py:26: ComplexWarning: Casting complex values to real discards the imaginary part\n",
      "  output_df_fft[f'FT_{num_}components'] = np.fft.ifft(fft_list_m10).astype('float')\n",
      "C:\\Users\\KAVISHKA\\AppData\\Local\\Temp\\ipykernel_24556\\1734348001.py:26: ComplexWarning: Casting complex values to real discards the imaginary part\n",
      "  output_df_fft[f'FT_{num_}components'] = np.fft.ifft(fft_list_m10).astype('float')\n",
      "C:\\Users\\KAVISHKA\\AppData\\Local\\Temp\\ipykernel_24556\\1734348001.py:26: ComplexWarning: Casting complex values to real discards the imaginary part\n",
      "  output_df_fft[f'FT_{num_}components'] = np.fft.ifft(fft_list_m10).astype('float')\n",
      "C:\\Users\\KAVISHKA\\AppData\\Local\\Temp\\ipykernel_24556\\1734348001.py:26: ComplexWarning: Casting complex values to real discards the imaginary part\n",
      "  output_df_fft[f'FT_{num_}components'] = np.fft.ifft(fft_list_m10).astype('float')\n",
      "C:\\Users\\KAVISHKA\\AppData\\Local\\Temp\\ipykernel_24556\\1734348001.py:26: ComplexWarning: Casting complex values to real discards the imaginary part\n",
      "  output_df_fft[f'FT_{num_}components'] = np.fft.ifft(fft_list_m10).astype('float')\n",
      "C:\\Users\\KAVISHKA\\AppData\\Local\\Temp\\ipykernel_24556\\1734348001.py:9: SettingWithCopyWarning: \n",
      "A value is trying to be set on a copy of a slice from a DataFrame.\n",
      "Try using .loc[row_indexer,col_indexer] = value instead\n",
      "\n",
      "See the caveats in the documentation: https://pandas.pydata.org/pandas-docs/stable/user_guide/indexing.html#returning-a-view-versus-a-copy\n",
      "  dataset_ex_df['pct_change'] = (dataset_ex_df['close'] - dataset_ex_df['close'].shift(1))/ dataset_ex_df['close'].shift(1)\n",
      "C:\\Users\\KAVISHKA\\AppData\\Local\\Temp\\ipykernel_24556\\1734348001.py:10: SettingWithCopyWarning: \n",
      "A value is trying to be set on a copy of a slice from a DataFrame.\n",
      "Try using .loc[row_indexer,col_indexer] = value instead\n",
      "\n",
      "See the caveats in the documentation: https://pandas.pydata.org/pandas-docs/stable/user_guide/indexing.html#returning-a-view-versus-a-copy\n",
      "  dataset_ex_df['log_change'] = np.log((dataset_ex_df['close']/ dataset_ex_df['close'].shift(1)).astype(float))\n",
      "C:\\Users\\KAVISHKA\\AppData\\Local\\Temp\\ipykernel_24556\\1734348001.py:11: SettingWithCopyWarning: \n",
      "A value is trying to be set on a copy of a slice from a DataFrame.\n",
      "Try using .loc[row_indexer,col_indexer] = value instead\n",
      "\n",
      "See the caveats in the documentation: https://pandas.pydata.org/pandas-docs/stable/user_guide/indexing.html#returning-a-view-versus-a-copy\n",
      "  dataset_ex_df['prev_close'] = dataset_ex_df['close'].shift(2)\n",
      "C:\\Users\\KAVISHKA\\AppData\\Local\\Temp\\ipykernel_24556\\1734348001.py:26: ComplexWarning: Casting complex values to real discards the imaginary part\n",
      "  output_df_fft[f'FT_{num_}components'] = np.fft.ifft(fft_list_m10).astype('float')\n",
      "C:\\Users\\KAVISHKA\\AppData\\Local\\Temp\\ipykernel_24556\\1734348001.py:26: ComplexWarning: Casting complex values to real discards the imaginary part\n",
      "  output_df_fft[f'FT_{num_}components'] = np.fft.ifft(fft_list_m10).astype('float')\n",
      "C:\\Users\\KAVISHKA\\AppData\\Local\\Temp\\ipykernel_24556\\1734348001.py:26: ComplexWarning: Casting complex values to real discards the imaginary part\n",
      "  output_df_fft[f'FT_{num_}components'] = np.fft.ifft(fft_list_m10).astype('float')\n",
      "C:\\Users\\KAVISHKA\\AppData\\Local\\Temp\\ipykernel_24556\\1734348001.py:26: ComplexWarning: Casting complex values to real discards the imaginary part\n",
      "  output_df_fft[f'FT_{num_}components'] = np.fft.ifft(fft_list_m10).astype('float')\n",
      "C:\\Users\\KAVISHKA\\AppData\\Local\\Temp\\ipykernel_24556\\1734348001.py:26: ComplexWarning: Casting complex values to real discards the imaginary part\n",
      "  output_df_fft[f'FT_{num_}components'] = np.fft.ifft(fft_list_m10).astype('float')\n",
      "C:\\Users\\KAVISHKA\\AppData\\Local\\Temp\\ipykernel_24556\\1734348001.py:26: ComplexWarning: Casting complex values to real discards the imaginary part\n",
      "  output_df_fft[f'FT_{num_}components'] = np.fft.ifft(fft_list_m10).astype('float')\n"
     ]
    }
   ]
  },
  {
   "cell_type": "markdown",
   "source": [
    "#### Initial Shape of the BTC Dataset"
   ],
   "metadata": {
    "id": "C5eYhEteAcj1"
   }
  },
  {
   "cell_type": "code",
   "execution_count": 27,
   "outputs": [
    {
     "data": {
      "text/plain": "         pca1      pca2      pca3      pca4      pca5      pca6      pca7  \\\n100  1.180268 -4.596417  1.174471 -0.755099 -0.657500  2.134307 -0.224966   \n101  0.541927 -2.872353  1.886495  2.303138 -0.039801  2.216950  0.139858   \n102 -1.062400 -3.571319  1.813643  0.166460  0.155044  2.155988  0.232612   \n103 -2.320303 -3.546587  2.093196 -0.163379 -0.071766  2.204366  0.273531   \n104 -3.023571 -3.076956  2.069260  0.130341  0.475358  2.374736  0.428439   \n105 -3.044525 -3.130863  0.978786 -1.114883  1.300013  2.188116  0.141484   \n106 -3.341923 -3.168924  0.926816 -1.000134  0.201669  1.896771 -0.118461   \n107 -3.349930 -1.648323  1.499807  2.270637 -0.095087  1.973362  0.116525   \n108 -4.473209 -2.320353  1.045261 -0.111721  0.282159  2.094363  0.241342   \n109 -5.014449 -2.033821  1.018427 -0.041871  0.018979  2.009131  0.243683   \n110 -4.573521 -1.897804 -0.112863 -0.713011  0.840660  1.791997  0.112997   \n\n         pca8      pca9     pca10     pca11     pca12     pca13     pca14  \\\n100 -0.689835 -0.974474  0.448212  0.243972 -0.045066  0.140452  0.010306   \n101 -0.968400 -0.489341  0.212960  0.341287  0.068955 -0.218029 -0.074978   \n102 -0.731829 -0.289843  0.298341  0.363914  0.039731 -0.119572 -0.216188   \n103 -0.644866  0.089901  0.336691  0.426643 -0.078294 -0.168756 -0.320604   \n104 -0.528846  0.291296  0.460022  0.458555 -0.015164  0.196570 -0.311910   \n105 -0.467983  0.433175  0.492289  0.370649  0.104524 -0.070941 -0.319022   \n106 -0.619944  0.586824  0.464288 -0.077921  0.333720 -0.263343 -0.250315   \n107 -0.990851  0.774219  0.054719 -0.276256  0.623202 -0.018430 -0.093153   \n108 -0.768915  0.666248 -0.150884 -0.454298  0.418453  0.425738 -0.168896   \n109 -0.799010  0.863547 -0.424238 -0.825928  0.280117  0.273566 -0.203989   \n110 -0.895134  0.738151 -0.453814 -1.117068  0.356796  0.335969 -0.051567   \n\n        pca15     pca16     pca17  \n100  0.056650 -0.023872 -0.147823  \n101  0.085397  0.107212  0.121727  \n102 -0.076610 -0.070618 -0.016159  \n103 -0.077049  0.040372 -0.096145  \n104 -0.107971  0.004167 -0.316345  \n105 -0.036418 -0.054003 -0.096067  \n106  0.009148  0.018730 -0.025431  \n107 -0.033313 -0.081462  0.039242  \n108  0.075514 -0.215110  0.077301  \n109  0.121604 -0.019585 -0.095984  \n110  0.272470 -0.129230 -0.134879  ",
      "text/html": "<div>\n<style scoped>\n    .dataframe tbody tr th:only-of-type {\n        vertical-align: middle;\n    }\n\n    .dataframe tbody tr th {\n        vertical-align: top;\n    }\n\n    .dataframe thead th {\n        text-align: right;\n    }\n</style>\n<table border=\"1\" class=\"dataframe\">\n  <thead>\n    <tr style=\"text-align: right;\">\n      <th></th>\n      <th>pca1</th>\n      <th>pca2</th>\n      <th>pca3</th>\n      <th>pca4</th>\n      <th>pca5</th>\n      <th>pca6</th>\n      <th>pca7</th>\n      <th>pca8</th>\n      <th>pca9</th>\n      <th>pca10</th>\n      <th>pca11</th>\n      <th>pca12</th>\n      <th>pca13</th>\n      <th>pca14</th>\n      <th>pca15</th>\n      <th>pca16</th>\n      <th>pca17</th>\n    </tr>\n  </thead>\n  <tbody>\n    <tr>\n      <th>100</th>\n      <td>1.180268</td>\n      <td>-4.596417</td>\n      <td>1.174471</td>\n      <td>-0.755099</td>\n      <td>-0.657500</td>\n      <td>2.134307</td>\n      <td>-0.224966</td>\n      <td>-0.689835</td>\n      <td>-0.974474</td>\n      <td>0.448212</td>\n      <td>0.243972</td>\n      <td>-0.045066</td>\n      <td>0.140452</td>\n      <td>0.010306</td>\n      <td>0.056650</td>\n      <td>-0.023872</td>\n      <td>-0.147823</td>\n    </tr>\n    <tr>\n      <th>101</th>\n      <td>0.541927</td>\n      <td>-2.872353</td>\n      <td>1.886495</td>\n      <td>2.303138</td>\n      <td>-0.039801</td>\n      <td>2.216950</td>\n      <td>0.139858</td>\n      <td>-0.968400</td>\n      <td>-0.489341</td>\n      <td>0.212960</td>\n      <td>0.341287</td>\n      <td>0.068955</td>\n      <td>-0.218029</td>\n      <td>-0.074978</td>\n      <td>0.085397</td>\n      <td>0.107212</td>\n      <td>0.121727</td>\n    </tr>\n    <tr>\n      <th>102</th>\n      <td>-1.062400</td>\n      <td>-3.571319</td>\n      <td>1.813643</td>\n      <td>0.166460</td>\n      <td>0.155044</td>\n      <td>2.155988</td>\n      <td>0.232612</td>\n      <td>-0.731829</td>\n      <td>-0.289843</td>\n      <td>0.298341</td>\n      <td>0.363914</td>\n      <td>0.039731</td>\n      <td>-0.119572</td>\n      <td>-0.216188</td>\n      <td>-0.076610</td>\n      <td>-0.070618</td>\n      <td>-0.016159</td>\n    </tr>\n    <tr>\n      <th>103</th>\n      <td>-2.320303</td>\n      <td>-3.546587</td>\n      <td>2.093196</td>\n      <td>-0.163379</td>\n      <td>-0.071766</td>\n      <td>2.204366</td>\n      <td>0.273531</td>\n      <td>-0.644866</td>\n      <td>0.089901</td>\n      <td>0.336691</td>\n      <td>0.426643</td>\n      <td>-0.078294</td>\n      <td>-0.168756</td>\n      <td>-0.320604</td>\n      <td>-0.077049</td>\n      <td>0.040372</td>\n      <td>-0.096145</td>\n    </tr>\n    <tr>\n      <th>104</th>\n      <td>-3.023571</td>\n      <td>-3.076956</td>\n      <td>2.069260</td>\n      <td>0.130341</td>\n      <td>0.475358</td>\n      <td>2.374736</td>\n      <td>0.428439</td>\n      <td>-0.528846</td>\n      <td>0.291296</td>\n      <td>0.460022</td>\n      <td>0.458555</td>\n      <td>-0.015164</td>\n      <td>0.196570</td>\n      <td>-0.311910</td>\n      <td>-0.107971</td>\n      <td>0.004167</td>\n      <td>-0.316345</td>\n    </tr>\n    <tr>\n      <th>105</th>\n      <td>-3.044525</td>\n      <td>-3.130863</td>\n      <td>0.978786</td>\n      <td>-1.114883</td>\n      <td>1.300013</td>\n      <td>2.188116</td>\n      <td>0.141484</td>\n      <td>-0.467983</td>\n      <td>0.433175</td>\n      <td>0.492289</td>\n      <td>0.370649</td>\n      <td>0.104524</td>\n      <td>-0.070941</td>\n      <td>-0.319022</td>\n      <td>-0.036418</td>\n      <td>-0.054003</td>\n      <td>-0.096067</td>\n    </tr>\n    <tr>\n      <th>106</th>\n      <td>-3.341923</td>\n      <td>-3.168924</td>\n      <td>0.926816</td>\n      <td>-1.000134</td>\n      <td>0.201669</td>\n      <td>1.896771</td>\n      <td>-0.118461</td>\n      <td>-0.619944</td>\n      <td>0.586824</td>\n      <td>0.464288</td>\n      <td>-0.077921</td>\n      <td>0.333720</td>\n      <td>-0.263343</td>\n      <td>-0.250315</td>\n      <td>0.009148</td>\n      <td>0.018730</td>\n      <td>-0.025431</td>\n    </tr>\n    <tr>\n      <th>107</th>\n      <td>-3.349930</td>\n      <td>-1.648323</td>\n      <td>1.499807</td>\n      <td>2.270637</td>\n      <td>-0.095087</td>\n      <td>1.973362</td>\n      <td>0.116525</td>\n      <td>-0.990851</td>\n      <td>0.774219</td>\n      <td>0.054719</td>\n      <td>-0.276256</td>\n      <td>0.623202</td>\n      <td>-0.018430</td>\n      <td>-0.093153</td>\n      <td>-0.033313</td>\n      <td>-0.081462</td>\n      <td>0.039242</td>\n    </tr>\n    <tr>\n      <th>108</th>\n      <td>-4.473209</td>\n      <td>-2.320353</td>\n      <td>1.045261</td>\n      <td>-0.111721</td>\n      <td>0.282159</td>\n      <td>2.094363</td>\n      <td>0.241342</td>\n      <td>-0.768915</td>\n      <td>0.666248</td>\n      <td>-0.150884</td>\n      <td>-0.454298</td>\n      <td>0.418453</td>\n      <td>0.425738</td>\n      <td>-0.168896</td>\n      <td>0.075514</td>\n      <td>-0.215110</td>\n      <td>0.077301</td>\n    </tr>\n    <tr>\n      <th>109</th>\n      <td>-5.014449</td>\n      <td>-2.033821</td>\n      <td>1.018427</td>\n      <td>-0.041871</td>\n      <td>0.018979</td>\n      <td>2.009131</td>\n      <td>0.243683</td>\n      <td>-0.799010</td>\n      <td>0.863547</td>\n      <td>-0.424238</td>\n      <td>-0.825928</td>\n      <td>0.280117</td>\n      <td>0.273566</td>\n      <td>-0.203989</td>\n      <td>0.121604</td>\n      <td>-0.019585</td>\n      <td>-0.095984</td>\n    </tr>\n    <tr>\n      <th>110</th>\n      <td>-4.573521</td>\n      <td>-1.897804</td>\n      <td>-0.112863</td>\n      <td>-0.713011</td>\n      <td>0.840660</td>\n      <td>1.791997</td>\n      <td>0.112997</td>\n      <td>-0.895134</td>\n      <td>0.738151</td>\n      <td>-0.453814</td>\n      <td>-1.117068</td>\n      <td>0.356796</td>\n      <td>0.335969</td>\n      <td>-0.051567</td>\n      <td>0.272470</td>\n      <td>-0.129230</td>\n      <td>-0.134879</td>\n    </tr>\n  </tbody>\n</table>\n</div>"
     },
     "execution_count": 27,
     "metadata": {},
     "output_type": "execute_result"
    }
   ],
   "source": [
    "output[0].tail(11)"
   ],
   "metadata": {
    "collapsed": false,
    "ExecuteTime": {
     "end_time": "2024-05-04T02:45:26.867256700Z",
     "start_time": "2024-05-04T02:45:26.804771600Z"
    }
   }
  },
  {
   "cell_type": "code",
   "execution_count": 28,
   "outputs": [],
   "source": [
    "wgan_x_scaler = load(wgan_x_scaler_path)\n",
    "wgan_y_scaler = load(wgan_y_scaler_path)\n",
    "modelG2 = WGAN.Generator(output[0].shape[1])\n",
    "modelG2.load_state_dict(torch.load(\"trained_gan/modelG1.pth\",map_location=torch.device('cpu')))\n",
    "# modelG2.eval()\n",
    "\n",
    "final = []\n",
    "for i in range(len(output)):\n",
    "    test_x = output[i].tail(11)\n",
    "    test_x = wgan_x_scaler.transform(test_x)\n",
    "    test_x_slide = sliding_window(test_x, sliding_window_size)\n",
    "    pred_y_train, gru_output = modelG2(test_x_slide)\n",
    "    y_test_pred  = wgan_y_scaler.inverse_transform(pred_y_train.detach().numpy())\n",
    "    final.append(y_test_pred[0][0])"
   ],
   "metadata": {
    "collapsed": false,
    "ExecuteTime": {
     "end_time": "2024-05-04T02:45:27.184267200Z",
     "start_time": "2024-05-04T02:45:26.836014300Z"
    }
   }
  },
  {
   "cell_type": "code",
   "execution_count": 29,
   "outputs": [
    {
     "data": {
      "text/plain": "[0.7185311,\n 0.7098002,\n 0.6881038,\n 0.692621,\n 0.71451396,\n 0.70124674,\n 0.7126918,\n 0.6902469,\n 0.71475625,\n 0.7032199,\n 0.7014714,\n 0.71313065,\n 0.6988215,\n 0.71950847,\n 0.7283853,\n 0.73321587]"
     },
     "execution_count": 29,
     "metadata": {},
     "output_type": "execute_result"
    }
   ],
   "source": [
    "final"
   ],
   "metadata": {
    "collapsed": false,
    "ExecuteTime": {
     "end_time": "2024-05-04T02:45:27.199891800Z",
     "start_time": "2024-05-04T02:45:27.184267200Z"
    }
   }
  },
  {
   "cell_type": "code",
   "execution_count": 30,
   "outputs": [
    {
     "data": {
      "text/plain": "<Figure size 640x480 with 1 Axes>",
      "image/png": "[encoded data removed]"
     },
     "metadata": {},
     "output_type": "display_data"
    }
   ],
   "source": [
    "import matplotlib.pyplot as plt\n",
    "\n",
    "# Generate x values starting from 1\n",
    "x_values = range(1, len(final) + 1)\n",
    "\n",
    "# Plot\n",
    "plt.plot(x_values, final, marker='o')\n",
    "plt.xlabel('X values')\n",
    "plt.ylabel('Y values')\n",
    "plt.title('Plot of Y values')\n",
    "plt.grid(True)\n",
    "plt.show()"
   ],
   "metadata": {
    "collapsed": false,
    "ExecuteTime": {
     "end_time": "2024-05-04T02:45:27.458956800Z",
     "start_time": "2024-05-04T02:45:27.208160100Z"
    }
   }
  },
  {
   "cell_type": "code",
   "execution_count": 31,
   "outputs": [
    {
     "data": {
      "text/plain": "<Figure size 640x480 with 1 Axes>",
      "image/png": "[encoded data removed]"
     },
     "metadata": {},
     "output_type": "display_data"
    }
   ],
   "source": [
    "# Apply simple moving average (SMA) with window size 3\n",
    "window_size = 3\n",
    "smoothed_values = np.convolve(final, np.ones(window_size)/window_size, mode='valid')\n",
    "\n",
    "# Plot original and smoothed prediction values\n",
    "plt.plot(range(1, len(final) + 1), final, label='Original', marker='o')\n",
    "plt.plot(range(window_size, len(final) + 1), smoothed_values, label=f'Smoothed (SMA-{window_size})', color='red')\n",
    "plt.xlabel('Time')\n",
    "plt.ylabel('Prediction')\n",
    "plt.title('Original vs. Smoothed Prediction')\n",
    "plt.legend()\n",
    "plt.grid(True)\n",
    "plt.show()"
   ],
   "metadata": {
    "collapsed": false,
    "ExecuteTime": {
     "end_time": "2024-05-04T02:45:27.732171300Z",
     "start_time": "2024-05-04T02:45:27.458956800Z"
    }
   }
  },
  {
   "cell_type": "code",
   "execution_count": 21,
   "outputs": [],
   "source": [],
   "metadata": {
    "collapsed": false,
    "ExecuteTime": {
     "end_time": "2024-05-02T18:11:55.651917700Z",
     "start_time": "2024-05-02T18:11:55.636296Z"
    }
   }
  },
  {
   "cell_type": "code",
   "execution_count": 21,
   "outputs": [],
   "source": [],
   "metadata": {
    "collapsed": false,
    "ExecuteTime": {
     "end_time": "2024-05-02T18:11:55.745643100Z",
     "start_time": "2024-05-02T18:11:55.651917700Z"
    }
   }
  },
  {
   "cell_type": "code",
   "execution_count": 21,
   "outputs": [],
   "source": [],
   "metadata": {
    "collapsed": false,
    "ExecuteTime": {
     "end_time": "2024-05-02T18:11:55.745643100Z",
     "start_time": "2024-05-02T18:11:55.667540200Z"
    }
   }
  },
  {
   "cell_type": "code",
   "execution_count": 21,
   "outputs": [],
   "source": [],
   "metadata": {
    "collapsed": false,
    "ExecuteTime": {
     "end_time": "2024-05-02T18:11:55.745643100Z",
     "start_time": "2024-05-02T18:11:55.683159200Z"
    }
   }
  },
  {
   "cell_type": "code",
   "execution_count": 21,
   "outputs": [],
   "source": [],
   "metadata": {
    "collapsed": false,
    "ExecuteTime": {
     "end_time": "2024-05-02T18:11:55.745643100Z",
     "start_time": "2024-05-02T18:11:55.698782100Z"
    }
   }
  },
  {
   "cell_type": "code",
   "execution_count": 21,
   "outputs": [],
   "source": [],
   "metadata": {
    "collapsed": false,
    "ExecuteTime": {
     "end_time": "2024-05-02T18:11:55.745643100Z",
     "start_time": "2024-05-02T18:11:55.714401800Z"
    }
   }
  },
  {
   "cell_type": "code",
   "execution_count": 21,
   "outputs": [],
   "source": [],
   "metadata": {
    "collapsed": false,
    "ExecuteTime": {
     "end_time": "2024-05-02T18:11:55.745643100Z",
     "start_time": "2024-05-02T18:11:55.730022900Z"
    }
   }
  },
  {
   "cell_type": "code",
   "execution_count": 21,
   "outputs": [],
   "source": [],
   "metadata": {
    "collapsed": false,
    "ExecuteTime": {
     "end_time": "2024-05-02T18:11:55.776889Z",
     "start_time": "2024-05-02T18:11:55.745643100Z"
    }
   }
  },
  {
   "cell_type": "code",
   "execution_count": 21,
   "outputs": [],
   "source": [],
   "metadata": {
    "collapsed": false,
    "ExecuteTime": {
     "end_time": "2024-05-02T18:11:55.839378800Z",
     "start_time": "2024-05-02T18:11:55.761266500Z"
    }
   }
  },
  {
   "cell_type": "code",
   "execution_count": 21,
   "outputs": [],
   "source": [],
   "metadata": {
    "collapsed": false,
    "ExecuteTime": {
     "end_time": "2024-05-02T18:11:55.839378800Z",
     "start_time": "2024-05-02T18:11:55.776889Z"
    }
   }
  },
  {
   "cell_type": "code",
   "execution_count": 21,
   "outputs": [],
   "source": [],
   "metadata": {
    "collapsed": false,
    "ExecuteTime": {
     "end_time": "2024-05-02T18:11:55.839378800Z",
     "start_time": "2024-05-02T18:11:55.792508800Z"
    }
   }
  },
  {
   "cell_type": "code",
   "execution_count": 21,
   "outputs": [],
   "source": [],
   "metadata": {
    "collapsed": false,
    "ExecuteTime": {
     "end_time": "2024-05-02T18:11:55.839378800Z",
     "start_time": "2024-05-02T18:11:55.808130600Z"
    }
   }
  },
  {
   "cell_type": "code",
   "execution_count": 21,
   "outputs": [],
   "source": [],
   "metadata": {
    "collapsed": false,
    "ExecuteTime": {
     "end_time": "2024-05-02T18:11:55.839378800Z",
     "start_time": "2024-05-02T18:11:55.823752200Z"
    }
   }
  },
  {
   "cell_type": "code",
   "execution_count": 21,
   "outputs": [],
   "source": [],
   "metadata": {
    "collapsed": false,
    "ExecuteTime": {
     "end_time": "2024-05-02T18:11:55.870621700Z",
     "start_time": "2024-05-02T18:11:55.839378800Z"
    }
   }
  },
  {
   "cell_type": "code",
   "execution_count": 21,
   "outputs": [],
   "source": [],
   "metadata": {
    "collapsed": false,
    "ExecuteTime": {
     "end_time": "2024-05-02T18:11:55.907478600Z",
     "start_time": "2024-05-02T18:11:55.854994700Z"
    }
   }
  },
  {
   "cell_type": "code",
   "execution_count": 21,
   "outputs": [],
   "source": [],
   "metadata": {
    "collapsed": false,
    "ExecuteTime": {
     "end_time": "2024-05-02T18:11:55.907478600Z",
     "start_time": "2024-05-02T18:11:55.876232300Z"
    }
   }
  },
  {
   "cell_type": "code",
   "execution_count": 21,
   "outputs": [],
   "source": [],
   "metadata": {
    "collapsed": false,
    "ExecuteTime": {
     "end_time": "2024-05-02T18:11:55.907478600Z",
     "start_time": "2024-05-02T18:11:55.876232300Z"
    }
   }
  },
  {
   "cell_type": "code",
   "execution_count": 21,
   "outputs": [],
   "source": [],
   "metadata": {
    "collapsed": false,
    "ExecuteTime": {
     "end_time": "2024-05-02T18:11:55.907478600Z",
     "start_time": "2024-05-02T18:11:55.891855900Z"
    }
   }
  },
  {
   "cell_type": "code",
   "execution_count": 21,
   "outputs": [],
   "source": [],
   "metadata": {
    "collapsed": false,
    "ExecuteTime": {
     "end_time": "2024-05-02T18:11:55.923098700Z",
     "start_time": "2024-05-02T18:11:55.907478600Z"
    }
   }
  },
  {
   "cell_type": "code",
   "execution_count": 21,
   "outputs": [],
   "source": [],
   "metadata": {
    "collapsed": false,
    "ExecuteTime": {
     "end_time": "2024-05-02T18:11:55.969963800Z",
     "start_time": "2024-05-02T18:11:55.923098700Z"
    }
   }
  },
  {
   "cell_type": "code",
   "execution_count": 21,
   "outputs": [],
   "source": [],
   "metadata": {
    "collapsed": false,
    "ExecuteTime": {
     "end_time": "2024-05-02T18:11:55.969963800Z",
     "start_time": "2024-05-02T18:11:55.938720900Z"
    }
   }
  },
  {
   "cell_type": "code",
   "execution_count": 21,
   "outputs": [],
   "source": [],
   "metadata": {
    "collapsed": false,
    "ExecuteTime": {
     "end_time": "2024-05-02T18:11:55.969963800Z",
     "start_time": "2024-05-02T18:11:55.954341600Z"
    }
   }
  },
  {
   "cell_type": "code",
   "execution_count": 21,
   "outputs": [],
   "source": [],
   "metadata": {
    "collapsed": false,
    "ExecuteTime": {
     "end_time": "2024-05-02T18:11:55.985584300Z",
     "start_time": "2024-05-02T18:11:55.969963800Z"
    }
   }
  },
  {
   "cell_type": "code",
   "execution_count": null,
   "outputs": [],
   "source": [],
   "metadata": {
    "collapsed": false
   }
  }
 ]
}
