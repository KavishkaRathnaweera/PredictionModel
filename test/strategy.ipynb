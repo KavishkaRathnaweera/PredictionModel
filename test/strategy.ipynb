{
 "cells": [
  {
   "cell_type": "code",
   "execution_count": 245,
   "id": "4565eb6e",
   "metadata": {
    "ExecuteTime": {
     "end_time": "2024-06-15T08:48:15.053697500Z",
     "start_time": "2024-06-15T08:48:15.006832300Z"
    }
   },
   "outputs": [],
   "source": [
    "import sys\n",
    "sys.path.append(\"../\")"
   ]
  },
  {
   "cell_type": "code",
   "execution_count": 246,
   "id": "d780955e",
   "metadata": {
    "ExecuteTime": {
     "end_time": "2024-06-15T08:48:15.552256900Z",
     "start_time": "2024-06-15T08:48:15.520974300Z"
    }
   },
   "outputs": [],
   "source": [
    "import numpy as np\n",
    "import pandas as pd\n",
    "import matplotlib.pyplot as plt\n",
    "pd.set_option('display.max_columns', None)  # Show all columns\n",
    "import talib as tb\n",
    "from sklearn.preprocessing import MinMaxScaler\n",
    "\n",
    "import gymnasium as gym\n",
    "import numpy as np\n",
    "from stable_baselines3 import PPO\n",
    "from stable_baselines3.common.env_checker import check_env"
   ]
  },
  {
   "cell_type": "markdown",
   "source": [
    "# Data Import"
   ],
   "metadata": {
    "collapsed": false
   },
   "id": "1f5dbfe1171ddcb2"
  },
  {
   "cell_type": "code",
   "execution_count": 247,
   "outputs": [],
   "source": [
    "df_raw = pd.read_pickle(\"EUR_USD_H1.pkl\")"
   ],
   "metadata": {
    "collapsed": false,
    "ExecuteTime": {
     "end_time": "2024-06-15T08:48:22.212822Z",
     "start_time": "2024-06-15T08:48:22.166569200Z"
    }
   },
   "id": "ccff39aad12b5b87"
  },
  {
   "cell_type": "markdown",
   "source": [
    "# Constants"
   ],
   "metadata": {
    "collapsed": false
   },
   "id": "7311828dd8ecefa8"
  },
  {
   "cell_type": "code",
   "execution_count": 248,
   "outputs": [],
   "source": [
    "BUY = 1\n",
    "SELL = -1\n",
    "NONE = 0\n",
    "SLIPPAGE = 0.002\n",
    "PROFIT_FACTOR =20\n",
    "LOSS_FACTOR =-30\n",
    "open = \"mid_o\"\n",
    "close = \"mid_c\"\n",
    "high = \"mid_h\"\n",
    "low = \"mid_l\"\n",
    "volume = \"volume\""
   ],
   "metadata": {
    "collapsed": false,
    "ExecuteTime": {
     "end_time": "2024-06-15T08:48:22.990404400Z",
     "start_time": "2024-06-15T08:48:22.928054500Z"
    }
   },
   "id": "9f6bd9f2737621ab"
  },
  {
   "cell_type": "markdown",
   "source": [
    "# Create Indicators"
   ],
   "metadata": {
    "collapsed": false
   },
   "id": "ebe76707680ceab9"
  },
  {
   "cell_type": "code",
   "execution_count": 249,
   "id": "de82cb9a",
   "metadata": {
    "ExecuteTime": {
     "end_time": "2024-06-15T08:48:23.768634700Z",
     "start_time": "2024-06-15T08:48:23.737392700Z"
    }
   },
   "outputs": [],
   "source": [
    "def ATR(df: pd.DataFrame, n=14):\n",
    "    prev_c = df.mid_c.shift(1)\n",
    "    tr1 = df.mid_h - df.mid_l\n",
    "    tr2 = abs(df.mid_h - prev_c)\n",
    "    tr3 = abs(prev_c - df.mid_l)\n",
    "    tr = pd.DataFrame({'tr1': tr1, 'tr2': tr2, 'tr3': tr3}).max(axis=1)\n",
    "    df[f\"ATR_{n}\"] = tr.rolling(window=n).mean()\n",
    "    return df\n",
    "\n",
    "def SuperTrend(df: pd.DataFrame, n=10, multiplier=3):\n",
    "    hl2 = (df.mid_h + df.mid_l) / 2\n",
    "    df = ATR(df, n=n)\n",
    "    df['basic_ub'] = hl2 + (multiplier * df[f\"ATR_{n}\"])\n",
    "    df['basic_lb'] = hl2 - (multiplier * df[f\"ATR_{n}\"])\n",
    "    df[f'final_ub_{n}'] = 0.0\n",
    "    df[f'final_lb_{n}'] = 0.0\n",
    "    df[f'SuperTrend_{n}'] = 0.0\n",
    "\n",
    "    for i in range(n, len(df)):\n",
    "        df[f'final_ub_{n}'].iat[i] = df['basic_ub'].iat[i] if df['basic_ub'].iat[i] < df[f'final_ub_{n}'].iat[i - 1] or df.mid_c.iat[i - 1] > df[f'final_ub_{n}'].iat[i - 1] else df[f'final_ub_{n}'].iat[i - 1]\n",
    "        df[f'final_lb_{n}'].iat[i] = df['basic_lb'].iat[i] if df['basic_lb'].iat[i] > df[f'final_lb_{n}'].iat[i - 1] or df.mid_c.iat[i - 1] < df[f'final_lb_{n}'].iat[i - 1] else df[f'final_lb_{n}'].iat[i - 1]\n",
    "\n",
    "        if df.mid_c.iat[i] > df[f'final_ub_{n}'].iat[i - 1]:\n",
    "            df[f'SuperTrend_{n}'].iat[i] = df[f'final_ub_{n}'].iat[i]\n",
    "        elif df.mid_c.iat[i] < df[f'final_lb_{n}'].iat[i - 1]:\n",
    "            df[f'SuperTrend_{n}'].iat[i] = df[f'final_lb_{n}'].iat[i]\n",
    "        else:\n",
    "            df[f'SuperTrend_{n}'].iat[i] = df[f'SuperTrend_{n}'].iat[i - 1]\n",
    "\n",
    "    return df\n",
    "\n",
    "def CreateInc(dataset, close, high, low, volume):\n",
    "    new_df = dataset.copy()\n",
    "    # Moving Average\n",
    "    new_df[\"SMA7\"] = tb.SMA(dataset[close], timeperiod=7)\n",
    "    new_df[\"SMA14\"] = tb.SMA(dataset[close], timeperiod=14)\n",
    "    new_df[\"SMA50\"] = tb.SMA(dataset[close], timeperiod=50)\n",
    "    new_df[\"SMA200\"] = tb.SMA(dataset[close], timeperiod=200)\n",
    "    m1 = max(new_df[new_df['SMA200'].isnull()].index)\n",
    "\n",
    "    # Exponential Moving Average\n",
    "    new_df[\"EMA7\"] = tb.EMA(dataset[close], timeperiod=7)\n",
    "    new_df[\"EMA14\"] = tb.EMA(dataset[close], timeperiod=14)\n",
    "    new_df[\"EMA50\"] = tb.EMA(dataset[close], timeperiod=50)\n",
    "    new_df[\"EMA200\"] = tb.EMA(dataset[close], timeperiod=200)\n",
    "    m2 = max(new_df[new_df['EMA200'].isnull()].index)\n",
    "\n",
    "    # Moving Avarage Convergence Divergernce\n",
    "    MACD12, macdsignal12, macdhist12 = tb.MACD(dataset[close], fastperiod=18, slowperiod=6, signalperiod=12)\n",
    "    MACD24, macdsignal24, macdhist24 = tb.MACD(dataset[close], fastperiod=36, slowperiod=12, signalperiod=24)\n",
    "    new_df[\"MACD12\"] = MACD12\n",
    "    new_df[\"MACD24\"] = MACD24\n",
    "    m3 = max(new_df[new_df['MACD24'].isnull()].index)\n",
    "\n",
    "    # Relative Strength Index\n",
    "    new_df[\"RSI12\"] = tb.RSI(dataset[close], timeperiod=12)\n",
    "    new_df[\"RSI24\"] = tb.RSI(dataset[close], timeperiod=24)\n",
    "    m4 = max(new_df[new_df['RSI24'].isnull()].index)\n",
    "\n",
    "    # Average True Range\n",
    "    new_df[\"ATR12\"] = tb.ATR(dataset[high], dataset[low], dataset[close], timeperiod=12)\n",
    "    new_df[\"ATR24\"] = tb.ATR(dataset[high], dataset[low], dataset[close], timeperiod=24)\n",
    "    m5 = max(new_df[new_df['ATR24'].isnull()].index)\n",
    "\n",
    "    # Bolinger Bands\n",
    "    upperband12, middleband12, lowerband12 = tb.BBANDS(dataset[close], timeperiod=12, nbdevup=2, nbdevdn=2, matype=0)\n",
    "    upperband24, middleband24, lowerband24 = tb.BBANDS(dataset[close], timeperiod=24, nbdevup=2, nbdevdn=2, matype=0)\n",
    "    new_df[\"Upperband12\"] = upperband12\n",
    "    new_df[\"Lowerband12\"] = lowerband12\n",
    "    new_df[\"Upperband24\"] = upperband24\n",
    "    new_df[\"Lowerband24\"] = lowerband24\n",
    "    m6 = max(new_df[new_df['Upperband24'].isnull()].index)\n",
    "\n",
    "    # Volume Indicators\n",
    "    new_df[\"OBV\"] = tb.OBV(dataset[close], dataset[volume])\n",
    "    # m8 = max(new_df[new_df[\"OBV\"].isnull()].index)\n",
    "\n",
    "    # Remove NaN values\n",
    "    m = max(m1, m2, m3, m4, m5, m6)\n",
    "    new_df = new_df.loc[m + 1:]\n",
    "    new_df = new_df.reset_index()\n",
    "    new_df = new_df.drop(columns=[\"index\"])\n",
    "\n",
    "    return new_df"
   ]
  },
  {
   "cell_type": "markdown",
   "source": [
    "# Feature Selection"
   ],
   "metadata": {
    "collapsed": false
   },
   "id": "e5c2e0fdf94480b"
  },
  {
   "cell_type": "code",
   "execution_count": 250,
   "id": "a2b1c751",
   "metadata": {
    "ExecuteTime": {
     "end_time": "2024-06-15T08:48:24.598250800Z",
     "start_time": "2024-06-15T08:48:24.567008300Z"
    }
   },
   "outputs": [
    {
     "data": {
      "text/plain": "                           time  volume    mid_o    mid_h    mid_l    mid_c  \\\n0     2015-01-07 00:00:00+00:00     719  1.18724  1.18816  1.18635  1.18697   \n1     2015-01-07 01:00:00+00:00     574  1.18698  1.18806  1.18681  1.18772   \n2     2015-01-07 02:00:00+00:00     356  1.18768  1.18792  1.18695  1.18702   \n3     2015-01-07 03:00:00+00:00     419  1.18702  1.18782  1.18666  1.18760   \n4     2015-01-07 04:00:00+00:00     301  1.18761  1.18781  1.18714  1.18755   \n...                         ...     ...      ...      ...      ...      ...   \n57916 2024-04-29 19:00:00+00:00    3279  1.07246  1.07246  1.07150  1.07211   \n57917 2024-04-29 20:00:00+00:00     958  1.07210  1.07230  1.07195  1.07200   \n57918 2024-04-29 21:00:00+00:00     354  1.07220  1.07228  1.07200  1.07209   \n57919 2024-04-29 22:00:00+00:00     760  1.07212  1.07226  1.07170  1.07174   \n57920 2024-04-29 23:00:00+00:00    1119  1.07173  1.07194  1.07142  1.07148   \n\n         bid_c    ask_c  \n0      1.18690  1.18704  \n1      1.18766  1.18779  \n2      1.18697  1.18708  \n3      1.18755  1.18766  \n4      1.18749  1.18761  \n...        ...      ...  \n57916  1.07204  1.07218  \n57917  1.07191  1.07208  \n57918  1.07197  1.07221  \n57919  1.07166  1.07181  \n57920  1.07140  1.07155  \n\n[57921 rows x 8 columns]",
      "text/html": "<div>\n<style scoped>\n    .dataframe tbody tr th:only-of-type {\n        vertical-align: middle;\n    }\n\n    .dataframe tbody tr th {\n        vertical-align: top;\n    }\n\n    .dataframe thead th {\n        text-align: right;\n    }\n</style>\n<table border=\"1\" class=\"dataframe\">\n  <thead>\n    <tr style=\"text-align: right;\">\n      <th></th>\n      <th>time</th>\n      <th>volume</th>\n      <th>mid_o</th>\n      <th>mid_h</th>\n      <th>mid_l</th>\n      <th>mid_c</th>\n      <th>bid_c</th>\n      <th>ask_c</th>\n    </tr>\n  </thead>\n  <tbody>\n    <tr>\n      <th>0</th>\n      <td>2015-01-07 00:00:00+00:00</td>\n      <td>719</td>\n      <td>1.18724</td>\n      <td>1.18816</td>\n      <td>1.18635</td>\n      <td>1.18697</td>\n      <td>1.18690</td>\n      <td>1.18704</td>\n    </tr>\n    <tr>\n      <th>1</th>\n      <td>2015-01-07 01:00:00+00:00</td>\n      <td>574</td>\n      <td>1.18698</td>\n      <td>1.18806</td>\n      <td>1.18681</td>\n      <td>1.18772</td>\n      <td>1.18766</td>\n      <td>1.18779</td>\n    </tr>\n    <tr>\n      <th>2</th>\n      <td>2015-01-07 02:00:00+00:00</td>\n      <td>356</td>\n      <td>1.18768</td>\n      <td>1.18792</td>\n      <td>1.18695</td>\n      <td>1.18702</td>\n      <td>1.18697</td>\n      <td>1.18708</td>\n    </tr>\n    <tr>\n      <th>3</th>\n      <td>2015-01-07 03:00:00+00:00</td>\n      <td>419</td>\n      <td>1.18702</td>\n      <td>1.18782</td>\n      <td>1.18666</td>\n      <td>1.18760</td>\n      <td>1.18755</td>\n      <td>1.18766</td>\n    </tr>\n    <tr>\n      <th>4</th>\n      <td>2015-01-07 04:00:00+00:00</td>\n      <td>301</td>\n      <td>1.18761</td>\n      <td>1.18781</td>\n      <td>1.18714</td>\n      <td>1.18755</td>\n      <td>1.18749</td>\n      <td>1.18761</td>\n    </tr>\n    <tr>\n      <th>...</th>\n      <td>...</td>\n      <td>...</td>\n      <td>...</td>\n      <td>...</td>\n      <td>...</td>\n      <td>...</td>\n      <td>...</td>\n      <td>...</td>\n    </tr>\n    <tr>\n      <th>57916</th>\n      <td>2024-04-29 19:00:00+00:00</td>\n      <td>3279</td>\n      <td>1.07246</td>\n      <td>1.07246</td>\n      <td>1.07150</td>\n      <td>1.07211</td>\n      <td>1.07204</td>\n      <td>1.07218</td>\n    </tr>\n    <tr>\n      <th>57917</th>\n      <td>2024-04-29 20:00:00+00:00</td>\n      <td>958</td>\n      <td>1.07210</td>\n      <td>1.07230</td>\n      <td>1.07195</td>\n      <td>1.07200</td>\n      <td>1.07191</td>\n      <td>1.07208</td>\n    </tr>\n    <tr>\n      <th>57918</th>\n      <td>2024-04-29 21:00:00+00:00</td>\n      <td>354</td>\n      <td>1.07220</td>\n      <td>1.07228</td>\n      <td>1.07200</td>\n      <td>1.07209</td>\n      <td>1.07197</td>\n      <td>1.07221</td>\n    </tr>\n    <tr>\n      <th>57919</th>\n      <td>2024-04-29 22:00:00+00:00</td>\n      <td>760</td>\n      <td>1.07212</td>\n      <td>1.07226</td>\n      <td>1.07170</td>\n      <td>1.07174</td>\n      <td>1.07166</td>\n      <td>1.07181</td>\n    </tr>\n    <tr>\n      <th>57920</th>\n      <td>2024-04-29 23:00:00+00:00</td>\n      <td>1119</td>\n      <td>1.07173</td>\n      <td>1.07194</td>\n      <td>1.07142</td>\n      <td>1.07148</td>\n      <td>1.07140</td>\n      <td>1.07155</td>\n    </tr>\n  </tbody>\n</table>\n<p>57921 rows × 8 columns</p>\n</div>"
     },
     "execution_count": 250,
     "metadata": {},
     "output_type": "execute_result"
    }
   ],
   "source": [
    "drop_cols = ['bid_o', 'bid_h', 'bid_l', 'ask_o', 'ask_h', 'ask_l']\n",
    "keep_cols = ['mid_o', 'mid_h', 'mid_l', 'mid_c', 'bid_c', 'ask_c']\n",
    "df_raw.drop(drop_cols, axis=1, inplace=True)\n",
    "df_raw"
   ]
  },
  {
   "cell_type": "code",
   "execution_count": 251,
   "id": "c353641e",
   "metadata": {
    "ExecuteTime": {
     "end_time": "2024-06-15T08:48:25.098134100Z",
     "start_time": "2024-06-15T08:48:25.004411900Z"
    }
   },
   "outputs": [],
   "source": [
    "df_idc = CreateInc(df_raw,close,high,low,volume)"
   ]
  },
  {
   "cell_type": "code",
   "execution_count": 252,
   "id": "344ef1b8",
   "metadata": {
    "ExecuteTime": {
     "end_time": "2024-06-15T08:48:47.712970800Z",
     "start_time": "2024-06-15T08:48:25.705336600Z"
    }
   },
   "outputs": [],
   "source": [
    "df_an = df_idc.copy()\n",
    "df_slim = SuperTrend(df_an, n=100, multiplier=1.2)"
   ]
  },
  {
   "cell_type": "code",
   "execution_count": 253,
   "outputs": [
    {
     "data": {
      "text/plain": "                           time  volume    mid_o    mid_h    mid_l    mid_c  \\\n0     2015-01-23 10:00:00+00:00    2564  1.12336  1.12461  1.12196  1.12349   \n1     2015-01-23 11:00:00+00:00    3209  1.12346  1.12480  1.11698  1.11734   \n2     2015-01-23 12:00:00+00:00    8862  1.11734  1.11990  1.11144  1.11868   \n3     2015-01-23 13:00:00+00:00    6365  1.11868  1.12362  1.11656  1.12354   \n4     2015-01-23 14:00:00+00:00    5943  1.12354  1.12616  1.12102  1.12441   \n...                         ...     ...      ...      ...      ...      ...   \n57618 2024-04-29 19:00:00+00:00    3279  1.07246  1.07246  1.07150  1.07211   \n57619 2024-04-29 20:00:00+00:00     958  1.07210  1.07230  1.07195  1.07200   \n57620 2024-04-29 21:00:00+00:00     354  1.07220  1.07228  1.07200  1.07209   \n57621 2024-04-29 22:00:00+00:00     760  1.07212  1.07226  1.07170  1.07174   \n57622 2024-04-29 23:00:00+00:00    1119  1.07173  1.07194  1.07142  1.07148   \n\n         bid_c    ask_c      SMA7     SMA14     SMA50    SMA200      EMA7  \\\n0      1.12342  1.12356  1.130044  1.133121  1.149563  1.162097  1.128849   \n1      1.11717  1.11752  1.127621  1.131744  1.148768  1.161760  1.125972   \n2      1.11859  1.11876  1.125493  1.130435  1.147998  1.161436  1.124149   \n3      1.12345  1.12363  1.124050  1.129637  1.147316  1.161139  1.123997   \n4      1.12430  1.12452  1.122591  1.128798  1.146625  1.160846  1.124100   \n...        ...      ...       ...       ...       ...       ...       ...   \n57618  1.07204  1.07218  1.071741  1.071500  1.071624  1.068393  1.071931   \n57619  1.07191  1.07208  1.072041  1.071533  1.071610  1.068435  1.071948   \n57620  1.07197  1.07221  1.072156  1.071556  1.071593  1.068474  1.071984   \n57621  1.07166  1.07181  1.072164  1.071646  1.071567  1.068515  1.071923   \n57622  1.07140  1.07155  1.072004  1.071646  1.071539  1.068550  1.071812   \n\n          EMA14     EMA50    EMA200    MACD12    MACD24      RSI12      RSI24  \\\n0      1.132962  1.145116  1.160884 -0.006888 -0.009960  14.528687  21.264761   \n1      1.130879  1.144027  1.160451 -0.008110 -0.010871  11.040204  18.203568   \n2      1.129253  1.143033  1.160035 -0.008404 -0.011377  15.843257  20.795902   \n3      1.128491  1.142268  1.159672 -0.007463 -0.011202  30.656480  29.278396   \n4      1.127947  1.141568  1.159321 -0.006480 -0.010882  32.960894  30.665446   \n...         ...       ...       ...       ...       ...        ...        ...   \n57618  1.071670  1.071302  1.069887  0.000402  0.000297  54.339369  52.809904   \n57619  1.071714  1.071330  1.069909  0.000361  0.000308  53.468553  52.392223   \n57620  1.071764  1.071360  1.069930  0.000341  0.000324  54.124742  52.711537   \n57621  1.071761  1.071375  1.069948  0.000254  0.000299  51.069416  51.314874   \n57622  1.071723  1.071379  1.069963  0.000145  0.000250  48.835380  50.282141   \n\n          ATR12     ATR24  Upperband12  Lowerband12  Upperband24  Lowerband24  \\\n0      0.003602  0.003330     1.141877     1.123135     1.158095     1.119001   \n1      0.003953  0.003517     1.143488     1.118629     1.155252     1.118065   \n2      0.004329  0.003723     1.143328     1.115876     1.151217     1.118398   \n3      0.004556  0.003862     1.142031     1.115066     1.147807     1.119081   \n4      0.004605  0.003915     1.140346     1.114769     1.146275     1.118787   \n...         ...       ...          ...          ...          ...          ...   \n57618  0.001245  0.001237     1.073109     1.069841     1.073227     1.069450   \n57619  0.001171  0.001200     1.073141     1.070063     1.073156     1.069744   \n57620  0.001097  0.001162     1.073212     1.070093     1.073095     1.070011   \n57621  0.001052  0.001137     1.073209     1.070091     1.073053     1.070181   \n57622  0.001008  0.001111     1.073211     1.070096     1.073037     1.070261   \n\n            OBV   ATR_100  basic_ub  basic_lb  final_ub_100  final_lb_100  \\\n0     -114740.0  0.002664  1.126482  1.120088      0.000000      0.000000   \n1     -117949.0  0.002712  1.124144  1.117636      1.124144      1.117636   \n2     -109087.0  0.002756  1.118977  1.112363      1.118977      1.112363   \n3     -102722.0  0.002780  1.123426  1.116754      1.118977      1.116754   \n4      -96779.0  0.002805  1.126956  1.120224      1.126956      1.120224   \n...         ...       ...       ...       ...           ...           ...   \n57618 -916395.0  0.001087  1.073284  1.070676      1.073024      1.071230   \n57619 -917353.0  0.001080  1.073421  1.070829      1.073024      1.071230   \n57620 -916999.0  0.001074  1.073429  1.070851      1.073024      1.071230   \n57621 -917759.0  0.001074  1.073269  1.070691      1.073024      1.071230   \n57622 -918878.0  0.001076  1.072971  1.070389      1.072971      1.071230   \n\n       SuperTrend_100  \n0            0.000000  \n1            1.124144  \n2            1.124144  \n3            1.118977  \n4            1.126956  \n...               ...  \n57618        1.073024  \n57619        1.073024  \n57620        1.073024  \n57621        1.073024  \n57622        1.073024  \n\n[57623 rows x 33 columns]",
      "text/html": "<div>\n<style scoped>\n    .dataframe tbody tr th:only-of-type {\n        vertical-align: middle;\n    }\n\n    .dataframe tbody tr th {\n        vertical-align: top;\n    }\n\n    .dataframe thead th {\n        text-align: right;\n    }\n</style>\n<table border=\"1\" class=\"dataframe\">\n  <thead>\n    <tr style=\"text-align: right;\">\n      <th></th>\n      <th>time</th>\n      <th>volume</th>\n      <th>mid_o</th>\n      <th>mid_h</th>\n      <th>mid_l</th>\n      <th>mid_c</th>\n      <th>bid_c</th>\n      <th>ask_c</th>\n      <th>SMA7</th>\n      <th>SMA14</th>\n      <th>SMA50</th>\n      <th>SMA200</th>\n      <th>EMA7</th>\n      <th>EMA14</th>\n      <th>EMA50</th>\n      <th>EMA200</th>\n      <th>MACD12</th>\n      <th>MACD24</th>\n      <th>RSI12</th>\n      <th>RSI24</th>\n      <th>ATR12</th>\n      <th>ATR24</th>\n      <th>Upperband12</th>\n      <th>Lowerband12</th>\n      <th>Upperband24</th>\n      <th>Lowerband24</th>\n      <th>OBV</th>\n      <th>ATR_100</th>\n      <th>basic_ub</th>\n      <th>basic_lb</th>\n      <th>final_ub_100</th>\n      <th>final_lb_100</th>\n      <th>SuperTrend_100</th>\n    </tr>\n  </thead>\n  <tbody>\n    <tr>\n      <th>0</th>\n      <td>2015-01-23 10:00:00+00:00</td>\n      <td>2564</td>\n      <td>1.12336</td>\n      <td>1.12461</td>\n      <td>1.12196</td>\n      <td>1.12349</td>\n      <td>1.12342</td>\n      <td>1.12356</td>\n      <td>1.130044</td>\n      <td>1.133121</td>\n      <td>1.149563</td>\n      <td>1.162097</td>\n      <td>1.128849</td>\n      <td>1.132962</td>\n      <td>1.145116</td>\n      <td>1.160884</td>\n      <td>-0.006888</td>\n      <td>-0.009960</td>\n      <td>14.528687</td>\n      <td>21.264761</td>\n      <td>0.003602</td>\n      <td>0.003330</td>\n      <td>1.141877</td>\n      <td>1.123135</td>\n      <td>1.158095</td>\n      <td>1.119001</td>\n      <td>-114740.0</td>\n      <td>0.002664</td>\n      <td>1.126482</td>\n      <td>1.120088</td>\n      <td>0.000000</td>\n      <td>0.000000</td>\n      <td>0.000000</td>\n    </tr>\n    <tr>\n      <th>1</th>\n      <td>2015-01-23 11:00:00+00:00</td>\n      <td>3209</td>\n      <td>1.12346</td>\n      <td>1.12480</td>\n      <td>1.11698</td>\n      <td>1.11734</td>\n      <td>1.11717</td>\n      <td>1.11752</td>\n      <td>1.127621</td>\n      <td>1.131744</td>\n      <td>1.148768</td>\n      <td>1.161760</td>\n      <td>1.125972</td>\n      <td>1.130879</td>\n      <td>1.144027</td>\n      <td>1.160451</td>\n      <td>-0.008110</td>\n      <td>-0.010871</td>\n      <td>11.040204</td>\n      <td>18.203568</td>\n      <td>0.003953</td>\n      <td>0.003517</td>\n      <td>1.143488</td>\n      <td>1.118629</td>\n      <td>1.155252</td>\n      <td>1.118065</td>\n      <td>-117949.0</td>\n      <td>0.002712</td>\n      <td>1.124144</td>\n      <td>1.117636</td>\n      <td>1.124144</td>\n      <td>1.117636</td>\n      <td>1.124144</td>\n    </tr>\n    <tr>\n      <th>2</th>\n      <td>2015-01-23 12:00:00+00:00</td>\n      <td>8862</td>\n      <td>1.11734</td>\n      <td>1.11990</td>\n      <td>1.11144</td>\n      <td>1.11868</td>\n      <td>1.11859</td>\n      <td>1.11876</td>\n      <td>1.125493</td>\n      <td>1.130435</td>\n      <td>1.147998</td>\n      <td>1.161436</td>\n      <td>1.124149</td>\n      <td>1.129253</td>\n      <td>1.143033</td>\n      <td>1.160035</td>\n      <td>-0.008404</td>\n      <td>-0.011377</td>\n      <td>15.843257</td>\n      <td>20.795902</td>\n      <td>0.004329</td>\n      <td>0.003723</td>\n      <td>1.143328</td>\n      <td>1.115876</td>\n      <td>1.151217</td>\n      <td>1.118398</td>\n      <td>-109087.0</td>\n      <td>0.002756</td>\n      <td>1.118977</td>\n      <td>1.112363</td>\n      <td>1.118977</td>\n      <td>1.112363</td>\n      <td>1.124144</td>\n    </tr>\n    <tr>\n      <th>3</th>\n      <td>2015-01-23 13:00:00+00:00</td>\n      <td>6365</td>\n      <td>1.11868</td>\n      <td>1.12362</td>\n      <td>1.11656</td>\n      <td>1.12354</td>\n      <td>1.12345</td>\n      <td>1.12363</td>\n      <td>1.124050</td>\n      <td>1.129637</td>\n      <td>1.147316</td>\n      <td>1.161139</td>\n      <td>1.123997</td>\n      <td>1.128491</td>\n      <td>1.142268</td>\n      <td>1.159672</td>\n      <td>-0.007463</td>\n      <td>-0.011202</td>\n      <td>30.656480</td>\n      <td>29.278396</td>\n      <td>0.004556</td>\n      <td>0.003862</td>\n      <td>1.142031</td>\n      <td>1.115066</td>\n      <td>1.147807</td>\n      <td>1.119081</td>\n      <td>-102722.0</td>\n      <td>0.002780</td>\n      <td>1.123426</td>\n      <td>1.116754</td>\n      <td>1.118977</td>\n      <td>1.116754</td>\n      <td>1.118977</td>\n    </tr>\n    <tr>\n      <th>4</th>\n      <td>2015-01-23 14:00:00+00:00</td>\n      <td>5943</td>\n      <td>1.12354</td>\n      <td>1.12616</td>\n      <td>1.12102</td>\n      <td>1.12441</td>\n      <td>1.12430</td>\n      <td>1.12452</td>\n      <td>1.122591</td>\n      <td>1.128798</td>\n      <td>1.146625</td>\n      <td>1.160846</td>\n      <td>1.124100</td>\n      <td>1.127947</td>\n      <td>1.141568</td>\n      <td>1.159321</td>\n      <td>-0.006480</td>\n      <td>-0.010882</td>\n      <td>32.960894</td>\n      <td>30.665446</td>\n      <td>0.004605</td>\n      <td>0.003915</td>\n      <td>1.140346</td>\n      <td>1.114769</td>\n      <td>1.146275</td>\n      <td>1.118787</td>\n      <td>-96779.0</td>\n      <td>0.002805</td>\n      <td>1.126956</td>\n      <td>1.120224</td>\n      <td>1.126956</td>\n      <td>1.120224</td>\n      <td>1.126956</td>\n    </tr>\n    <tr>\n      <th>...</th>\n      <td>...</td>\n      <td>...</td>\n      <td>...</td>\n      <td>...</td>\n      <td>...</td>\n      <td>...</td>\n      <td>...</td>\n      <td>...</td>\n      <td>...</td>\n      <td>...</td>\n      <td>...</td>\n      <td>...</td>\n      <td>...</td>\n      <td>...</td>\n      <td>...</td>\n      <td>...</td>\n      <td>...</td>\n      <td>...</td>\n      <td>...</td>\n      <td>...</td>\n      <td>...</td>\n      <td>...</td>\n      <td>...</td>\n      <td>...</td>\n      <td>...</td>\n      <td>...</td>\n      <td>...</td>\n      <td>...</td>\n      <td>...</td>\n      <td>...</td>\n      <td>...</td>\n      <td>...</td>\n      <td>...</td>\n    </tr>\n    <tr>\n      <th>57618</th>\n      <td>2024-04-29 19:00:00+00:00</td>\n      <td>3279</td>\n      <td>1.07246</td>\n      <td>1.07246</td>\n      <td>1.07150</td>\n      <td>1.07211</td>\n      <td>1.07204</td>\n      <td>1.07218</td>\n      <td>1.071741</td>\n      <td>1.071500</td>\n      <td>1.071624</td>\n      <td>1.068393</td>\n      <td>1.071931</td>\n      <td>1.071670</td>\n      <td>1.071302</td>\n      <td>1.069887</td>\n      <td>0.000402</td>\n      <td>0.000297</td>\n      <td>54.339369</td>\n      <td>52.809904</td>\n      <td>0.001245</td>\n      <td>0.001237</td>\n      <td>1.073109</td>\n      <td>1.069841</td>\n      <td>1.073227</td>\n      <td>1.069450</td>\n      <td>-916395.0</td>\n      <td>0.001087</td>\n      <td>1.073284</td>\n      <td>1.070676</td>\n      <td>1.073024</td>\n      <td>1.071230</td>\n      <td>1.073024</td>\n    </tr>\n    <tr>\n      <th>57619</th>\n      <td>2024-04-29 20:00:00+00:00</td>\n      <td>958</td>\n      <td>1.07210</td>\n      <td>1.07230</td>\n      <td>1.07195</td>\n      <td>1.07200</td>\n      <td>1.07191</td>\n      <td>1.07208</td>\n      <td>1.072041</td>\n      <td>1.071533</td>\n      <td>1.071610</td>\n      <td>1.068435</td>\n      <td>1.071948</td>\n      <td>1.071714</td>\n      <td>1.071330</td>\n      <td>1.069909</td>\n      <td>0.000361</td>\n      <td>0.000308</td>\n      <td>53.468553</td>\n      <td>52.392223</td>\n      <td>0.001171</td>\n      <td>0.001200</td>\n      <td>1.073141</td>\n      <td>1.070063</td>\n      <td>1.073156</td>\n      <td>1.069744</td>\n      <td>-917353.0</td>\n      <td>0.001080</td>\n      <td>1.073421</td>\n      <td>1.070829</td>\n      <td>1.073024</td>\n      <td>1.071230</td>\n      <td>1.073024</td>\n    </tr>\n    <tr>\n      <th>57620</th>\n      <td>2024-04-29 21:00:00+00:00</td>\n      <td>354</td>\n      <td>1.07220</td>\n      <td>1.07228</td>\n      <td>1.07200</td>\n      <td>1.07209</td>\n      <td>1.07197</td>\n      <td>1.07221</td>\n      <td>1.072156</td>\n      <td>1.071556</td>\n      <td>1.071593</td>\n      <td>1.068474</td>\n      <td>1.071984</td>\n      <td>1.071764</td>\n      <td>1.071360</td>\n      <td>1.069930</td>\n      <td>0.000341</td>\n      <td>0.000324</td>\n      <td>54.124742</td>\n      <td>52.711537</td>\n      <td>0.001097</td>\n      <td>0.001162</td>\n      <td>1.073212</td>\n      <td>1.070093</td>\n      <td>1.073095</td>\n      <td>1.070011</td>\n      <td>-916999.0</td>\n      <td>0.001074</td>\n      <td>1.073429</td>\n      <td>1.070851</td>\n      <td>1.073024</td>\n      <td>1.071230</td>\n      <td>1.073024</td>\n    </tr>\n    <tr>\n      <th>57621</th>\n      <td>2024-04-29 22:00:00+00:00</td>\n      <td>760</td>\n      <td>1.07212</td>\n      <td>1.07226</td>\n      <td>1.07170</td>\n      <td>1.07174</td>\n      <td>1.07166</td>\n      <td>1.07181</td>\n      <td>1.072164</td>\n      <td>1.071646</td>\n      <td>1.071567</td>\n      <td>1.068515</td>\n      <td>1.071923</td>\n      <td>1.071761</td>\n      <td>1.071375</td>\n      <td>1.069948</td>\n      <td>0.000254</td>\n      <td>0.000299</td>\n      <td>51.069416</td>\n      <td>51.314874</td>\n      <td>0.001052</td>\n      <td>0.001137</td>\n      <td>1.073209</td>\n      <td>1.070091</td>\n      <td>1.073053</td>\n      <td>1.070181</td>\n      <td>-917759.0</td>\n      <td>0.001074</td>\n      <td>1.073269</td>\n      <td>1.070691</td>\n      <td>1.073024</td>\n      <td>1.071230</td>\n      <td>1.073024</td>\n    </tr>\n    <tr>\n      <th>57622</th>\n      <td>2024-04-29 23:00:00+00:00</td>\n      <td>1119</td>\n      <td>1.07173</td>\n      <td>1.07194</td>\n      <td>1.07142</td>\n      <td>1.07148</td>\n      <td>1.07140</td>\n      <td>1.07155</td>\n      <td>1.072004</td>\n      <td>1.071646</td>\n      <td>1.071539</td>\n      <td>1.068550</td>\n      <td>1.071812</td>\n      <td>1.071723</td>\n      <td>1.071379</td>\n      <td>1.069963</td>\n      <td>0.000145</td>\n      <td>0.000250</td>\n      <td>48.835380</td>\n      <td>50.282141</td>\n      <td>0.001008</td>\n      <td>0.001111</td>\n      <td>1.073211</td>\n      <td>1.070096</td>\n      <td>1.073037</td>\n      <td>1.070261</td>\n      <td>-918878.0</td>\n      <td>0.001076</td>\n      <td>1.072971</td>\n      <td>1.070389</td>\n      <td>1.072971</td>\n      <td>1.071230</td>\n      <td>1.073024</td>\n    </tr>\n  </tbody>\n</table>\n<p>57623 rows × 33 columns</p>\n</div>"
     },
     "execution_count": 253,
     "metadata": {},
     "output_type": "execute_result"
    }
   ],
   "source": [
    "df_slim.dropna(inplace=True)\n",
    "df_slim.reset_index(drop=True, inplace=True)\n",
    "df_slim"
   ],
   "metadata": {
    "collapsed": false,
    "ExecuteTime": {
     "end_time": "2024-06-15T08:48:47.791520700Z",
     "start_time": "2024-06-15T08:48:47.712970800Z"
    }
   },
   "id": "259d2b29488c4e65"
  },
  {
   "cell_type": "code",
   "execution_count": 254,
   "outputs": [
    {
     "data": {
      "text/plain": "Series([], dtype: int64)"
     },
     "execution_count": 254,
     "metadata": {},
     "output_type": "execute_result"
    }
   ],
   "source": [
    "df_slim.isnull().sum()[df_slim.isnull().sum() > 0]"
   ],
   "metadata": {
    "collapsed": false,
    "ExecuteTime": {
     "end_time": "2024-06-15T08:48:47.791520700Z",
     "start_time": "2024-06-15T08:48:47.775899800Z"
    }
   },
   "id": "d8f8e5e069c845bf"
  },
  {
   "cell_type": "markdown",
   "source": [
    "# Create signals - Do not run this if you dont want to  include"
   ],
   "metadata": {
    "collapsed": false
   },
   "id": "3f95e42c99970733"
  },
  {
   "cell_type": "code",
   "execution_count": 255,
   "id": "9563015e",
   "metadata": {
    "ExecuteTime": {
     "end_time": "2024-06-15T08:48:47.807179Z",
     "start_time": "2024-06-15T08:48:47.791520700Z"
    }
   },
   "outputs": [],
   "source": [
    "# def apply_signal(row):\n",
    "#     if row.final_lb_100 != NONE and row.final_ub_100 != NONE:\n",
    "#         if row.mid_c > row.final_ub_100:\n",
    "#             return BUY\n",
    "#         if row.mid_c < row.final_lb_100:\n",
    "#             return SELL\n",
    "#     return NONE   \n",
    "# \n",
    "# df_slim[\"SIGNAL\"] = df_slim.apply(apply_signal, axis=1)\n",
    "# # Function to apply trade direction logic\n",
    "# def apply_trade_direction(row, prev_non_zero_signal):\n",
    "#     current_signal = row['SIGNAL']\n",
    "#     if current_signal == 0:\n",
    "#         return prev_non_zero_signal\n",
    "#     elif prev_non_zero_signal is not None and current_signal == prev_non_zero_signal:\n",
    "#         return prev_non_zero_signal\n",
    "#     else:\n",
    "#         return current_signal\n",
    "#     \n",
    "# # Variable to keep track of the last non-zero signal\n",
    "# prev_non_zero_signal = None\n",
    "# results = []\n",
    "# \n",
    "# for index, row in df_slim.iterrows():\n",
    "#     result = apply_trade_direction(row, prev_non_zero_signal)\n",
    "#     results.append(result)\n",
    "#     if row['SIGNAL'] != 0:\n",
    "#         prev_non_zero_signal = row['SIGNAL']  # Update the last non-zero signal    \n",
    "#         \n",
    "# df_slim['Trade_Direction'] = results   \n",
    "# df_slim[\"Trade_Direction\"].value_counts()\n",
    "# df_slim['Direction'] = df_slim['Trade_Direction'].diff().apply(lambda x: 1 if x > 0 else (-1 if x < 0 else 0))"
   ]
  },
  {
   "cell_type": "markdown",
   "id": "71c6fa1e",
   "metadata": {},
   "source": [
    "# Calculate Ratios"
   ]
  },
  {
   "cell_type": "code",
   "execution_count": 256,
   "id": "e30baa59",
   "metadata": {
    "ExecuteTime": {
     "end_time": "2024-06-15T08:48:47.854004600Z",
     "start_time": "2024-06-15T08:48:47.807179Z"
    }
   },
   "outputs": [],
   "source": [
    "def calculate_sharpe_ratio(returns, risk_free_rate=0.0):\n",
    "    mean_return = np.mean(returns)\n",
    "    std_dev = np.std(returns)\n",
    "    sharpe_ratio = (mean_return - risk_free_rate) / std_dev\n",
    "    return sharpe_ratio\n",
    "\n",
    "def calculate_sortino_ratio(returns, risk_free_rate=0.0):\n",
    "    downside_returns = returns[returns < 0]\n",
    "    downside_std_dev = np.std(downside_returns)\n",
    "    mean_return = np.mean(returns)\n",
    "    sortino_ratio = (mean_return - risk_free_rate) / downside_std_dev\n",
    "    return sortino_ratio\n",
    "\n",
    "def calculate_max_drawdown(cumulative_returns):\n",
    "    peak = np.maximum.accumulate(cumulative_returns)\n",
    "    if np.all(peak != 0):\n",
    "        drawdown = (cumulative_returns - peak) / peak\n",
    "        max_drawdown = drawdown.min()\n",
    "        return max_drawdown\n",
    "    else:\n",
    "        return 0"
   ]
  },
  {
   "cell_type": "markdown",
   "source": [
    "# Class Model"
   ],
   "metadata": {
    "collapsed": false
   },
   "id": "32d31b515743b76a"
  },
  {
   "cell_type": "code",
   "execution_count": 257,
   "id": "9fe983e4",
   "metadata": {
    "ExecuteTime": {
     "end_time": "2024-06-15T08:48:47.901582800Z",
     "start_time": "2024-06-15T08:48:47.838383700Z"
    }
   },
   "outputs": [],
   "source": [
    "class Trade:\n",
    "    def __init__(self, row, trade_amount, pip_size, signal, profit_factor, loss_factor):\n",
    "        self.running = True\n",
    "        self.start_index = row.name\n",
    "        self.start_price = row.mid_c\n",
    "        self.trigger_price = row.mid_c\n",
    "        self.result = 0.0\n",
    "        self.profit = 0\n",
    "        # self.end_time = row.time\n",
    "        # self.start_time = row.time\n",
    "        self.duration = 0\n",
    "        self.reason_for_exit = None\n",
    "        self.pip_size = pip_size\n",
    "        self.signal = signal\n",
    "         # Calculate TP and SL inside the class\n",
    "\n",
    "        if self.signal == BUY:\n",
    "            self.TP = self.start_price + (self.pip_size * profit_factor)\n",
    "            self.SL =  self.start_price - (self.pip_size * loss_factor )\n",
    "        elif self.signal == SELL:\n",
    "            self.TP = self.start_price - (self.pip_size * profit_factor)\n",
    "            self.SL =self.start_price + (self.pip_size * loss_factor)\n",
    "        \n",
    "        # Calculate the risk per trade in pips and the position size\n",
    "        self.risk_per_trade_pips = abs(self.start_price - self.SL) / self.pip_size\n",
    "\n",
    "        # Initialize initial cash and percent to trade\n",
    "        self.trade_amount = trade_amount\n",
    "        #trade properties\n",
    "        self.trade_size_units = self.trade_size()\n",
    "        self.trade_size_shares = self.trade_size_shares()\n",
    "\n",
    "        # Validate SL and TP to ensure proper setup\n",
    "        if (self.signal == BUY and self.SL >= self.start_price) or (self.signal == SELL and self.SL <= self.start_price):\n",
    "            self.close_trade(row, None, self.start_price, \"Slippage\")\n",
    "\n",
    "    def close_trade(self, row, result, trigger_price, reason,profit):\n",
    "        self.running = False\n",
    "        self.result = result\n",
    "        self.profit = profit\n",
    "        # self.end_time = row.time\n",
    "        self.trigger_price = trigger_price\n",
    "        self.reason_for_exit = reason\n",
    "        \n",
    "    def pip_value_per_units(self):\n",
    "        return self.pip_size/self.start_price\n",
    "    \n",
    "    def trade_size(self):\n",
    "        #returns the trade size in units \n",
    "        return self.trade_amount/(self.risk_per_trade_pips*self.pip_value_per_units())\n",
    "    \n",
    "    def trade_size_shares(self):\n",
    "        return (self.trade_size_units*self.pip_size)/self.start_price\n",
    "\n",
    "    def update(self, row):\n",
    "        self.duration += 1\n",
    "        if self.running :\n",
    "            if self.signal == BUY:\n",
    "                if row.mid_h >= self.TP:\n",
    "                    result = (self.TP - self.start_price)/self.pip_size\n",
    "                    profit = (result/self.risk_per_trade_pips)*self.trade_amount\n",
    "                    self.close_trade(row, result, self.TP, 'Take_Profit', round(profit, 2))\n",
    "                elif row.mid_c <= self.SL:\n",
    "                    result = (self.SL - self.start_price)/self.pip_size\n",
    "                    profit = (result/self.risk_per_trade_pips)*self.trade_amount\n",
    "                    self.close_trade(row, result, self.SL, 'Stop_Loss', round(profit, 2))\n",
    "            elif self.signal == SELL:\n",
    "                if row.mid_l <= self.TP:\n",
    "                    result = (self.start_price - self.TP) /self.pip_size\n",
    "                    profit = (result/self.risk_per_trade_pips)*self.trade_amount\n",
    "                    self.close_trade(row, result,  self.TP, 'Take_Profit',round(profit, 2))\n",
    "                elif row.mid_c >= self.SL:\n",
    "                    result = (self.start_price - self.SL)/self.pip_size #row.mid_h\n",
    "                    profit = (result/self.risk_per_trade_pips)*self.trade_amount\n",
    "                    self.close_trade(row, result, self.SL, 'Stop_Loss', round(profit, 2))\n",
    "\n",
    "    def is_opposite(self, signal):\n",
    "        return (self.signal == BUY and signal == SELL) or (self.signal == SELL and signal == BUY)\n"
   ]
  },
  {
   "cell_type": "markdown",
   "id": "dbdfc361",
   "metadata": {},
   "source": []
  },
  {
   "cell_type": "markdown",
   "source": [
    "# Create Environment"
   ],
   "metadata": {
    "collapsed": false
   },
   "id": "9d5485e54e5e8c1f"
  },
  {
   "cell_type": "code",
   "execution_count": 258,
   "outputs": [],
   "source": [
    "def initialize_observation_space(observation_features):\n",
    "    if observation_features is None:\n",
    "        # default features if features not given\n",
    "        observation_features = [\n",
    "            'mid_c', 'SMA7', 'SMA14', 'SMA50',\n",
    "            'EMA7', 'EMA14', 'EMA50', 'EMA200', \n",
    "            'MACD12', 'MACD23', 'ATR12', 'ATR24', \n",
    "            'OBV', 'Lowerband12', 'Upperband12', 'sharpe_ratio', 'cumulative_value', \n",
    "            'current_trade_value', 'cash'\n",
    "        ]\n",
    "    observation_space = gym.spaces.Box(\n",
    "        low=-np.inf, high=np.inf, shape=(len(observation_features)+5,), dtype=np.float32)\n",
    "    return observation_space\n",
    "\n",
    "# return profit factor and loss factor according to action type.\n",
    "'''\n",
    "0.  No trade\n",
    "i.\tBuy with TP Level 1 and SL Level 1\n",
    "ii.\tBuy with TP Level 2 and SL Level 2\n",
    "iii Buy with TP Level 3 and SL Level 3\n",
    "iv.\tSell with TP Level 1 and SL Level 1\n",
    "v.\tSell with TP Level 2 and SL Level 2\n",
    "vi.\tSell with TP Level 3 and SL Level 3\n",
    "'''\n",
    "def get_loss_and_profit_factor(action_type):\n",
    "    if action_type == 1 or action_type == 4:\n",
    "        return 10,20\n",
    "    elif action_type == 2 or action_type == 5:\n",
    "        return 20,30\n",
    "    elif action_type == 3 or action_type == 6:\n",
    "        return 30,40\n",
    "    else:\n",
    "        return 10,10\n",
    "\n",
    "'''\n",
    "Action type 0 is for No trade\n",
    "Action type 1,2,3 is for Buy trade\n",
    "Action type 4,5,6 is for Sell trade\n",
    "'''    \n",
    "def action_signal_map(action_type):\n",
    "    if action_type == 0:\n",
    "        return NONE\n",
    "    elif action_type == 1 or action_type == 2 or action_type == 3:\n",
    "        return BUY\n",
    "    elif action_type == 4 or action_type == 5 or action_type == 6:\n",
    "        return SELL\n",
    "    else:\n",
    "        return None"
   ],
   "metadata": {
    "collapsed": false,
    "ExecuteTime": {
     "end_time": "2024-06-15T08:48:54.020364Z",
     "start_time": "2024-06-15T08:48:54.004760500Z"
    }
   },
   "id": "6a715c18471b1ce1"
  },
  {
   "cell_type": "markdown",
   "source": [
    "## Environment implementation"
   ],
   "metadata": {
    "collapsed": false
   },
   "id": "8f2a340d5865f497"
  },
  {
   "cell_type": "code",
   "execution_count": 259,
   "metadata": {
    "ExecuteTime": {
     "end_time": "2024-06-15T08:48:55.780469500Z",
     "start_time": "2024-06-15T08:48:55.749201800Z"
    }
   },
   "outputs": [],
   "source": [
    "'''\n",
    "Change environmental variables when trades are closed only\n",
    "No updates of shares\n",
    "Profit or loss will be added to cash balance after trad is closed.\n",
    "Similar to the previous implementation.\n",
    "'''\n",
    "\n",
    "class StockTradingEnv(gym.Env):\n",
    "    def __init__(self, data, init_cash,recalc_period, observation_features=None):\n",
    "        # Define the action space as a 2D vector representing the action type (buy or sell) and number of shares to trade\n",
    "        self.recalc_period = recalc_period\n",
    "        self.action_space = gym.spaces.MultiDiscrete([7, 11])  # [action, percentage of cash ]\n",
    "        self.observation_features = observation_features\n",
    "        # Create observation_space using given features - Enable customization\n",
    "        self.observation_space = initialize_observation_space(observation_features)\n",
    "\n",
    "        # Store the historical stock data, initial cash balance, and commission rate as instance variables\n",
    "        self.data = data\n",
    "        self.initial_cash = init_cash\n",
    "        self.end_step = len(self.data) - 1\n",
    "        # Reset the environment to its initial state\n",
    "        self.reset()\n",
    "\n",
    "    def reset(self, seed=0):\n",
    "        # Set the current step to 0 and reset the state variables\n",
    "        self.current_step = 0\n",
    "        self.profits = 0\n",
    "        self.returns = []\n",
    "        self.cash = self.initial_cash # initial cash amount.\n",
    "        self.cash_available = self.initial_cash # Available cash to trade\n",
    "        self.prev_cash = 0\n",
    "        self.sharpe_ratio = 0\n",
    "        self.prev_sharpe_ratio = 0\n",
    "        self.sortino_ratio = 0\n",
    "        self.max_drawdown = 0\n",
    "        self.open_trades = []\n",
    "        self.close_trades = []\n",
    "        self.metrics = []\n",
    "        self.portfolio_values = []\n",
    "        self.done = False\n",
    "        # Return the initial observation\n",
    "        return self._get_obs(),{}\n",
    "\n",
    "    def step(self, action):\n",
    "        # You can decide what should return by action. For example, I took action type with percentage of cash. then did the rest of implementation\n",
    "        # If you need to return action type with number of shares, you need to change below if conditions and calculations accordingly.\n",
    "        # I took cash percentage_to_trade since, it can be valid for any stock. \n",
    "        action_type, percentage_to_trade = action\n",
    "        close_price = self.data.iloc[self.current_step][close]\n",
    "        prev_close_price = self.data.iloc[self.current_step-1][close]\n",
    "\n",
    "        # Close opposite trades\n",
    "        if action_signal_map(action_type) != NONE:\n",
    "            for ot in self.open_trades:\n",
    "                if ot.is_opposite(action_signal_map(action_type)):\n",
    "                    if ot.signal == BUY:\n",
    "                        result = (close_price - ot.start_price) / ot.pip_size\n",
    "                        profit = (result / ot.risk_per_trade_pips) * ot.trade_amount\n",
    "                        ot.close_trade(self.data.iloc[self.current_step], result, close_price, 'Opposite_Signal', round(profit, 2))\n",
    "                    elif ot.signal == SELL:\n",
    "                        result = (ot.start_price - close_price) / ot.pip_size\n",
    "                        profit = (result / ot.risk_per_trade_pips) * ot.trade_amount\n",
    "                        ot.close_trade(self.data.iloc[self.current_step], result, close_price, 'Opposite_Signal', round(profit, 2))\n",
    "\n",
    "        # Update Current trades\n",
    "        self.prev_cash = self.cash\n",
    "        for ot in self.open_trades:\n",
    "            ot.update(self.data.iloc[self.current_step])\n",
    "            if not ot.running:\n",
    "                self.close_trades.append(ot)\n",
    "                self.profits += ot.profit\n",
    "                self.returns.append(ot.profit / self.initial_cash)\n",
    "                self.cash += ot.profit\n",
    "                if ot.signal == BUY:\n",
    "                    # After buy trade close, increase available cash amout\n",
    "                    self.cash_available += ot.trigger_price*ot.trade_size_shares\n",
    "\n",
    "        # Remove closed trades from open trades list\n",
    "        self.open_trades = [x for x in self.open_trades if x.running]    \n",
    "        # Update variables in each step\n",
    "        self.update_env_variables(len(self.close_trades))\n",
    "        \n",
    "        # Start new trade\n",
    "        if action_type != 0:\n",
    "            # calculate cost of the trade\n",
    "            cost = self.cash * percentage_to_trade/100\n",
    "            # Get profit & loss factor according to action type\n",
    "            profit_factor, loss_factor = get_loss_and_profit_factor(action_type)\n",
    "            if close_price >4:\n",
    "                pip_size = 0.01\n",
    "            else:\n",
    "                pip_size = 0.0001\n",
    "            # Action type 1,2,3 is for buy trades    \n",
    "            if action_type == 1 or action_type == 2 or action_type == 3:\n",
    "                if self.cash_available > 0: # Enter to buy trade, if available cash is sufficient\n",
    "                    trade = Trade(self.data.iloc[self.current_step], cost, pip_size, action_signal_map(action_type), profit_factor, loss_factor)\n",
    "                    self.open_trades.append(trade)\n",
    "                    # Reduce available cash amount after enter to buy trade\n",
    "                    self.cash_available -= cost\n",
    "            # Action type 4,5,6 is for sell trades            \n",
    "            if action_type == 4 or action_type == 5 or action_type == 6:\n",
    "                    trade = Trade(self.data.iloc[self.current_step], cost, pip_size, action_signal_map(action_type), profit_factor, loss_factor)\n",
    "                    self.open_trades.append(trade)\n",
    "        else:\n",
    "            pass  # No Trade Action\n",
    "\n",
    "        self.current_step += 1\n",
    "\n",
    "        # Calculate the reward based on the change in portfolio value at each step. this include cumulative profit.\n",
    "        # get the percentage because need to add sharp ratio and other rewards. All rewards should be in same range\n",
    "        reward =  self.get_sharpe_ratio_reward() + self.get_portfolio_reward(close_price, prev_close_price) + self.get_cumulative_profit_reward()\n",
    "        done = (self.current_step == self.end_step)\n",
    "        self.portfolio_values.append(self.cash)\n",
    "        return self._get_obs(), reward, done, done, {}\n",
    "\n",
    "    def _get_obs(self):\n",
    "        # Calculate the observation vector for the current step\n",
    "        obs_env_values = [self.cash, self.profits,  self.sharpe_ratio, self.sortino_ratio, self.max_drawdown]\n",
    "        obs_indicators = [self.data[feature][self.current_step] if feature in self.data else getattr(self, feature) for feature in self.observation_features]\n",
    "        # Return the observation vector as a numpy array\n",
    "        return np.array(obs_env_values+obs_indicators, dtype=np.float32)\n",
    "\n",
    "    def update_env_variables(self, current_trade_count):\n",
    "        if current_trade_count % 40 == 0 and current_trade_count > 0:\n",
    "            self.prev_sharpe_ratio = self.sharpe_ratio\n",
    "            self.sharpe_ratio = calculate_sharpe_ratio(np.array(self.returns))\n",
    "            self.sortino_ratio = calculate_sortino_ratio(np.array(self.returns))\n",
    "            self.max_drawdown = calculate_max_drawdown(np.cumsum(self.returns))\n",
    "            self.metrics.append({\n",
    "            'trade_count': len(self.close_trades),\n",
    "            'sharpe_ratio': self.sharpe_ratio,\n",
    "            'sortino_ratio': self.sortino_ratio,\n",
    "            'max_drawdown': self.max_drawdown})\n",
    "\n",
    "    def get_sharpe_ratio_reward(self):\n",
    "        if self.prev_sharpe_ratio != 0:\n",
    "            return (self.sharpe_ratio - self.prev_sharpe_ratio)/self.prev_sharpe_ratio\n",
    "        else:\n",
    "            return 0\n",
    "\n",
    "    def get_portfolio_reward(self, close_price, prev_close_price):\n",
    "        if self.prev_cash != 0:\n",
    "            return (self.cash - self.prev_cash)/self.prev_cash\n",
    "        else:\n",
    "            return 0\n",
    "    def get_cumulative_profit_reward(self):\n",
    "        if self.initial_cash != 0:\n",
    "            return self.profits/self.initial_cash\n",
    "        else:\n",
    "            return 0\n",
    "\n",
    "    def set_test_data(self, test_data):\n",
    "        self.data = test_data\n",
    "        self.end_step = len(test_data) - 1    "
   ],
   "id": "ab9bd50ed9782cbd"
  },
  {
   "cell_type": "markdown",
   "source": [
    "## Simulation"
   ],
   "metadata": {
    "collapsed": false
   },
   "id": "c4361f324c783118"
  },
  {
   "cell_type": "code",
   "execution_count": 265,
   "outputs": [
    {
     "name": "stdout",
     "output_type": "stream",
     "text": [
      "Using cuda device\n",
      "Wrapping the env with a `Monitor` wrapper\n",
      "Wrapping the env in a DummyVecEnv.\n",
      "-----------------------------\n",
      "| time/              |      |\n",
      "|    fps             | 252  |\n",
      "|    iterations      | 1    |\n",
      "|    time_elapsed    | 8    |\n",
      "|    total_timesteps | 2048 |\n",
      "-----------------------------\n"
     ]
    }
   ],
   "source": [
    "# Set train data and test data\n",
    "train_size = int(len(df_slim) * 0.8)\n",
    "train_data = df_slim[:train_size]\n",
    "test_data = df_slim[train_size:]\n",
    "test_data.reset_index(drop=True, inplace=True)\n",
    "# Initialize the environment\n",
    "init_cash = 10000\n",
    "init_share = 0\n",
    "recalc_period = 40\n",
    "observation_features = ['mid_c', 'SMA7', 'SMA14', 'SMA50', 'EMA7', 'EMA14', 'EMA50', 'EMA200', 'MACD12', 'MACD24', 'ATR12', 'ATR24', 'OBV', 'Lowerband12', 'Upperband12']\n",
    "env = StockTradingEnv(data=train_data, init_cash=init_cash, recalc_period=recalc_period, observation_features=observation_features)\n",
    "\n",
    "# Check if the environment follows the Gym API\n",
    "check_env(env)\n",
    "\n",
    "# Create the PPO agent\n",
    "model = PPO('MlpPolicy', env, verbose=1)\n",
    "\n",
    "# Train the agent\n",
    "model.learn(total_timesteps=1000)\n",
    "\n",
    "# Test the agent\n",
    "env.set_test_data(test_data) # Set test to the env\n",
    "obs,info = env.reset() # reset env to test\n",
    "done = False\n",
    "while not done:\n",
    "    action, _states = model.predict(obs)\n",
    "    obs, rewards, done, truncate, info = env.step(action)"
   ],
   "metadata": {
    "collapsed": false,
    "ExecuteTime": {
     "end_time": "2024-06-15T08:52:52.451290400Z",
     "start_time": "2024-06-15T08:52:10.699827900Z"
    }
   },
   "id": "76177cefa744ad7a"
  },
  {
   "cell_type": "markdown",
   "source": [
    "## Results"
   ],
   "metadata": {
    "collapsed": false
   },
   "id": "b47df6352c191226"
  },
  {
   "cell_type": "code",
   "execution_count": 266,
   "outputs": [
    {
     "name": "stdout",
     "output_type": "stream",
     "text": [
      "     trade_count  sharpe_ratio  sortino_ratio  max_drawdown\n",
      "0             40      0.207187       0.215505     -1.769526\n",
      "1             80      0.049018       0.052717     -1.769526\n",
      "2             80      0.049018       0.052717     -1.769526\n",
      "3             80      0.049018       0.052717     -1.769526\n",
      "4             80      0.049018       0.052717     -1.769526\n",
      "..           ...           ...            ...           ...\n",
      "241         5000     -0.005747      -0.004973     -1.769526\n",
      "242         5080     -0.005434      -0.004699     -1.769526\n",
      "243         5080     -0.005434      -0.004699     -1.769526\n",
      "244         5080     -0.005434      -0.004699     -1.769526\n",
      "245         5080     -0.005434      -0.004699     -1.769526\n",
      "\n",
      "[246 rows x 4 columns]\n",
      "1370.599999999622\n"
     ]
    },
    {
     "data": {
      "text/plain": "<Figure size 1000x600 with 1 Axes>",
      "image/png": "[encoded data removed]"
     },
     "metadata": {},
     "output_type": "display_data"
    }
   ],
   "source": [
    "# Evaluate the results\n",
    "final_portfolio_value = env.cash\n",
    "returns = env.returns\n",
    "df_results = pd.DataFrame([vars(trade) for trade in env.close_trades])\n",
    "metrics = env.metrics\n",
    "portfolio_values = env.portfolio_values\n",
    "# Convert the metrics list to a DataFrame and append to dfresult\n",
    "df_metrics = pd.DataFrame(metrics)\n",
    "print(df_metrics)\n",
    "total_result = df_results['result'].sum()\n",
    "print(total_result)\n",
    "\n",
    "plt.figure(figsize=(10, 6))\n",
    "plt.plot(portfolio_values, marker='o')  # Using a marker to show each data point\n",
    "plt.title('Cumulative Sum of Activities')\n",
    "plt.xlabel('Index')\n",
    "plt.ylabel('Cumulative Sum')\n",
    "plt.grid(True)\n",
    "plt.show()"
   ],
   "metadata": {
    "collapsed": false,
    "ExecuteTime": {
     "end_time": "2024-06-15T08:53:04.363283400Z",
     "start_time": "2024-06-15T08:53:04.021335Z"
    }
   },
   "id": "691ad349860934b3"
  },
  {
   "cell_type": "markdown",
   "source": [
    "## Another extra Implementation of Environment - Remove if you dont want"
   ],
   "metadata": {
    "collapsed": false
   },
   "id": "2a5c669827813b97"
  },
  {
   "cell_type": "code",
   "execution_count": 262,
   "id": "c66e1a5c",
   "metadata": {
    "ExecuteTime": {
     "end_time": "2024-06-15T08:50:13.163678500Z",
     "start_time": "2024-06-15T08:50:13.148057100Z"
    }
   },
   "outputs": [],
   "source": [
    "'''\n",
    "Keep cash balance & share balance, and update in both trade open and close events.\n",
    "Can evaluate portfolio value of for each step. Even no any trade is closed, portfolio value is changed when mid_c is changed.\n",
    "'''\n",
    "import logging\n",
    "\n",
    "logging.basicConfig(level=logging.DEBUG)\n",
    "\n",
    "class StockTradingEnv_2(gym.Env):\n",
    "    def __init__(self, data, init_cash, init_share,recalc_period, observation_features=None):\n",
    "        super(StockTradingEnv_2, self).__init__()\n",
    "        # Define the action space as a 2D vector representing the action type (buy or sell) and number of shares to trade\n",
    "        self.recalc_period = recalc_period\n",
    "        self.action_space = gym.spaces.MultiDiscrete([7, 11])  # [action, number of shares]\n",
    "        self.observation_features = observation_features\n",
    "        self.observation_space = initialize_observation_space(observation_features)\n",
    "        \n",
    "        # Store the historical stock data, initial cash balance, and commission rate as instance variables\n",
    "        self.data = data\n",
    "        self.initial_cash = init_cash\n",
    "        self.initial_share = init_share\n",
    "        self.end_step = len(self.data) - 1\n",
    "        self.s = False\n",
    "        # Reset the environment to its initial state\n",
    "        self.reset()\n",
    "\n",
    "    def reset(self,seed=0):\n",
    "        # Set the current step to 0 and reset the state variables\n",
    "        self.current_step = 0\n",
    "        self.profits = 0\n",
    "        self.returns = []\n",
    "        self.share = self.initial_share # initial share amount.\n",
    "        self.share_buy_trade = 0 # tempory shares got from buy trades. Need to calculate portfolio value and change for each trade.\n",
    "        self.cash = self.initial_cash # initial cash amount.\n",
    "        self.cash_sell_trade = 0 # tempory cash got from sell trades. Need to calculate portfolio value and change for each trade.\n",
    "        self.sharpe_ratio = 0\n",
    "        self.prev_sharpe_ratio = 0\n",
    "        self.sortino_ratio = 0\n",
    "        self.max_drawdown = 0\n",
    "        self.open_trades = []\n",
    "        self.close_trades = []\n",
    "        self.done = False\n",
    "        self.portfolio_values = []\n",
    "        self.metrics = []\n",
    "        # Return the initial observation\n",
    "        return self._get_obs(),{}\n",
    "\n",
    "    def step(self, action):\n",
    "        # You can decide what should return by action. For example, I took action type with percentage of cash. then did the rest of implementation\n",
    "        # If you need to return action type with number of shares, you need to change below if conditions and calculations accordingly.\n",
    "        # I took cash percentage_to_trade since, it can be valid for any stock. \n",
    "        action_type, percentage_to_trade = action\n",
    "        close_price = self.data.iloc[self.current_step][close]\n",
    "        prev_close_price = self.data.iloc[self.current_step-1][close]\n",
    "        \n",
    "        # Close opposite trades\n",
    "        if action_signal_map(action_type) != NONE:\n",
    "            for ot in self.open_trades:\n",
    "                if ot.is_opposite(action_signal_map(action_type)):\n",
    "                    if ot.signal == BUY:\n",
    "                        result = (close_price - ot.start_price) / ot.pip_size\n",
    "                        profit = (result / ot.risk_per_trade_pips) * ot.trade_amount\n",
    "                        ot.close_trade(self.data.iloc[self.current_step], result, close_price, 'Opposite_Signal', round(profit, 2))\n",
    "                    elif ot.signal == SELL:\n",
    "                        result = (ot.start_price - close_price) / ot.pip_size\n",
    "                        profit = (result / ot.risk_per_trade_pips) * ot.trade_amount\n",
    "                        ot.close_trade(self.data.iloc[self.current_step], result, close_price, 'Opposite_Signal', round(profit, 2))\n",
    "        \n",
    "        # Update Current trades\n",
    "        # Update existing trades\n",
    "        for ot in self.open_trades:\n",
    "            ot.update(self.data.iloc[self.current_step])\n",
    "            if not ot.running:\n",
    "                self.close_trades.append(ot)\n",
    "                self.profits += ot.profit\n",
    "                self.returns.append(ot.profit / self.initial_cash)\n",
    "                if ot.signal == BUY :\n",
    "                    self.cash += (ot.trigger_price * ot.trade_size_shares)\n",
    "                    self.share_buy_trade  -= ot.trade_size_shares\n",
    "                elif ot.signal == SELL:\n",
    "                    self.share -= ot.trade_size_shares\n",
    "                    self.cash_sell_trade += (ot.trigger_price * ot.trade_size_shares)\n",
    "                    \n",
    "        # Remove closed trades from open trades list\n",
    "        self.open_trades = [x for x in self.open_trades if x.running]            \n",
    "        self.update_env_variables(len(self.close_trades))\n",
    "        # Start new trade\n",
    "        if action_type != 0:\n",
    "            cost = self.cash * percentage_to_trade/100\n",
    "            profit_factor, loss_factor = get_loss_and_profit_factor(action_type)\n",
    "            if close_price >4:\n",
    "                pip_size = 0.01\n",
    "            else:\n",
    "                pip_size = 0.0001\n",
    "            if action_type == 1 or action_type == 2 or action_type == 3:\n",
    "                if self.cash > 0:\n",
    "                    trade = Trade(self.data.iloc[self.current_step], cost, pip_size, action_signal_map(action_type), profit_factor, loss_factor)\n",
    "                    self.open_trades.append(trade)\n",
    "                    self.cash -= cost\n",
    "                    self.share_buy_trade  += trade.trade_size_shares\n",
    "            if action_type == 4 or action_type == 5 or action_type == 6:\n",
    "                    trade = Trade(self.data.iloc[self.current_step], cost, pip_size, action_signal_map(action_type), profit_factor, loss_factor)\n",
    "                    self.open_trades.append(trade)\n",
    "                    self.share -= trade.trade_size_shares\n",
    "                    self.cash_sell_trade += cost\n",
    "        else:\n",
    "            pass  # No Trade Action\n",
    "           \n",
    "        self.current_step += 1\n",
    "        # Calculate the total portfolio value\n",
    "        \n",
    "        \n",
    "        # Calculate the reward based on the change in portfolio value at each step. this include cumulative profit.\n",
    "        # get the percentage because need to add sharp ratio and other rewards. All rewards should be in same range\n",
    "        reward = self.get_sharpe_ratio_reward() + self.get_portfolio_reward(close_price, prev_close_price) + self.get_cumulative_profit_reward()\n",
    "        done = (self.current_step == self.end_step)\n",
    "        # logging.debug(f\"Step: {self.current_step}, Cash: {self.cash}, Shares: {self.share}, Reward: {reward}, share_buy_trade: {self.share_buy_trade}, cash_sell_trade {self.cash_sell_trade}, percentage: {percentage_to_trade}\")\n",
    "        return self._get_obs(), reward, done, done, {}\n",
    "\n",
    "    def _get_obs(self):\n",
    "        # Calculate the observation vector for the current step\n",
    "        obs_env_values = [self.cash, self.profits,  self.sharpe_ratio, self.sortino_ratio, self.max_drawdown]\n",
    "        obs_indicators = [self.data[feature][self.current_step] if feature in self.data else getattr(self, feature) for feature in self.observation_features]\n",
    "        obs_full = obs_env_values + obs_indicators\n",
    "        obs_full = np.clip(obs_full, -1e10, 1e10)\n",
    "        # Return the observation vector as a numpy array\n",
    "        return np.array(obs_full, dtype=np.float32)\n",
    "    \n",
    "    def update_env_variables(self, current_trade_count):\n",
    "        if current_trade_count % 40 == 0 and current_trade_count > 0:\n",
    "            self.prev_sharpe_ratio = self.sharpe_ratio\n",
    "            self.sharpe_ratio = calculate_sharpe_ratio(np.array(self.returns))\n",
    "            self.sortino_ratio = calculate_sortino_ratio(np.array(self.returns))\n",
    "            self.max_drawdown = calculate_max_drawdown(np.cumsum(self.returns))\n",
    "            self.metrics.append({\n",
    "            'trade_count': len(self.close_trades),\n",
    "            'sharpe_ratio': self.sharpe_ratio,\n",
    "            'sortino_ratio': self.sortino_ratio,\n",
    "            'max_drawdown': self.max_drawdown})\n",
    "            \n",
    "    def get_sharpe_ratio_reward(self):\n",
    "        if self.prev_sharpe_ratio != 0:\n",
    "            return (self.sharpe_ratio - self.prev_sharpe_ratio)/self.prev_sharpe_ratio\n",
    "        else:\n",
    "            return 0\n",
    "        \n",
    "    def get_portfolio_reward(self, close_price, prev_close_price):\n",
    "        portfolio_value = (self.cash + self.cash_sell_trade) + ((self.share+self.share_buy_trade) * close_price)\n",
    "        self.portfolio_values.append(portfolio_value)\n",
    "        prev_portfolio_value = (self.cash + self.cash_sell_trade) + ((self.share+self.share_buy_trade) * prev_close_price)\n",
    "        if prev_portfolio_value != 0:\n",
    "            return (portfolio_value - prev_portfolio_value)/prev_portfolio_value\n",
    "        else:\n",
    "            return 0\n",
    "    def get_cumulative_profit_reward(self):\n",
    "        if self.initial_cash != 0:\n",
    "            return self.profits/self.initial_cash\n",
    "        else:\n",
    "            return 0\n",
    "        \n",
    "    def set_test_data(self, test_data):    \n",
    "        self.data = test_data\n",
    "        self.end_step = len(test_data) - 1"
   ]
  },
  {
   "cell_type": "code",
   "execution_count": 263,
   "outputs": [
    {
     "name": "stdout",
     "output_type": "stream",
     "text": [
      "Using cuda device\n",
      "Wrapping the env with a `Monitor` wrapper\n",
      "Wrapping the env in a DummyVecEnv.\n",
      "-----------------------------\n",
      "| time/              |      |\n",
      "|    fps             | 235  |\n",
      "|    iterations      | 1    |\n",
      "|    time_elapsed    | 8    |\n",
      "|    total_timesteps | 2048 |\n",
      "-----------------------------\n"
     ]
    }
   ],
   "source": [
    "train_size = int(len(df_slim) * 0.8)\n",
    "train_data = df_slim[:train_size]\n",
    "test_data = df_slim[train_size:]\n",
    "test_data.reset_index(drop=True, inplace=True)\n",
    "# Initialize the environment\n",
    "init_cash = 10000\n",
    "init_share = 0\n",
    "recalc_period = 40\n",
    "observation_features = ['mid_c', 'SMA7', 'SMA14', 'SMA50', 'EMA7', 'EMA14', 'EMA50', 'EMA200', 'MACD12', 'MACD24', 'ATR12', 'ATR24', 'OBV', 'Lowerband12', 'Upperband12']\n",
    "env = StockTradingEnv_2(data=train_data, init_cash=init_cash, init_share=init_share, recalc_period=recalc_period, observation_features=observation_features)\n",
    "\n",
    "# Check if the environment follows the Gym API\n",
    "check_env(env)\n",
    "\n",
    "# Create the DQN agent\n",
    "model = PPO('MlpPolicy', env, verbose=1)\n",
    "\n",
    "# Train the agent\n",
    "model.learn(total_timesteps=100)\n",
    "\n",
    "# Test the agent\n",
    "env.set_test_data(test_data)\n",
    "obs,info = env.reset()\n",
    "done = False\n",
    "while not done:\n",
    "    action, _states = model.predict(obs)\n",
    "    obs, rewards, done, truncate, info = env.step(action)\n"
   ],
   "metadata": {
    "collapsed": false,
    "ExecuteTime": {
     "end_time": "2024-06-15T08:51:01.525547500Z",
     "start_time": "2024-06-15T08:50:15.787447100Z"
    }
   },
   "id": "97171a695b230568"
  },
  {
   "cell_type": "code",
   "execution_count": 264,
   "outputs": [
    {
     "name": "stdout",
     "output_type": "stream",
     "text": [
      "     trade_count  sharpe_ratio  sortino_ratio  max_drawdown\n",
      "0             80      0.298076       0.293130     -0.845876\n",
      "1            120      0.222936       0.238512     -0.845876\n",
      "2            120      0.222936       0.238512     -0.845876\n",
      "3            160      0.192294       0.210354     -0.845876\n",
      "4            160      0.192294       0.210354     -0.845876\n",
      "..           ...           ...            ...           ...\n",
      "273         9600      0.024287       0.005310     -0.845876\n",
      "274         9600      0.024287       0.005310     -0.845876\n",
      "275         9680      0.024186       0.005266     -0.845876\n",
      "276         9680      0.024186       0.005266     -0.845876\n",
      "277         9680      0.024186       0.005266     -0.845876\n",
      "\n",
      "[278 rows x 4 columns]\n",
      "4561.5999999992755\n"
     ]
    },
    {
     "data": {
      "text/plain": "<Figure size 1000x600 with 1 Axes>",
      "image/png": "[encoded data removed]"
     },
     "metadata": {},
     "output_type": "display_data"
    }
   ],
   "source": [
    "# Evaluate the results\n",
    "final_cash = env.cash\n",
    "final_shares = env.share + env.share_buy_trade\n",
    "final_portfolio_value = final_cash + final_shares * test_data.iloc[env.current_step - 1][close]\n",
    "returns = env.returns\n",
    "df_results = pd.DataFrame([vars(trade) for trade in env.close_trades])\n",
    "metrics = env.metrics\n",
    "portfolio_values = env.portfolio_values\n",
    "\n",
    "# Convert the metrics list to a DataFrame and append to dfresult\n",
    "df_metrics = pd.DataFrame(metrics)\n",
    "print(df_metrics)\n",
    "total_result = df_results['result'].sum()\n",
    "print(total_result)\n",
    "\n",
    "plt.figure(figsize=(10, 6))\n",
    "plt.plot(portfolio_values)  # Using a marker to show each data point\n",
    "plt.title('Cumulative Sum of Activities')\n",
    "plt.xlabel('Index')\n",
    "plt.ylabel('Cumulative Sum')\n",
    "plt.grid(True)\n",
    "plt.show()"
   ],
   "metadata": {
    "collapsed": false,
    "ExecuteTime": {
     "end_time": "2024-06-15T08:51:02.534246900Z",
     "start_time": "2024-06-15T08:51:02.244165800Z"
    }
   },
   "id": "22bfeb2144fcb00c"
  },
  {
   "cell_type": "code",
   "execution_count": null,
   "outputs": [],
   "source": [],
   "metadata": {
    "collapsed": false
   },
   "id": "90d883c4998bef68"
  }
 ],
 "metadata": {
  "kernelspec": {
   "display_name": "Python 3 (ipykernel)",
   "language": "python",
   "name": "python3"
  },
  "language_info": {
   "codemirror_mode": {
    "name": "ipython",
    "version": 3
   },
   "file_extension": ".py",
   "mimetype": "text/x-python",
   "name": "python",
   "nbconvert_exporter": "python",
   "pygments_lexer": "ipython3",
   "version": "3.9.6"
  }
 },
 "nbformat": 4,
 "nbformat_minor": 5
}
