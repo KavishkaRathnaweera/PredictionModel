{
 "cells": [
  {
   "cell_type": "code",
   "execution_count": 1,
   "id": "initial_id",
   "metadata": {
    "collapsed": true,
    "ExecuteTime": {
     "end_time": "2024-02-02T05:42:40.598367500Z",
     "start_time": "2024-02-02T05:42:40.136051600Z"
    }
   },
   "outputs": [],
   "source": [
    "import websocket\n",
    "import mysql.connector\n",
    "import json\n",
    "import ast"
   ]
  },
  {
   "cell_type": "markdown",
   "source": [
    "Connect to Database"
   ],
   "metadata": {
    "collapsed": false
   },
   "id": "7621ac7742f53abf"
  },
  {
   "cell_type": "code",
   "execution_count": 17,
   "outputs": [],
   "source": [
    "def insert_table(table_name, D):\n",
    "    try:\n",
    "        print(D)\n",
    "        mydb = mysql.connector.connect(\n",
    "          host=\"localhost\",\n",
    "          user=\"root\",\n",
    "          password=\"password\",\n",
    "          database=\"crypto\"\n",
    "        )\n",
    "        cursor = mydb.cursor()\n",
    "        query = f\"insert into {table_name} values({D['E']},{D['k']['t']},{D['k']['T']},{D['k']['o']},{D['k']['c']},{D['k']['h']},{D['k']['l']}, {D['k']['v']},{D['k']['n']},{D['k']['x']},{D['k']['q']},{D['k']['V']},{D['k']['Q']})\"\n",
    "        cursor.execute(query)\n",
    "        mydb.commit()\n",
    "    except:\n",
    "        print(\"There is a problem with MySQL\")   \n",
    "        \n",
    "def get_raw_table(symbol,interval):\n",
    "    try:\n",
    "        mydb = mysql.connector.connect(\n",
    "            host=\"localhost\",\n",
    "            user=\"root\",\n",
    "            password=\"password\",\n",
    "            database=\"crypto\"\n",
    "        )\n",
    "        cursor = mydb.cursor(dictionary=True)\n",
    "        query = f\"SELECT m01_tab_s FROM m01_mapping WHERE m01_symbol = '{symbol}' AND m01_interval = '{interval}';\"\n",
    "        cursor.execute(query)\n",
    "        result = cursor.fetchone()\n",
    "        if result:\n",
    "            return result['m01_tab_s']\n",
    "        else:\n",
    "            return None\n",
    "    except Exception as e:\n",
    "        print(f\"There is a problem with MySQL table name: {e}\")\n",
    "        return None\n",
    "        \n",
    "def get_last_timestamp(symbol, interval):\n",
    "    try:\n",
    "        table_name = get_raw_table(symbol,interval)\n",
    "        print(table_name)\n",
    "        mydb = mysql.connector.connect(\n",
    "            host=\"localhost\",\n",
    "            user=\"root\",\n",
    "            password=\"password\",\n",
    "            database=\"crypto\"\n",
    "        )\n",
    "        cursor = mydb.cursor(dictionary=True)\n",
    "        query = f\"SELECT MAX(event_time) as event_time FROM {table_name};\"\n",
    "        cursor.execute(query)\n",
    "        result = cursor.fetchone()\n",
    "        if result and result['event_time']:\n",
    "            return result['event_time']\n",
    "        else:\n",
    "            return None\n",
    "    except Exception as e:\n",
    "        print(f\"There is a problem with MySQL last event time: {e}\")\n",
    "        return None\n",
    "    "
   ],
   "metadata": {
    "collapsed": false,
    "ExecuteTime": {
     "end_time": "2024-02-02T05:53:39.268892900Z",
     "start_time": "2024-02-02T05:53:39.258771600Z"
    }
   },
   "id": "db58596d25d577de"
  },
  {
   "cell_type": "markdown",
   "source": [
    "Stream from Binance API"
   ],
   "metadata": {
    "collapsed": false
   },
   "id": "8c00268d558a68a5"
  },
  {
   "cell_type": "code",
   "execution_count": 23,
   "outputs": [],
   "source": [
    "api_key = 'HGuZ0EOwG2CgAAq7CLx7JjLCTNHd2NL5BzqBAfa8qiuQkcVBaUySB'\n",
    "api_secret = 'QGaXTPSjsROXj24O7y5AxYH1CjAWNFqssmmHOEb5HCAzoIfY3gEs3ZhSGgfDg2C6'\n",
    "\n",
    "def on_message(ws, message):\n",
    "    try:\n",
    "        data = json.loads(message)\n",
    "        insert_table('s01_btcusdt_15m',data)\n",
    "    except json.JSONDecodeError as e:\n",
    "        print(f\"Error decoding JSON: {e}\")    \n",
    "\n",
    "def on_error(ws, error):\n",
    "    print(error)\n",
    "    \n",
    "def on_close(close_message):\n",
    "    print(close_message)\n",
    "    \n",
    "def streamKline(symbol, interval):\n",
    "    last_time_stamp = get_last_timestamp(symbol,interval)\n",
    "    socket = f'wss://stream.binance.com:9443/ws/{symbol}@kline_{interval}'\n",
    "    ws = websocket.WebSocketApp(socket,\n",
    "                                on_message=on_message,\n",
    "                                on_error=on_error,\n",
    "                                on_close=on_close)\n",
    "    ws.run_forever()"
   ],
   "metadata": {
    "collapsed": false,
    "ExecuteTime": {
     "end_time": "2024-02-02T06:20:30.485243900Z",
     "start_time": "2024-02-02T06:20:30.468534800Z"
    }
   },
   "id": "f04ad38a8a30b1da"
  },
  {
   "cell_type": "code",
   "execution_count": 23,
   "outputs": [],
   "source": [],
   "metadata": {
    "collapsed": false,
    "ExecuteTime": {
     "end_time": "2024-02-02T06:20:33.205959100Z",
     "start_time": "2024-02-02T06:20:33.185219Z"
    }
   },
   "id": "a4b9bd6e648a3050"
  },
  {
   "cell_type": "code",
   "execution_count": 24,
   "outputs": [
    {
     "name": "stdout",
     "output_type": "stream",
     "text": [
      "s01_btcusdt_15m\n",
      "Handshake status 400 Bad Request\n",
      "<websocket._app.WebSocketApp object at 0x000001627D8C07C0>\n"
     ]
    }
   ],
   "source": [
    "streamKline('btcusdt', '15m')"
   ],
   "metadata": {
    "collapsed": false,
    "ExecuteTime": {
     "end_time": "2024-02-02T06:20:35.027316300Z",
     "start_time": "2024-02-02T06:20:34.337100400Z"
    }
   },
   "id": "18cd76b449b39b12"
  },
  {
   "cell_type": "code",
   "execution_count": 22,
   "outputs": [
    {
     "name": "stdout",
     "output_type": "stream",
     "text": [
      "s01_btcusdt_15m\n"
     ]
    },
    {
     "data": {
      "text/plain": "1706854381827"
     },
     "execution_count": 22,
     "metadata": {},
     "output_type": "execute_result"
    }
   ],
   "source": [
    "get_last_timestamp('btcusdt', '15m')"
   ],
   "metadata": {
    "collapsed": false,
    "ExecuteTime": {
     "end_time": "2024-02-02T06:19:25.516505900Z",
     "start_time": "2024-02-02T06:19:25.479513200Z"
    }
   },
   "id": "feac60ae003a0fdd"
  },
  {
   "cell_type": "code",
   "execution_count": null,
   "outputs": [],
   "source": [],
   "metadata": {
    "collapsed": false
   },
   "id": "90839f78bd42fb67"
  }
 ],
 "metadata": {
  "kernelspec": {
   "display_name": "Python 3",
   "language": "python",
   "name": "python3"
  },
  "language_info": {
   "codemirror_mode": {
    "name": "ipython",
    "version": 2
   },
   "file_extension": ".py",
   "mimetype": "text/x-python",
   "name": "python",
   "nbconvert_exporter": "python",
   "pygments_lexer": "ipython2",
   "version": "2.7.6"
  }
 },
 "nbformat": 4,
 "nbformat_minor": 5
}
