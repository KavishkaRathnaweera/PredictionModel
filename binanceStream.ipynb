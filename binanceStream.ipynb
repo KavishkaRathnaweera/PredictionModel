{
 "cells": [
  {
   "cell_type": "code",
   "execution_count": 1,
   "id": "initial_id",
   "metadata": {
    "collapsed": true,
    "ExecuteTime": {
     "end_time": "2024-05-03T05:42:06.101593200Z",
     "start_time": "2024-05-03T05:42:02.520568200Z"
    }
   },
   "outputs": [],
   "source": [
    "import websocket\n",
    "import json\n",
    "import time\n",
    "from binance import Client\n",
    "import lib.DB_lib as dbl\n",
    "import Constants"
   ]
  },
  {
   "cell_type": "code",
   "execution_count": 4,
   "outputs": [
    {
     "name": "stdout",
     "output_type": "stream",
     "text": [
      "s01_maticusdt_15m\n",
      "1714746600000\n",
      "1714790695991\n",
      "maticusdt\n",
      "15m\n",
      "48\n"
     ]
    }
   ],
   "source": [
    "columns = ['open_time', 'open', 'high', 'low', 'close', 'volume', 'close_time', 'quote_taker_ast_vol', 'no_of_trades'\n",
    "        , 'buy_base_ast_vol', 'taker_buy_quote_ast_vol','ignore']\n",
    "api_key = 'HGuZ0EOwG2CgAAq7CLx7JjLCTNHd2NL5BzqBAfa8qiuQkcVBaUySB'\n",
    "api_secret = 'QGaXTPSjsROXj24O7y5AxYH1CjAWNFqssmmHOEb5HCAzoIfY3gEs3ZhSGgfDg2C6'\n",
    "symbol = Constants.symbol\n",
    "interval = Constants.interval\n",
    "crypto_interval = ''\n",
    "if interval == '5m':\n",
    "    crypto_interval = Client.KLINE_INTERVAL_5MINUTE\n",
    "elif interval == '15m':\n",
    "    crypto_interval = Client.KLINE_INTERVAL_15MINUTE\n",
    "elif interval == '30m':\n",
    "    crypto_interval = Client.KLINE_INTERVAL_30MINUTE\n",
    "elif interval == '1h':\n",
    "    crypto_interval = Client.KLINE_INTERVAL_1HOUR\n",
    "elif interval == '4h':\n",
    "    crypto_interval = Client.KLINE_INTERVAL_4HOUR    \n",
    "\n",
    "table_name = dbl.get_raw_table(symbol,interval)\n",
    "l = []\n",
    "\n",
    "def get_historical_data(asset,start_time, end_time):\n",
    "    client = Client(api_key, api_secret)\n",
    "    klines = client.get_historical_klines(asset, Client.KLINE_INTERVAL_5MINUTE,start_time,end_time)\n",
    "    return klines\n",
    "\n",
    "def on_message(ws, message):\n",
    "    try:\n",
    "        data = json.loads(message)\n",
    "        if data['k']['x'] == True:\n",
    "            l.append(data)\n",
    "            dbl.insert_table_stream(table_name,data)\n",
    "    except json.JSONDecodeError as e:\n",
    "        print(f\"Error decoding JSON: {e}\")    \n",
    "\n",
    "def on_error(ws, error):\n",
    "    print(error)\n",
    "    \n",
    "def on_close(close_message):\n",
    "    print(close_message)\n",
    "    \n",
    "def streamKline(symbol, interval):\n",
    "    socket = f'wss://stream.binance.com:9443/ws/{symbol}@kline_{interval}'\n",
    "    ws = websocket.WebSocketApp(socket,\n",
    "                                on_message=on_message,\n",
    "                                on_error=on_error,\n",
    "                                on_close=on_close)\n",
    "    ws.run_forever()\n",
    "    \n",
    "\n",
    "\n",
    "def get_crypto_data(symbol,interval):\n",
    "     last_time_stamp = dbl.get_last_timestamp(symbol,interval)\n",
    "     current_time_stamp = int(time.time() * 1000)\n",
    "     # last_time_stamp = 1598898600000\n",
    "     print(last_time_stamp)\n",
    "     print(current_time_stamp)\n",
    "     print(symbol)\n",
    "     print(crypto_interval)\n",
    "     client = Client(api_key, api_secret)\n",
    "     klines = client.get_historical_klines(symbol.upper(), crypto_interval,last_time_stamp+1000,current_time_stamp)\n",
    "     print(len(klines))\n",
    "     if len(klines)>0:\n",
    "         dbl.insert_table_historical(table_name,klines[:-1])\n",
    "     # streamKline(symbol, interval)\n",
    "     \n",
    "get_crypto_data(symbol, interval)       "
   ],
   "metadata": {
    "collapsed": false,
    "ExecuteTime": {
     "end_time": "2024-05-04T02:44:57.697632300Z",
     "start_time": "2024-05-04T02:44:55.976314900Z"
    }
   },
   "id": "f04ad38a8a30b1da"
  },
  {
   "cell_type": "code",
   "execution_count": null,
   "outputs": [],
   "source": [],
   "metadata": {
    "collapsed": false
   },
   "id": "55f49bccc13929b3"
  }
 ],
 "metadata": {
  "kernelspec": {
   "display_name": "Python 3",
   "language": "python",
   "name": "python3"
  },
  "language_info": {
   "codemirror_mode": {
    "name": "ipython",
    "version": 2
   },
   "file_extension": ".py",
   "mimetype": "text/x-python",
   "name": "python",
   "nbconvert_exporter": "python",
   "pygments_lexer": "ipython2",
   "version": "2.7.6"
  }
 },
 "nbformat": 4,
 "nbformat_minor": 5
}
